{
 "cells": [
  {
   "cell_type": "markdown",
   "id": "1daf8c09-64ff-443e-b9f9-12369d391a05",
   "metadata": {},
   "source": [
    "# Number system\n",
    "\n",
    "> decimal number system base 10\n",
    "\n",
    "> octal number system   \"0o\", 0,1,2,3,4,5,6,7 ; base 8\n",
    "\n",
    "> hexdecimal number system \"0x\", base of hex: 0,1,2,3,4,5,6,7,8,9,a,b,c,d,e,f base 16\n",
    "\n",
    "> Binary number system  \"0b\" , base of binary 0,1 ; base 2\n"
   ]
  },
  {
   "cell_type": "code",
   "execution_count": 1,
   "id": "b914ac3d-946b-4063-a63c-8188a4743a61",
   "metadata": {
    "tags": []
   },
   "outputs": [],
   "source": [
    "a=10\n",
    "b=20"
   ]
  },
  {
   "cell_type": "code",
   "execution_count": 2,
   "id": "4b9dcd4d-261e-4546-92d3-59db8a39eb04",
   "metadata": {
    "tags": []
   },
   "outputs": [
    {
     "name": "stdout",
     "output_type": "stream",
     "text": [
      "30\n"
     ]
    }
   ],
   "source": [
    "print(a+b)"
   ]
  },
  {
   "cell_type": "code",
   "execution_count": 3,
   "id": "5df39b94-f2ff-4ed2-a5c8-9de48e49ee65",
   "metadata": {
    "tags": []
   },
   "outputs": [
    {
     "data": {
      "text/plain": [
       "'0b1010'"
      ]
     },
     "execution_count": 3,
     "metadata": {},
     "output_type": "execute_result"
    }
   ],
   "source": [
    "bin(a)"
   ]
  },
  {
   "cell_type": "code",
   "execution_count": 4,
   "id": "3450cabc-0d99-4a23-8ea0-6bbde4bb7261",
   "metadata": {
    "tags": []
   },
   "outputs": [
    {
     "data": {
      "text/plain": [
       "'0o12'"
      ]
     },
     "execution_count": 4,
     "metadata": {},
     "output_type": "execute_result"
    }
   ],
   "source": [
    "oct(a)"
   ]
  },
  {
   "cell_type": "code",
   "execution_count": null,
   "id": "177b8477-cc24-4a2d-9dee-7a76d5b11eac",
   "metadata": {},
   "outputs": [],
   "source": []
  }
 ],
 "metadata": {
  "kernelspec": {
   "display_name": "Python 3 (ipykernel)",
   "language": "python",
   "name": "python3"
  },
  "language_info": {
   "codemirror_mode": {
    "name": "ipython",
    "version": 3
   },
   "file_extension": ".py",
   "mimetype": "text/x-python",
   "name": "python",
   "nbconvert_exporter": "python",
   "pygments_lexer": "ipython3",
   "version": "3.12.0"
  }
 },
 "nbformat": 4,
 "nbformat_minor": 5
}
