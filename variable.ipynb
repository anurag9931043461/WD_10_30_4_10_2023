{
 "cells": [
  {
   "cell_type": "markdown",
   "id": "2d2ec779-1624-4e6a-b9d9-5dfe7c710fd7",
   "metadata": {},
   "source": [
    "# variable:\n",
    "\n",
    "> variable also known as identifier, container,argument, object, etc...\n",
    "\n",
    "> variable size enhance according to user demand.\n",
    "\n",
    "> variable naming has three rules:\n",
    "    \n",
    "    > variable name never start with a number \n",
    "    \n",
    "    > variable name never contain special character except underscore \"_\"\n",
    "    \n",
    "    english keyboard spcial character list: !\"#$%&\\'()*+,-./:;<=>?@[\\\\]^`{|}~\n",
    "    \n",
    "    > variable name must be readable.\n",
    "    "
   ]
  },
  {
   "cell_type": "code",
   "execution_count": 2,
   "id": "e09bf5ee-ac54-4fde-a608-00af783f290e",
   "metadata": {
    "tags": []
   },
   "outputs": [
    {
     "ename": "SyntaxError",
     "evalue": "invalid decimal literal (2223745171.py, line 1)",
     "output_type": "error",
     "traceback": [
      "\u001b[1;36m  Cell \u001b[1;32mIn[2], line 1\u001b[1;36m\u001b[0m\n\u001b[1;33m    1krishna=10\u001b[0m\n\u001b[1;37m    ^\u001b[0m\n\u001b[1;31mSyntaxError\u001b[0m\u001b[1;31m:\u001b[0m invalid decimal literal\n"
     ]
    }
   ],
   "source": [
    "1krishna=10"
   ]
  },
  {
   "cell_type": "code",
   "execution_count": 3,
   "id": "f0345b75-2d10-4b14-9919-ed0a7803d1a0",
   "metadata": {
    "tags": []
   },
   "outputs": [],
   "source": [
    "krishna1=10"
   ]
  },
  {
   "cell_type": "code",
   "execution_count": 4,
   "id": "5a1977d8-3d64-40cb-aa9a-e8e35caaa1d4",
   "metadata": {
    "tags": []
   },
   "outputs": [
    {
     "name": "stdout",
     "output_type": "stream",
     "text": [
      "10\n"
     ]
    }
   ],
   "source": [
    "print(krishna1)"
   ]
  },
  {
   "cell_type": "code",
   "execution_count": 5,
   "id": "c99b4c40-b7e3-4827-a54c-d152a3b60b92",
   "metadata": {
    "tags": []
   },
   "outputs": [],
   "source": [
    "krishna1kumar=10"
   ]
  },
  {
   "cell_type": "code",
   "execution_count": 6,
   "id": "2f7fa949-262e-4718-947a-dedaf9081726",
   "metadata": {
    "tags": []
   },
   "outputs": [
    {
     "name": "stdout",
     "output_type": "stream",
     "text": [
      "10\n"
     ]
    }
   ],
   "source": [
    "print(krishna1kumar)"
   ]
  },
  {
   "cell_type": "code",
   "execution_count": 8,
   "id": "ecc7298c-0fae-4e92-87e3-9c2af4a957b9",
   "metadata": {
    "tags": []
   },
   "outputs": [],
   "source": [
    "harman_rodrigus=10"
   ]
  },
  {
   "cell_type": "code",
   "execution_count": 9,
   "id": "5925eb4b-1f47-4a89-9e17-e2ed5bf49cc5",
   "metadata": {
    "tags": []
   },
   "outputs": [],
   "source": [
    "ram_gopal_verma=10  # snake case\n",
    "ramGopalVerma=10    #Camel case\n",
    "RamGopalVerma=10    #Pascal case"
   ]
  },
  {
   "cell_type": "code",
   "execution_count": 10,
   "id": "c8650ca9-d74b-4e22-adf3-ef44178a481a",
   "metadata": {
    "tags": []
   },
   "outputs": [],
   "source": [
    "aa=27"
   ]
  },
  {
   "cell_type": "code",
   "execution_count": 11,
   "id": "57c774fd-dab3-4c4a-9689-6362ce79619b",
   "metadata": {
    "tags": []
   },
   "outputs": [
    {
     "ename": "SyntaxError",
     "evalue": "cannot assign to expression here. Maybe you meant '==' instead of '='? (1039879702.py, line 1)",
     "output_type": "error",
     "traceback": [
      "\u001b[1;36m  Cell \u001b[1;32mIn[11], line 1\u001b[1;36m\u001b[0m\n\u001b[1;33m    krishna@kumar=10\u001b[0m\n\u001b[1;37m    ^\u001b[0m\n\u001b[1;31mSyntaxError\u001b[0m\u001b[1;31m:\u001b[0m cannot assign to expression here. Maybe you meant '==' instead of '='?\n"
     ]
    }
   ],
   "source": [
    "krishna@kumar=10"
   ]
  },
  {
   "cell_type": "code",
   "execution_count": 13,
   "id": "30b082f1-0ca6-40a3-a0a3-dd86febdd7ae",
   "metadata": {
    "tags": []
   },
   "outputs": [],
   "source": [
    "krishna_kumar=10"
   ]
  },
  {
   "cell_type": "code",
   "execution_count": 14,
   "id": "d1b8a3f8-3914-4227-b0cf-ea6e9e3944ca",
   "metadata": {
    "tags": []
   },
   "outputs": [],
   "source": [
    "_=10"
   ]
  },
  {
   "cell_type": "code",
   "execution_count": 15,
   "id": "a30cb11c-b762-43a6-9817-23e28d63aa90",
   "metadata": {
    "tags": []
   },
   "outputs": [
    {
     "name": "stdout",
     "output_type": "stream",
     "text": [
      "10\n"
     ]
    }
   ],
   "source": [
    "print(_)"
   ]
  },
  {
   "cell_type": "code",
   "execution_count": 16,
   "id": "8d192b59-cd90-46c6-abc8-9c47911ec3ef",
   "metadata": {
    "tags": []
   },
   "outputs": [
    {
     "name": "stdout",
     "output_type": "stream",
     "text": [
      "krishna_kumar\n"
     ]
    }
   ],
   "source": [
    "print(\"krishna_kumar\")"
   ]
  },
  {
   "cell_type": "code",
   "execution_count": 17,
   "id": "ec833388-b30c-4cf3-a3c5-1ed746fea320",
   "metadata": {
    "tags": []
   },
   "outputs": [
    {
     "name": "stdout",
     "output_type": "stream",
     "text": [
      "10\n"
     ]
    }
   ],
   "source": [
    "print(krishna_kumar)"
   ]
  },
  {
   "cell_type": "code",
   "execution_count": null,
   "id": "27fea780-2244-4ba8-89b9-35a2286f5e01",
   "metadata": {},
   "outputs": [],
   "source": []
  }
 ],
 "metadata": {
  "kernelspec": {
   "display_name": "Python 3 (ipykernel)",
   "language": "python",
   "name": "python3"
  },
  "language_info": {
   "codemirror_mode": {
    "name": "ipython",
    "version": 3
   },
   "file_extension": ".py",
   "mimetype": "text/x-python",
   "name": "python",
   "nbconvert_exporter": "python",
   "pygments_lexer": "ipython3",
   "version": "3.11.5"
  }
 },
 "nbformat": 4,
 "nbformat_minor": 5
}
