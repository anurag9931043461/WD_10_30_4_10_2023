{
 "cells": [
  {
   "cell_type": "markdown",
   "id": "5083e693-0326-405d-a7bd-ce2420fcccfb",
   "metadata": {},
   "source": [
    "# dictionary datatype\n",
    "\n",
    "> dictionary constructor is dict()\n",
    "\n",
    "> dictionary literal is {}\n",
    "\n",
    "> dictionary is a ordered set of sequence of item(s); items is a combination of key and value pair\n",
    "\n",
    "> dictionary support indexing \n",
    "\n",
    "> dictionary doesnot support slicing \n",
    "\n",
    "> dictionary doesnot support concatination\n",
    "\n",
    "> dictionary is mutable.\n",
    "\n",
    "> dictionary key must be immutable datatype(hashable) and unique.\n",
    "\n",
    "> dictionary value may or may not be immutable\n",
    "\n",
    "> dictionary support nested dictionary\n",
    "\n",
    "> in other language like javascript(dictionary known as object or (JSON datatype), in dart it is called map datatype)\n",
    "\n",
    "> dictionary methods\n",
    "\n"
   ]
  },
  {
   "cell_type": "code",
   "execution_count": 4,
   "id": "8234337a-b749-4d52-a667-e1d218d8541f",
   "metadata": {},
   "outputs": [
    {
     "name": "stdout",
     "output_type": "stream",
     "text": [
      "{}\n",
      "<class 'dict'>\n",
      "1712819554496\n",
      "0\n"
     ]
    }
   ],
   "source": [
    "a=dict()  # using constructor creating empty dictionary\n",
    "print(a)\n",
    "print(type(a))\n",
    "print(id(a))\n",
    "print(len(a))"
   ]
  },
  {
   "cell_type": "code",
   "execution_count": 5,
   "id": "beb700ad-71d0-4d92-b1e4-648639dd5285",
   "metadata": {},
   "outputs": [
    {
     "name": "stdout",
     "output_type": "stream",
     "text": [
      "{}\n",
      "<class 'dict'>\n",
      "1712819490944\n",
      "0\n"
     ]
    }
   ],
   "source": [
    "a={}  # using literal creating empty dictionary\n",
    "print(a)\n",
    "print(type(a))\n",
    "print(id(a))\n",
    "print(len(a))"
   ]
  },
  {
   "cell_type": "code",
   "execution_count": 8,
   "id": "0b41b3f4-5206-48c0-a170-d5fe32683d96",
   "metadata": {},
   "outputs": [
    {
     "name": "stdout",
     "output_type": "stream",
     "text": [
      "4\n",
      "{1: 'krishna', 2: 'Mohan', 3: 'Sohan', 5: 'Monu'}\n"
     ]
    }
   ],
   "source": [
    "b={1:\"krishna\",2:\"Mohan\",3:\"Sohan\",5:\"Monu\"}\n",
    "print(len(b))\n",
    "print(b)"
   ]
  },
  {
   "cell_type": "code",
   "execution_count": null,
   "id": "2f307283-dc3f-49d5-abbe-e51ce2f73b3e",
   "metadata": {},
   "outputs": [],
   "source": [
    "c={1,2,3,4}"
   ]
  }
 ],
 "metadata": {
  "kernelspec": {
   "display_name": "Python 3 (ipykernel)",
   "language": "python",
   "name": "python3"
  },
  "language_info": {
   "codemirror_mode": {
    "name": "ipython",
    "version": 3
   },
   "file_extension": ".py",
   "mimetype": "text/x-python",
   "name": "python",
   "nbconvert_exporter": "python",
   "pygments_lexer": "ipython3",
   "version": "3.12.0"
  }
 },
 "nbformat": 4,
 "nbformat_minor": 5
}
