{
 "cells": [
  {
   "cell_type": "markdown",
   "id": "5083e693-0326-405d-a7bd-ce2420fcccfb",
   "metadata": {},
   "source": [
    "# dictionary datatype\n",
    "\n",
    "> dictionary constructor is dict()\n",
    "\n",
    "> dictionary literal is {}\n",
    "\n",
    "> dictionary is a ordered set of sequence of item(s); items is a combination of key and value pair\n",
    "\n",
    "> dictionary support indexing \n",
    "\n",
    "> dictionary doesnot support slicing \n",
    "\n",
    "> dictionary doesnot support concatination\n",
    "\n",
    "> dictionary is mutable.\n",
    "\n",
    "> dictionary key must be immutable datatype(hashable) and unique.\n",
    "\n",
    "> dictionary value may or may not be immutable\n",
    "\n",
    "> dictionary support nested dictionary\n",
    "\n",
    "> in other language like javascript(dictionary known as object or (JSON datatype), in dart it is called map datatype)\n",
    "\n",
    "> dictionary methods\n",
    "\n"
   ]
  },
  {
   "cell_type": "code",
   "execution_count": 4,
   "id": "8234337a-b749-4d52-a667-e1d218d8541f",
   "metadata": {},
   "outputs": [
    {
     "name": "stdout",
     "output_type": "stream",
     "text": [
      "{}\n",
      "<class 'dict'>\n",
      "1712819554496\n",
      "0\n"
     ]
    }
   ],
   "source": [
    "a=dict()  # using constructor creating empty dictionary\n",
    "print(a)\n",
    "print(type(a))\n",
    "print(id(a))\n",
    "print(len(a))"
   ]
  },
  {
   "cell_type": "code",
   "execution_count": 5,
   "id": "beb700ad-71d0-4d92-b1e4-648639dd5285",
   "metadata": {},
   "outputs": [
    {
     "name": "stdout",
     "output_type": "stream",
     "text": [
      "{}\n",
      "<class 'dict'>\n",
      "1712819490944\n",
      "0\n"
     ]
    }
   ],
   "source": [
    "a={}  # using literal creating empty dictionary\n",
    "print(a)\n",
    "print(type(a))\n",
    "print(id(a))\n",
    "print(len(a))"
   ]
  },
  {
   "cell_type": "code",
   "execution_count": 1,
   "id": "0b41b3f4-5206-48c0-a170-d5fe32683d96",
   "metadata": {},
   "outputs": [
    {
     "name": "stdout",
     "output_type": "stream",
     "text": [
      "4\n",
      "{1: 'krishna', 2: 'Mohan', 3: 'Sohan', 5: 'Monu'}\n"
     ]
    }
   ],
   "source": [
    "b={1:\"krishna\",2:\"Mohan\",3:\"Sohan\",5:\"Monu\"}\n",
    "print(len(b))\n",
    "print(b)"
   ]
  },
  {
   "cell_type": "code",
   "execution_count": 2,
   "id": "4683a592-8aba-477e-8950-9f5e9e76c837",
   "metadata": {},
   "outputs": [
    {
     "name": "stdout",
     "output_type": "stream",
     "text": [
      "{1: 'Moni', 2: 'Mohan', 3: 'Sohan', 5: 'Monu'}\n"
     ]
    }
   ],
   "source": [
    "b={1:\"krishna\",2:\"Mohan\",3:\"Sohan\",5:\"Monu\",1:\"Moni\"}\n",
    "print(b)"
   ]
  },
  {
   "cell_type": "code",
   "execution_count": 3,
   "id": "c8a05c8a-bfd6-4845-af82-86c52dc33d97",
   "metadata": {},
   "outputs": [
    {
     "name": "stdout",
     "output_type": "stream",
     "text": [
      "20\n"
     ]
    }
   ],
   "source": [
    "a=10\n",
    "a=20\n",
    "print(a)"
   ]
  },
  {
   "cell_type": "code",
   "execution_count": 8,
   "id": "ff64fb53-949b-45bd-93d6-afa7ee8df6d3",
   "metadata": {},
   "outputs": [
    {
     "ename": "TypeError",
     "evalue": "unhashable type: 'list'",
     "output_type": "error",
     "traceback": [
      "\u001b[1;31m---------------------------------------------------------------------------\u001b[0m",
      "\u001b[1;31mTypeError\u001b[0m                                 Traceback (most recent call last)",
      "Cell \u001b[1;32mIn[8], line 1\u001b[0m\n\u001b[1;32m----> 1\u001b[0m c\u001b[38;5;241m=\u001b[39m{\u001b[38;5;241m1\u001b[39m:\u001b[38;5;124m\"\u001b[39m\u001b[38;5;124mkrishna\u001b[39m\u001b[38;5;124m\"\u001b[39m,\u001b[38;5;241m10.22\u001b[39m:\u001b[38;5;124m\"\u001b[39m\u001b[38;5;124mMohan\u001b[39m\u001b[38;5;124m\"\u001b[39m,\u001b[38;5;124m\"\u001b[39m\u001b[38;5;124m10.20\u001b[39m\u001b[38;5;124m\"\u001b[39m:\u001b[38;5;124m\"\u001b[39m\u001b[38;5;124mSohan\u001b[39m\u001b[38;5;124m\"\u001b[39m,[\u001b[38;5;241m1\u001b[39m,\u001b[38;5;241m2\u001b[39m,\u001b[38;5;241m3\u001b[39m]:\u001b[38;5;124m\"\u001b[39m\u001b[38;5;124mRohan\u001b[39m\u001b[38;5;124m\"\u001b[39m}\n",
      "\u001b[1;31mTypeError\u001b[0m: unhashable type: 'list'"
     ]
    }
   ],
   "source": [
    "c={1:\"krishna\",10.22:\"Mohan\",\"10.20\":\"Sohan\",[1,2,3]:\"Rohan\"}"
   ]
  },
  {
   "cell_type": "code",
   "execution_count": 10,
   "id": "0b183a63-9e44-46a2-b0d7-54d195dae5ce",
   "metadata": {},
   "outputs": [
    {
     "ename": "TypeError",
     "evalue": "unhashable type: 'set'",
     "output_type": "error",
     "traceback": [
      "\u001b[1;31m---------------------------------------------------------------------------\u001b[0m",
      "\u001b[1;31mTypeError\u001b[0m                                 Traceback (most recent call last)",
      "Cell \u001b[1;32mIn[10], line 1\u001b[0m\n\u001b[1;32m----> 1\u001b[0m c\u001b[38;5;241m=\u001b[39m{\u001b[38;5;241m1\u001b[39m:\u001b[38;5;124m\"\u001b[39m\u001b[38;5;124mkrishna\u001b[39m\u001b[38;5;124m\"\u001b[39m,\u001b[38;5;241m10.22\u001b[39m:\u001b[38;5;124m\"\u001b[39m\u001b[38;5;124mMohan\u001b[39m\u001b[38;5;124m\"\u001b[39m,\u001b[38;5;124m\"\u001b[39m\u001b[38;5;124m10.20\u001b[39m\u001b[38;5;124m\"\u001b[39m:\u001b[38;5;124m\"\u001b[39m\u001b[38;5;124mSohan\u001b[39m\u001b[38;5;124m\"\u001b[39m,(\u001b[38;5;241m1\u001b[39m,\u001b[38;5;241m2\u001b[39m,\u001b[38;5;241m3\u001b[39m):\u001b[38;5;124m\"\u001b[39m\u001b[38;5;124mraju\u001b[39m\u001b[38;5;124m\"\u001b[39m,{\u001b[38;5;241m1\u001b[39m,\u001b[38;5;241m2\u001b[39m,\u001b[38;5;241m3\u001b[39m}:\u001b[38;5;124m\"\u001b[39m\u001b[38;5;124mRonit\u001b[39m\u001b[38;5;124m\"\u001b[39m}\n",
      "\u001b[1;31mTypeError\u001b[0m: unhashable type: 'set'"
     ]
    }
   ],
   "source": [
    "c={1:\"krishna\",10.22:\"Mohan\",\"10.20\":\"Sohan\",(1,2,3):\"raju\",{1,2,3}:\"Ronit\"}"
   ]
  },
  {
   "cell_type": "code",
   "execution_count": 24,
   "id": "2e6aca20-4c4a-4e99-bfc3-462da46aae97",
   "metadata": {},
   "outputs": [
    {
     "data": {
      "text/plain": [
       "{1: 'krishna',\n",
       " 10.22: 'Mohan',\n",
       " '10.20': 'Sohan',\n",
       " (1, 2, 3): 'raju',\n",
       " frozenset({1, 2, 3}): 'Monika'}"
      ]
     },
     "execution_count": 24,
     "metadata": {},
     "output_type": "execute_result"
    }
   ],
   "source": [
    "c={1:\"krishna\",10.22:\"Mohan\",\"10.20\":\"Sohan\",(1,2,3):\"raju\",frozenset({1,2,3}):\"Monika\"}\n",
    "c"
   ]
  },
  {
   "cell_type": "code",
   "execution_count": 12,
   "id": "38fb0e71-8ab9-404b-bcd2-9743fb62ed09",
   "metadata": {},
   "outputs": [
    {
     "ename": "TypeError",
     "evalue": "unhashable type: 'list'",
     "output_type": "error",
     "traceback": [
      "\u001b[1;31m---------------------------------------------------------------------------\u001b[0m",
      "\u001b[1;31mTypeError\u001b[0m                                 Traceback (most recent call last)",
      "Cell \u001b[1;32mIn[12], line 1\u001b[0m\n\u001b[1;32m----> 1\u001b[0m c\u001b[38;5;241m=\u001b[39m{\u001b[38;5;241m1\u001b[39m:\u001b[38;5;124m\"\u001b[39m\u001b[38;5;124mkrishna\u001b[39m\u001b[38;5;124m\"\u001b[39m,\u001b[38;5;241m10.22\u001b[39m:\u001b[38;5;124m\"\u001b[39m\u001b[38;5;124mMohan\u001b[39m\u001b[38;5;124m\"\u001b[39m,\u001b[38;5;124m\"\u001b[39m\u001b[38;5;124m10.20\u001b[39m\u001b[38;5;124m\"\u001b[39m:\u001b[38;5;124m\"\u001b[39m\u001b[38;5;124mSohan\u001b[39m\u001b[38;5;124m\"\u001b[39m,(\u001b[38;5;241m1\u001b[39m,\u001b[38;5;241m2\u001b[39m,\u001b[38;5;241m3\u001b[39m):\u001b[38;5;124m\"\u001b[39m\u001b[38;5;124mraju\u001b[39m\u001b[38;5;124m\"\u001b[39m,\u001b[38;5;28mfrozenset\u001b[39m({\u001b[38;5;241m1\u001b[39m,[\u001b[38;5;241m1\u001b[39m,\u001b[38;5;241m2\u001b[39m,\u001b[38;5;241m3\u001b[39m],\u001b[38;5;241m3\u001b[39m}):\u001b[38;5;124m\"\u001b[39m\u001b[38;5;124mMonika\u001b[39m\u001b[38;5;124m\"\u001b[39m}\n",
      "\u001b[1;31mTypeError\u001b[0m: unhashable type: 'list'"
     ]
    }
   ],
   "source": [
    "c={1:\"krishna\",10.22:\"Mohan\",\"10.20\":\"Sohan\",(1,2,3):\"raju\",frozenset({1,[1,2,3],3}):\"Monika\"}"
   ]
  },
  {
   "cell_type": "code",
   "execution_count": 13,
   "id": "729a36cd-e0eb-4543-91fc-537bc56b2a0b",
   "metadata": {},
   "outputs": [
    {
     "ename": "TypeError",
     "evalue": "unhashable type: 'list'",
     "output_type": "error",
     "traceback": [
      "\u001b[1;31m---------------------------------------------------------------------------\u001b[0m",
      "\u001b[1;31mTypeError\u001b[0m                                 Traceback (most recent call last)",
      "Cell \u001b[1;32mIn[13], line 1\u001b[0m\n\u001b[1;32m----> 1\u001b[0m \u001b[38;5;28mfrozenset\u001b[39m({\u001b[38;5;241m1\u001b[39m,[\u001b[38;5;241m1\u001b[39m,\u001b[38;5;241m2\u001b[39m,\u001b[38;5;241m3\u001b[39m],\u001b[38;5;241m3\u001b[39m})\n",
      "\u001b[1;31mTypeError\u001b[0m: unhashable type: 'list'"
     ]
    }
   ],
   "source": [
    "frozenset({1,[1,2,3],3})"
   ]
  },
  {
   "cell_type": "code",
   "execution_count": 22,
   "id": "83d12031-fd44-47fb-a752-83fdb86c5504",
   "metadata": {},
   "outputs": [],
   "source": [
    "e={1:1000,2:19.323,3:\"krishna\",4:[1,2,3],5:(1,2,3),6:{1,2,3},7:frozenset({1,2,3}),8:{1:\"krishna\"}}"
   ]
  },
  {
   "cell_type": "code",
   "execution_count": 23,
   "id": "e52ad243-b034-4f0e-bf69-2bb5b64b929d",
   "metadata": {},
   "outputs": [
    {
     "data": {
      "text/plain": [
       "{1: 1000,\n",
       " 2: 19.323,\n",
       " 3: 'krishna',\n",
       " 4: [1, 2, 3],\n",
       " 5: (1, 2, 3),\n",
       " 6: {1, 2, 3},\n",
       " 7: frozenset({1, 2, 3}),\n",
       " 8: {1: 'krishna'}}"
      ]
     },
     "execution_count": 23,
     "metadata": {},
     "output_type": "execute_result"
    }
   ],
   "source": [
    "e"
   ]
  },
  {
   "cell_type": "markdown",
   "id": "5328f7aa-0b49-45b6-b648-4fe2f40e02b9",
   "metadata": {},
   "source": [
    "# indexing"
   ]
  },
  {
   "cell_type": "code",
   "execution_count": 26,
   "id": "b7f63166-25f3-4ec3-9b19-9fc7feefcca3",
   "metadata": {},
   "outputs": [
    {
     "data": {
      "text/plain": [
       "{1: 1000,\n",
       " 2: 19.323,\n",
       " 3: 'krishna',\n",
       " 4: [1, 2, 3],\n",
       " 5: (1, 2, 3),\n",
       " 6: {1, 2, 3},\n",
       " 7: frozenset({1, 2, 3}),\n",
       " 8: {1: 'krishna'}}"
      ]
     },
     "execution_count": 26,
     "metadata": {},
     "output_type": "execute_result"
    }
   ],
   "source": [
    "e"
   ]
  },
  {
   "cell_type": "code",
   "execution_count": 27,
   "id": "418df059-4e87-42c3-a5f4-cfdf32bf5e1d",
   "metadata": {},
   "outputs": [
    {
     "name": "stdout",
     "output_type": "stream",
     "text": [
      "frozenset({1, 2, 3})\n"
     ]
    }
   ],
   "source": [
    "print(e[7])"
   ]
  },
  {
   "cell_type": "code",
   "execution_count": 28,
   "id": "497f6918-f847-450e-910d-6ad6e01a1896",
   "metadata": {},
   "outputs": [
    {
     "data": {
      "text/plain": [
       "{1: 'krishna',\n",
       " 10.22: 'Mohan',\n",
       " '10.20': 'Sohan',\n",
       " (1, 2, 3): 'raju',\n",
       " frozenset({1, 2, 3}): 'Monika'}"
      ]
     },
     "execution_count": 28,
     "metadata": {},
     "output_type": "execute_result"
    }
   ],
   "source": [
    "c"
   ]
  },
  {
   "cell_type": "code",
   "execution_count": 29,
   "id": "3fb5052b-8ee3-4f3c-b38a-047c58b01146",
   "metadata": {},
   "outputs": [
    {
     "data": {
      "text/plain": [
       "'Monika'"
      ]
     },
     "execution_count": 29,
     "metadata": {},
     "output_type": "execute_result"
    }
   ],
   "source": [
    "c[frozenset({1, 2, 3})]"
   ]
  },
  {
   "cell_type": "code",
   "execution_count": 30,
   "id": "de7825bb-f018-4086-a860-e74e17202d05",
   "metadata": {},
   "outputs": [
    {
     "ename": "TypeError",
     "evalue": "unsupported operand type(s) for +: 'dict' and 'dict'",
     "output_type": "error",
     "traceback": [
      "\u001b[1;31m---------------------------------------------------------------------------\u001b[0m",
      "\u001b[1;31mTypeError\u001b[0m                                 Traceback (most recent call last)",
      "Cell \u001b[1;32mIn[30], line 3\u001b[0m\n\u001b[0;32m      1\u001b[0m a\u001b[38;5;241m=\u001b[39m{\u001b[38;5;241m1\u001b[39m:\u001b[38;5;124m\"\u001b[39m\u001b[38;5;124mKrishna\u001b[39m\u001b[38;5;124m\"\u001b[39m,\u001b[38;5;241m2\u001b[39m:\u001b[38;5;124m\"\u001b[39m\u001b[38;5;124mMohan\u001b[39m\u001b[38;5;124m\"\u001b[39m}\n\u001b[0;32m      2\u001b[0m b\u001b[38;5;241m=\u001b[39m{\u001b[38;5;241m2\u001b[39m:\u001b[38;5;124m\"\u001b[39m\u001b[38;5;124mRohan\u001b[39m\u001b[38;5;124m\"\u001b[39m}\n\u001b[1;32m----> 3\u001b[0m \u001b[38;5;28mprint\u001b[39m(\u001b[43ma\u001b[49m\u001b[38;5;241;43m+\u001b[39;49m\u001b[43mb\u001b[49m)\n",
      "\u001b[1;31mTypeError\u001b[0m: unsupported operand type(s) for +: 'dict' and 'dict'"
     ]
    }
   ],
   "source": [
    "a={1:\"Krishna\",2:\"Mohan\"}\n",
    "b={2:\"Rohan\"}\n",
    "print(a+b)"
   ]
  },
  {
   "cell_type": "markdown",
   "id": "d8e78415-8102-4c16-a510-81485448d332",
   "metadata": {},
   "source": [
    "# dictionary methods"
   ]
  },
  {
   "cell_type": "code",
   "execution_count": 32,
   "id": "dfec67cc-a7c9-4e9f-8e7b-6c81fe8605df",
   "metadata": {},
   "outputs": [
    {
     "name": "stdout",
     "output_type": "stream",
     "text": [
      "<class 'set'>\n"
     ]
    }
   ],
   "source": [
    "a={1}\n",
    "print(type(a))"
   ]
  },
  {
   "cell_type": "code",
   "execution_count": 33,
   "id": "c002c00c-bdee-49ec-9bb3-0f9bf4635928",
   "metadata": {},
   "outputs": [
    {
     "name": "stdout",
     "output_type": "stream",
     "text": [
      "<class 'dict'>\n"
     ]
    }
   ],
   "source": [
    "a={}\n",
    "print(type(a))"
   ]
  },
  {
   "cell_type": "code",
   "execution_count": 35,
   "id": "3b36167e-1571-46d9-a1f1-1257c78a169f",
   "metadata": {},
   "outputs": [
    {
     "name": "stdout",
     "output_type": "stream",
     "text": [
      "1969126479232\n"
     ]
    }
   ],
   "source": [
    "a={}\n",
    "print(id(a))"
   ]
  },
  {
   "cell_type": "code",
   "execution_count": 36,
   "id": "97cb5f74-9928-4472-a867-b7f5f3a1aa4e",
   "metadata": {},
   "outputs": [],
   "source": [
    "a.update({1:\"krishna\",2:\"Rohan\"})"
   ]
  },
  {
   "cell_type": "code",
   "execution_count": 37,
   "id": "b701daea-6b84-4e0c-aa69-42207e4c49ac",
   "metadata": {},
   "outputs": [
    {
     "name": "stdout",
     "output_type": "stream",
     "text": [
      "{1: 'krishna', 2: 'Rohan'}\n"
     ]
    }
   ],
   "source": [
    "print(a)"
   ]
  },
  {
   "cell_type": "code",
   "execution_count": 38,
   "id": "a481e0aa-cb12-4873-9614-63e4145d1200",
   "metadata": {},
   "outputs": [
    {
     "name": "stdout",
     "output_type": "stream",
     "text": [
      "1969126479232\n"
     ]
    }
   ],
   "source": [
    "print(id(a))"
   ]
  },
  {
   "cell_type": "code",
   "execution_count": 39,
   "id": "85b40c38-3884-49ee-ab1a-6ce12a2dcb04",
   "metadata": {},
   "outputs": [
    {
     "data": {
      "text/plain": [
       "'Rohan'"
      ]
     },
     "execution_count": 39,
     "metadata": {},
     "output_type": "execute_result"
    }
   ],
   "source": [
    "a[2]"
   ]
  },
  {
   "cell_type": "code",
   "execution_count": 40,
   "id": "14cf7c0d-8061-41b4-93b8-9be284060a91",
   "metadata": {},
   "outputs": [],
   "source": [
    "a[2]=\"Sohan\""
   ]
  },
  {
   "cell_type": "code",
   "execution_count": 41,
   "id": "fde87bbd-2a8e-4d1a-a2f5-c2fd8cf46b6c",
   "metadata": {},
   "outputs": [
    {
     "name": "stdout",
     "output_type": "stream",
     "text": [
      "{1: 'krishna', 2: 'Sohan'}\n"
     ]
    }
   ],
   "source": [
    "print(a)"
   ]
  },
  {
   "cell_type": "code",
   "execution_count": 42,
   "id": "f4c7ff2a-4265-477a-87a9-a86b482567ec",
   "metadata": {},
   "outputs": [],
   "source": [
    "a.setdefault(3)"
   ]
  },
  {
   "cell_type": "code",
   "execution_count": 43,
   "id": "10f4701f-ab7b-40d0-a955-f40d4f18df7c",
   "metadata": {},
   "outputs": [
    {
     "name": "stdout",
     "output_type": "stream",
     "text": [
      "{1: 'krishna', 2: 'Sohan', 3: None}\n"
     ]
    }
   ],
   "source": [
    "print(a)"
   ]
  },
  {
   "cell_type": "code",
   "execution_count": 44,
   "id": "ff1d121d-dd6d-4f60-a72f-b5b7048eb813",
   "metadata": {},
   "outputs": [
    {
     "data": {
      "text/plain": [
       "'available'"
      ]
     },
     "execution_count": 44,
     "metadata": {},
     "output_type": "execute_result"
    }
   ],
   "source": [
    "a.setdefault(4,\"available\")"
   ]
  },
  {
   "cell_type": "code",
   "execution_count": 45,
   "id": "f42fed1d-c0c9-4d12-826f-ceb018d44188",
   "metadata": {},
   "outputs": [
    {
     "name": "stdout",
     "output_type": "stream",
     "text": [
      "{1: 'krishna', 2: 'Sohan', 3: None, 4: 'available'}\n"
     ]
    }
   ],
   "source": [
    "print(a)"
   ]
  },
  {
   "cell_type": "code",
   "execution_count": 46,
   "id": "0743a46a-d414-4d34-81e0-83ec82e43012",
   "metadata": {},
   "outputs": [],
   "source": [
    "a[4]=\"krishna\""
   ]
  },
  {
   "cell_type": "code",
   "execution_count": 47,
   "id": "4e7dd1f1-a7ab-4fe7-88aa-a7242c0a220d",
   "metadata": {},
   "outputs": [
    {
     "name": "stdout",
     "output_type": "stream",
     "text": [
      "{1: 'krishna', 2: 'Sohan', 3: None, 4: 'krishna'}\n"
     ]
    }
   ],
   "source": [
    "print(a)"
   ]
  },
  {
   "cell_type": "code",
   "execution_count": 48,
   "id": "20436828-e670-49ea-b994-b238e02d06a3",
   "metadata": {},
   "outputs": [
    {
     "name": "stdout",
     "output_type": "stream",
     "text": [
      "1969130129472\n"
     ]
    }
   ],
   "source": [
    "f={}\n",
    "print(id(f))"
   ]
  },
  {
   "cell_type": "code",
   "execution_count": 51,
   "id": "380f1a99-3560-4646-99df-882bda295d65",
   "metadata": {},
   "outputs": [],
   "source": [
    "g=f.fromkeys([1,2,3,4,5,6,7,8,9,10],\"available\")"
   ]
  },
  {
   "cell_type": "code",
   "execution_count": 54,
   "id": "7c536eaf-ea23-49ab-90c4-4f8d3206f1f4",
   "metadata": {},
   "outputs": [
    {
     "name": "stdout",
     "output_type": "stream",
     "text": [
      "{1: 'available', 2: 'available', 3: 'available', 4: 'available', 5: 'available', 6: 'available', 7: 'available', 8: 'available', 9: 'available', 10: 'available'}\n",
      "1969129361408\n"
     ]
    }
   ],
   "source": [
    "print(g)\n",
    "print(id(g))"
   ]
  },
  {
   "cell_type": "code",
   "execution_count": 55,
   "id": "cdc16011-62b7-4ac8-b58d-5b32a54b2a7b",
   "metadata": {},
   "outputs": [],
   "source": [
    "g.update({1:\"krishna\"})"
   ]
  },
  {
   "cell_type": "code",
   "execution_count": 56,
   "id": "68af590b-167d-4b28-8f05-1fd39c488715",
   "metadata": {},
   "outputs": [
    {
     "name": "stdout",
     "output_type": "stream",
     "text": [
      "{1: 'krishna', 2: 'available', 3: 'available', 4: 'available', 5: 'available', 6: 'available', 7: 'available', 8: 'available', 9: 'available', 10: 'available'}\n"
     ]
    }
   ],
   "source": [
    "print(g)"
   ]
  },
  {
   "cell_type": "code",
   "execution_count": 57,
   "id": "255eba2e-b662-45ed-a395-42115398983c",
   "metadata": {},
   "outputs": [],
   "source": [
    "h=g"
   ]
  },
  {
   "cell_type": "code",
   "execution_count": 59,
   "id": "73f9ed61-59b1-4fb0-bb8a-4e1174ca629d",
   "metadata": {},
   "outputs": [
    {
     "name": "stdout",
     "output_type": "stream",
     "text": [
      "{1: 'krishna', 2: 'available', 3: 'available', 4: 'available', 5: 'available', 6: 'available', 7: 'available', 8: 'available', 9: 'available', 10: 'available'} 1969129361408\n"
     ]
    }
   ],
   "source": [
    "print(h,id(h))"
   ]
  },
  {
   "cell_type": "code",
   "execution_count": 60,
   "id": "c8ae4fec-681f-4c6c-b2e0-b09067e8bee9",
   "metadata": {},
   "outputs": [
    {
     "name": "stdout",
     "output_type": "stream",
     "text": [
      "{1: 'krishna', 2: 'available', 3: 'available', 4: 'available', 5: 'available', 6: 'available', 7: 'available', 8: 'available', 9: 'available', 10: 'available'} 1969129361408\n"
     ]
    }
   ],
   "source": [
    "print(g,id(g))"
   ]
  },
  {
   "cell_type": "code",
   "execution_count": 61,
   "id": "6aa70707-5ac9-46b0-8aae-d60a1e5f77e6",
   "metadata": {},
   "outputs": [],
   "source": [
    "h[2]=\"Mohan\""
   ]
  },
  {
   "cell_type": "code",
   "execution_count": 62,
   "id": "d8645155-105b-40fd-aa3f-6921cc776897",
   "metadata": {},
   "outputs": [
    {
     "name": "stdout",
     "output_type": "stream",
     "text": [
      "{1: 'krishna', 2: 'Mohan', 3: 'available', 4: 'available', 5: 'available', 6: 'available', 7: 'available', 8: 'available', 9: 'available', 10: 'available'}\n"
     ]
    }
   ],
   "source": [
    "print(g)"
   ]
  },
  {
   "cell_type": "code",
   "execution_count": 63,
   "id": "c4b6ebe8-e395-4e0b-928b-df254a6884b8",
   "metadata": {},
   "outputs": [
    {
     "name": "stdout",
     "output_type": "stream",
     "text": [
      "{1: 'krishna', 2: 'Mohan', 3: 'available', 4: 'available', 5: 'available', 6: 'available', 7: 'available', 8: 'available', 9: 'available', 10: 'available'}\n"
     ]
    }
   ],
   "source": [
    "print(h)"
   ]
  },
  {
   "cell_type": "code",
   "execution_count": 64,
   "id": "a79e9b04-eabb-4b43-9fd3-9e2b7e1451e6",
   "metadata": {},
   "outputs": [],
   "source": [
    "k=g.copy()"
   ]
  },
  {
   "cell_type": "code",
   "execution_count": 65,
   "id": "9dae8744-2a2e-4170-a573-0d9e28413b1e",
   "metadata": {},
   "outputs": [
    {
     "name": "stdout",
     "output_type": "stream",
     "text": [
      "{1: 'krishna', 2: 'Mohan', 3: 'available', 4: 'available', 5: 'available', 6: 'available', 7: 'available', 8: 'available', 9: 'available', 10: 'available'} 1969130207488\n"
     ]
    }
   ],
   "source": [
    "print(k,id(k))"
   ]
  },
  {
   "cell_type": "code",
   "execution_count": 66,
   "id": "9e86aca7-d2cb-4cc2-b05f-f7a37bf1cc03",
   "metadata": {},
   "outputs": [
    {
     "name": "stdout",
     "output_type": "stream",
     "text": [
      "{1: 'krishna', 2: 'Mohan', 3: 'available', 4: 'available', 5: 'available', 6: 'available', 7: 'available', 8: 'available', 9: 'available', 10: 'available'} 1969129361408\n"
     ]
    }
   ],
   "source": [
    "print(g,id(g))"
   ]
  },
  {
   "cell_type": "code",
   "execution_count": 67,
   "id": "d5bee004-5fbf-43e3-8a74-3a907dcaa8b6",
   "metadata": {},
   "outputs": [],
   "source": [
    "k[3]=\"Subham\""
   ]
  },
  {
   "cell_type": "code",
   "execution_count": 68,
   "id": "cbcfe0a8-9377-4a78-88f1-0597c593d93d",
   "metadata": {},
   "outputs": [
    {
     "name": "stdout",
     "output_type": "stream",
     "text": [
      "{1: 'krishna', 2: 'Mohan', 3: 'Subham', 4: 'available', 5: 'available', 6: 'available', 7: 'available', 8: 'available', 9: 'available', 10: 'available'}\n"
     ]
    }
   ],
   "source": [
    "print(k)"
   ]
  },
  {
   "cell_type": "code",
   "execution_count": 70,
   "id": "a76d5464-b57c-4abd-9061-2611b0d39877",
   "metadata": {},
   "outputs": [
    {
     "name": "stdout",
     "output_type": "stream",
     "text": [
      "{1: 'krishna', 2: 'Mohan', 3: 'available', 4: 'available', 5: 'available', 6: 'available', 7: 'available', 8: 'available', 9: 'available', 10: 'available'}\n"
     ]
    }
   ],
   "source": [
    "print(g)"
   ]
  },
  {
   "cell_type": "code",
   "execution_count": 71,
   "id": "ac2b3b39-c2fb-4d0d-94c9-68347ee0e938",
   "metadata": {},
   "outputs": [],
   "source": [
    "g.clear()"
   ]
  },
  {
   "cell_type": "code",
   "execution_count": 72,
   "id": "77905a54-0f51-4d76-937a-cd47a1be0a00",
   "metadata": {},
   "outputs": [
    {
     "name": "stdout",
     "output_type": "stream",
     "text": [
      "{}\n"
     ]
    }
   ],
   "source": [
    "print(g)"
   ]
  },
  {
   "cell_type": "code",
   "execution_count": 74,
   "id": "9c4e3a9e-89b6-4183-83a1-296fa55fb266",
   "metadata": {},
   "outputs": [
    {
     "data": {
      "text/plain": [
       "{1: 'krishna',\n",
       " 2: 'Mohan',\n",
       " 3: 'Subham',\n",
       " 4: 'available',\n",
       " 5: 'available',\n",
       " 6: 'available',\n",
       " 7: 'available',\n",
       " 8: 'available',\n",
       " 9: 'available',\n",
       " 10: 'available'}"
      ]
     },
     "execution_count": 74,
     "metadata": {},
     "output_type": "execute_result"
    }
   ],
   "source": [
    "k"
   ]
  },
  {
   "cell_type": "code",
   "execution_count": 75,
   "id": "d64c7252-ce99-488d-9d3e-bdcdbb2d7573",
   "metadata": {},
   "outputs": [
    {
     "data": {
      "text/plain": [
       "dict_keys([1, 2, 3, 4, 5, 6, 7, 8, 9, 10])"
      ]
     },
     "execution_count": 75,
     "metadata": {},
     "output_type": "execute_result"
    }
   ],
   "source": [
    "k.keys()"
   ]
  },
  {
   "cell_type": "code",
   "execution_count": 76,
   "id": "65a50cdc-23f8-42da-9ccc-4a441639292c",
   "metadata": {},
   "outputs": [
    {
     "data": {
      "text/plain": [
       "dict_values(['krishna', 'Mohan', 'Subham', 'available', 'available', 'available', 'available', 'available', 'available', 'available'])"
      ]
     },
     "execution_count": 76,
     "metadata": {},
     "output_type": "execute_result"
    }
   ],
   "source": [
    "k.values()"
   ]
  },
  {
   "cell_type": "code",
   "execution_count": 77,
   "id": "71d4f0cc-f014-4af1-b08b-66cf70cb4d45",
   "metadata": {},
   "outputs": [
    {
     "data": {
      "text/plain": [
       "dict_items([(1, 'krishna'), (2, 'Mohan'), (3, 'Subham'), (4, 'available'), (5, 'available'), (6, 'available'), (7, 'available'), (8, 'available'), (9, 'available'), (10, 'available')])"
      ]
     },
     "execution_count": 77,
     "metadata": {},
     "output_type": "execute_result"
    }
   ],
   "source": [
    "k.items()"
   ]
  },
  {
   "cell_type": "code",
   "execution_count": 78,
   "id": "a64fe1a1-ea0c-4104-be30-ec9c1cb12dc1",
   "metadata": {},
   "outputs": [
    {
     "data": {
      "text/plain": [
       "'krishna'"
      ]
     },
     "execution_count": 78,
     "metadata": {},
     "output_type": "execute_result"
    }
   ],
   "source": [
    "k[1]"
   ]
  },
  {
   "cell_type": "code",
   "execution_count": 79,
   "id": "24b955e2-12f7-4631-99c0-0e8befab1b20",
   "metadata": {},
   "outputs": [
    {
     "ename": "KeyError",
     "evalue": "111",
     "output_type": "error",
     "traceback": [
      "\u001b[1;31m---------------------------------------------------------------------------\u001b[0m",
      "\u001b[1;31mKeyError\u001b[0m                                  Traceback (most recent call last)",
      "Cell \u001b[1;32mIn[79], line 1\u001b[0m\n\u001b[1;32m----> 1\u001b[0m \u001b[43mk\u001b[49m\u001b[43m[\u001b[49m\u001b[38;5;241;43m111\u001b[39;49m\u001b[43m]\u001b[49m\n",
      "\u001b[1;31mKeyError\u001b[0m: 111"
     ]
    }
   ],
   "source": [
    "k[111]"
   ]
  },
  {
   "cell_type": "code",
   "execution_count": 80,
   "id": "07656f01-204b-4f08-8546-eb8f6c54a391",
   "metadata": {},
   "outputs": [],
   "source": [
    "k.get(111)"
   ]
  },
  {
   "cell_type": "code",
   "execution_count": 81,
   "id": "b3e18aad-661a-40c0-afb9-d63a051e391b",
   "metadata": {},
   "outputs": [
    {
     "data": {
      "text/plain": [
       "'krishna'"
      ]
     },
     "execution_count": 81,
     "metadata": {},
     "output_type": "execute_result"
    }
   ],
   "source": [
    "k.get(1)"
   ]
  },
  {
   "cell_type": "code",
   "execution_count": 82,
   "id": "5008f4c2-0ae6-4663-97ad-9811042ffec5",
   "metadata": {},
   "outputs": [
    {
     "data": {
      "text/plain": [
       "'key is not available'"
      ]
     },
     "execution_count": 82,
     "metadata": {},
     "output_type": "execute_result"
    }
   ],
   "source": [
    "k.get(111,\"key is not available\")"
   ]
  },
  {
   "cell_type": "code",
   "execution_count": 83,
   "id": "c0090e25-3840-4946-a5ab-d7e9970da28c",
   "metadata": {},
   "outputs": [
    {
     "data": {
      "text/plain": [
       "'krishna'"
      ]
     },
     "execution_count": 83,
     "metadata": {},
     "output_type": "execute_result"
    }
   ],
   "source": [
    "k.get(1,\"key is not available\")"
   ]
  },
  {
   "cell_type": "code",
   "execution_count": 84,
   "id": "28dbc751-7fc4-48c0-b880-17562f3823a4",
   "metadata": {},
   "outputs": [
    {
     "data": {
      "text/plain": [
       "{1: 'krishna',\n",
       " 2: 'Mohan',\n",
       " 3: 'Subham',\n",
       " 4: 'available',\n",
       " 5: 'available',\n",
       " 6: 'available',\n",
       " 7: 'available',\n",
       " 8: 'available',\n",
       " 9: 'available',\n",
       " 10: 'available'}"
      ]
     },
     "execution_count": 84,
     "metadata": {},
     "output_type": "execute_result"
    }
   ],
   "source": [
    "k"
   ]
  },
  {
   "cell_type": "code",
   "execution_count": 86,
   "id": "e7b0ce61-7ea1-4d8f-a957-1c8ca90fa7da",
   "metadata": {},
   "outputs": [
    {
     "data": {
      "text/plain": [
       "'available'"
      ]
     },
     "execution_count": 86,
     "metadata": {},
     "output_type": "execute_result"
    }
   ],
   "source": [
    "k.pop(10)"
   ]
  },
  {
   "cell_type": "code",
   "execution_count": 87,
   "id": "85dd8704-e47c-4a59-94aa-3588364761c9",
   "metadata": {},
   "outputs": [
    {
     "name": "stdout",
     "output_type": "stream",
     "text": [
      "{1: 'krishna', 2: 'Mohan', 3: 'Subham', 4: 'available', 5: 'available', 6: 'available', 7: 'available', 8: 'available', 9: 'available'}\n"
     ]
    }
   ],
   "source": [
    "print(k)"
   ]
  },
  {
   "cell_type": "code",
   "execution_count": 88,
   "id": "22086175-732c-4ef6-a172-7f88ea7555d5",
   "metadata": {},
   "outputs": [
    {
     "data": {
      "text/plain": [
       "(9, 'available')"
      ]
     },
     "execution_count": 88,
     "metadata": {},
     "output_type": "execute_result"
    }
   ],
   "source": [
    "k.popitem()"
   ]
  },
  {
   "cell_type": "code",
   "execution_count": 89,
   "id": "9397d4fe-f26b-48e8-b137-66662e71dbc0",
   "metadata": {},
   "outputs": [
    {
     "ename": "KeyError",
     "evalue": "111",
     "output_type": "error",
     "traceback": [
      "\u001b[1;31m---------------------------------------------------------------------------\u001b[0m",
      "\u001b[1;31mKeyError\u001b[0m                                  Traceback (most recent call last)",
      "Cell \u001b[1;32mIn[89], line 1\u001b[0m\n\u001b[1;32m----> 1\u001b[0m \u001b[43mk\u001b[49m\u001b[38;5;241;43m.\u001b[39;49m\u001b[43mpop\u001b[49m\u001b[43m(\u001b[49m\u001b[38;5;241;43m111\u001b[39;49m\u001b[43m)\u001b[49m\n",
      "\u001b[1;31mKeyError\u001b[0m: 111"
     ]
    }
   ],
   "source": [
    "k.pop(111)"
   ]
  },
  {
   "cell_type": "code",
   "execution_count": null,
   "id": "2f2bd00e-b9bb-4c48-95e7-26f167a9aec9",
   "metadata": {},
   "outputs": [],
   "source": [
    "k"
   ]
  }
 ],
 "metadata": {
  "kernelspec": {
   "display_name": "Python 3 (ipykernel)",
   "language": "python",
   "name": "python3"
  },
  "language_info": {
   "codemirror_mode": {
    "name": "ipython",
    "version": 3
   },
   "file_extension": ".py",
   "mimetype": "text/x-python",
   "name": "python",
   "nbconvert_exporter": "python",
   "pygments_lexer": "ipython3",
   "version": "3.12.0"
  }
 },
 "nbformat": 4,
 "nbformat_minor": 5
}
