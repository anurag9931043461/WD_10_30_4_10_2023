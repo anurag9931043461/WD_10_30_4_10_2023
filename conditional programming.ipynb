{
 "cells": [
  {
   "cell_type": "markdown",
   "id": "2ced8b81-11ab-4a80-9ebd-64f6fceb8ae2",
   "metadata": {},
   "source": [
    "# conditional programming\n",
    "    \n",
    "> indentation\n",
    "    \n",
    "> if else\n",
    "\n",
    "> nested if else\n",
    "\n",
    "> if elif else\n",
    "\n",
    "> nested if elif else\n",
    "\n",
    "> ternary operator\n",
    "    \n",
    "> pass keyword"
   ]
  },
  {
   "cell_type": "code",
   "execution_count": 4,
   "id": "1f1f05c7-8511-4148-be84-56dc65f703d7",
   "metadata": {},
   "outputs": [
    {
     "name": "stdin",
     "output_type": "stream",
     "text": [
      "Choose a path:  goa\n"
     ]
    },
    {
     "name": "stdout",
     "output_type": "stream",
     "text": [
      "i am going to goa\n",
      "i will buy cigratte\n"
     ]
    }
   ],
   "source": [
    "user=input(\"Choose a path: \")\n",
    "if user==\"goa\":\n",
    "    print(\"i am going to goa\")\n",
    "    print(\"i will buy cigratte\")\n",
    "else:\n",
    "    print(\"I am going to meet chitragupta\")"
   ]
  },
  {
   "cell_type": "code",
   "execution_count": 7,
   "id": "5b827c9c-99d4-40f8-9a28-8029b81bdbce",
   "metadata": {},
   "outputs": [
    {
     "name": "stdout",
     "output_type": "stream",
     "text": [
      "foa\n"
     ]
    }
   ],
   "source": [
    "print(user)"
   ]
  },
  {
   "cell_type": "code",
   "execution_count": 11,
   "id": "e6709180-90be-451c-b6ff-5dfa75e3410c",
   "metadata": {},
   "outputs": [
    {
     "name": "stdin",
     "output_type": "stream",
     "text": [
      "Choose a path:  goa\n"
     ]
    },
    {
     "name": "stdout",
     "output_type": "stream",
     "text": [
      "i am going to goa\n",
      "i will buy cigratte\n"
     ]
    }
   ],
   "source": [
    "user=input(\"Choose a path: \")\n",
    "if user==\"goa\":\n",
    "    print(\"i am going to goa\")\n",
    "    print(\"i will buy cigratte\")\n",
    "else:\n",
    "    print(\"I am going to meet chitragupta\")"
   ]
  },
  {
   "cell_type": "code",
   "execution_count": 22,
   "id": "5d8627f9-83db-4fe2-a4e2-b98fe472e01d",
   "metadata": {},
   "outputs": [
    {
     "ename": "SyntaxError",
     "evalue": "invalid syntax (2626068459.py, line 5)",
     "output_type": "error",
     "traceback": [
      "\u001b[1;36m  Cell \u001b[1;32mIn[22], line 5\u001b[1;36m\u001b[0m\n\u001b[1;33m    else:\u001b[0m\n\u001b[1;37m    ^\u001b[0m\n\u001b[1;31mSyntaxError\u001b[0m\u001b[1;31m:\u001b[0m invalid syntax\n"
     ]
    }
   ],
   "source": [
    "user=input(\"Choose a path: \")\n",
    "# if user==\"goa\":\n",
    "#     print(\"i am going to goa\")\n",
    "#     print(\"i will buy cigratte\")\n",
    "else:\n",
    "    print(\"I am going to meet chitragupta\")"
   ]
  },
  {
   "cell_type": "code",
   "execution_count": null,
   "id": "ad148455-082d-49ec-b95f-3b1ba5f7ec64",
   "metadata": {},
   "outputs": [],
   "source": []
  },
  {
   "cell_type": "code",
   "execution_count": null,
   "id": "b8cca5ab-e624-4f24-8fdf-c12b74c57034",
   "metadata": {},
   "outputs": [],
   "source": []
  },
  {
   "cell_type": "markdown",
   "id": "d6e79317-d95d-445a-9564-4e15ce30891d",
   "metadata": {},
   "source": [
    "# nested if else"
   ]
  },
  {
   "cell_type": "code",
   "execution_count": 12,
   "id": "dd05d27d-a069-4a4a-9556-57f8e482f4c7",
   "metadata": {},
   "outputs": [
    {
     "name": "stdin",
     "output_type": "stream",
     "text": [
      "Choose a path: goa\n"
     ]
    },
    {
     "name": "stdout",
     "output_type": "stream",
     "text": [
      "i am going to goa\n",
      "i will buy cigratte\n"
     ]
    }
   ],
   "source": [
    "user=input(\"Choose a path:\")\n",
    "if user==\"goa\":\n",
    "    print(\"i am going to goa\")\n",
    "    print(\"i will buy cigratte\")\n",
    "else:\n",
    "    if user==\"shimla\":\n",
    "        print(\"I am going Shimla\")\n",
    "    else:\n",
    "        print(\"I am going back home\")"
   ]
  },
  {
   "cell_type": "code",
   "execution_count": 13,
   "id": "135e9904-67ae-426c-b346-9a7ae663b29d",
   "metadata": {},
   "outputs": [
    {
     "name": "stdin",
     "output_type": "stream",
     "text": [
      "Choose a path: paris\n"
     ]
    },
    {
     "name": "stdout",
     "output_type": "stream",
     "text": [
      "I am going back home\n"
     ]
    }
   ],
   "source": [
    "user=input(\"Choose a path:\")\n",
    "if user==\"goa\":\n",
    "    print(\"i am going to goa\")\n",
    "    print(\"i will buy cigratte\")\n",
    "else:\n",
    "    if user==\"shimla\":\n",
    "        print(\"I am going Shimla\")\n",
    "    else:\n",
    "        print(\"I am going back home\")"
   ]
  },
  {
   "cell_type": "code",
   "execution_count": 14,
   "id": "6028939f-7b16-4bc5-ab0e-fddfc6929835",
   "metadata": {},
   "outputs": [
    {
     "name": "stdin",
     "output_type": "stream",
     "text": [
      "Choose a path: shimla\n"
     ]
    },
    {
     "name": "stdout",
     "output_type": "stream",
     "text": [
      "I am going Shimla\n"
     ]
    }
   ],
   "source": [
    "user=input(\"Choose a path:\")\n",
    "if user==\"goa\":\n",
    "    print(\"i am going to goa\")\n",
    "    print(\"i will buy cigratte\")\n",
    "else:\n",
    "    if user==\"shimla\":\n",
    "        print(\"I am going Shimla\")\n",
    "    else:\n",
    "        print(\"I am going back home\")"
   ]
  },
  {
   "cell_type": "markdown",
   "id": "2c3aef14-dc22-48d9-a297-4392ed9882c0",
   "metadata": {},
   "source": [
    "# if elif else"
   ]
  },
  {
   "cell_type": "code",
   "execution_count": 15,
   "id": "a38baef2-3a41-4593-acf6-574aa4396c7a",
   "metadata": {},
   "outputs": [
    {
     "name": "stdin",
     "output_type": "stream",
     "text": [
      "Kindly choose one option:\n",
      "A\n",
      "B\n",
      "C\n",
      "D \n",
      ": A\n"
     ]
    }
   ],
   "source": [
    "user=input(\"\"\"Kindly choose one option:\n",
    "A\n",
    "B\n",
    "C\n",
    "D \n",
    ":\"\"\")"
   ]
  },
  {
   "cell_type": "code",
   "execution_count": 16,
   "id": "cd44ab43-444f-438a-a878-78912ccfac11",
   "metadata": {},
   "outputs": [
    {
     "name": "stdout",
     "output_type": "stream",
     "text": [
      "A\n"
     ]
    }
   ],
   "source": [
    "print(user)"
   ]
  },
  {
   "cell_type": "code",
   "execution_count": 25,
   "id": "3e07e340-c334-4c1d-854d-7d7667c05c7c",
   "metadata": {},
   "outputs": [
    {
     "name": "stdin",
     "output_type": "stream",
     "text": [
      "Kindly choose one option:\n",
      "A\n",
      "B\n",
      "C\n",
      "D \n",
      " A\n"
     ]
    },
    {
     "name": "stdout",
     "output_type": "stream",
     "text": [
      "option A\n",
      "option B\n",
      "go to hell\n"
     ]
    }
   ],
   "source": [
    "user=input(\"\"\"Kindly choose one option:\n",
    "A\n",
    "B\n",
    "C\n",
    "D \n",
    "\"\"\")\n",
    "if user==\"A\":\n",
    "    print(\"option A\")\n",
    "if user==\"A\":\n",
    "    print(\"option B\")\n",
    "if user==\"C\":\n",
    "    print(\"option C\")\n",
    "if user==\"D\":\n",
    "    print(\"option D\")\n",
    "else:\n",
    "    print(\"go to hell\")"
   ]
  },
  {
   "cell_type": "code",
   "execution_count": 27,
   "id": "6ffba55d-ec5c-4607-a8cb-a425243a349e",
   "metadata": {},
   "outputs": [
    {
     "name": "stdin",
     "output_type": "stream",
     "text": [
      "Kindly choose one option:\n",
      "A\n",
      "B\n",
      "C\n",
      "D \n",
      " A\n"
     ]
    },
    {
     "name": "stdout",
     "output_type": "stream",
     "text": [
      "option A\n"
     ]
    }
   ],
   "source": [
    "user=input(\"\"\"Kindly choose one option:\n",
    "A\n",
    "B\n",
    "C\n",
    "D \n",
    "\"\"\")\n",
    "if user==\"A\":\n",
    "    print(\"option A\")\n",
    "elif user==\"B\":\n",
    "    print(\"option B\")\n",
    "elif user==\"C\":\n",
    "    print(\"option C\")\n",
    "elif user==\"D\":\n",
    "    print(\"option D\")\n",
    "else:\n",
    "    print(\"go to hell\")"
   ]
  },
  {
   "cell_type": "code",
   "execution_count": 28,
   "id": "32a3f555-29a8-4791-9303-748afd378d32",
   "metadata": {},
   "outputs": [
    {
     "name": "stdin",
     "output_type": "stream",
     "text": [
      "Kindly choose one option:\n",
      "A\n",
      "B\n",
      "C\n",
      "D \n",
      " B\n"
     ]
    },
    {
     "name": "stdout",
     "output_type": "stream",
     "text": [
      "option B\n"
     ]
    }
   ],
   "source": [
    "user=input(\"\"\"Kindly choose one option:\n",
    "A\n",
    "B\n",
    "C\n",
    "D \n",
    "\"\"\")\n",
    "if user==\"A\":\n",
    "    print(\"option A\")\n",
    "elif user==\"B\":\n",
    "    print(\"option B\")\n",
    "elif user==\"C\":\n",
    "    print(\"option C\")\n",
    "elif user==\"D\":\n",
    "    print(\"option D\")\n",
    "else:\n",
    "    print(\"go to hell\")"
   ]
  },
  {
   "cell_type": "code",
   "execution_count": 29,
   "id": "8e38a35d-e5c9-469c-92e7-295586848be6",
   "metadata": {},
   "outputs": [
    {
     "name": "stdin",
     "output_type": "stream",
     "text": [
      "Kindly choose one option:\n",
      "A\n",
      "B\n",
      "C\n",
      "D \n",
      " C\n"
     ]
    },
    {
     "name": "stdout",
     "output_type": "stream",
     "text": [
      "option C\n"
     ]
    }
   ],
   "source": [
    "user=input(\"\"\"Kindly choose one option:\n",
    "A\n",
    "B\n",
    "C\n",
    "D \n",
    "\"\"\")\n",
    "if user==\"A\":\n",
    "    print(\"option A\")\n",
    "elif user==\"B\":\n",
    "    print(\"option B\")\n",
    "elif user==\"C\":\n",
    "    print(\"option C\")\n",
    "elif user==\"D\":\n",
    "    print(\"option D\")\n",
    "else:\n",
    "    print(\"go to hell\")"
   ]
  },
  {
   "cell_type": "code",
   "execution_count": 30,
   "id": "76049d5e-2ff2-45b0-a557-7d22270fd323",
   "metadata": {},
   "outputs": [
    {
     "name": "stdin",
     "output_type": "stream",
     "text": [
      "Kindly choose one option:\n",
      "A\n",
      "B\n",
      "C\n",
      "D \n",
      " fgdgdgdfg\n"
     ]
    },
    {
     "name": "stdout",
     "output_type": "stream",
     "text": [
      "go to hell\n"
     ]
    }
   ],
   "source": [
    "user=input(\"\"\"Kindly choose one option:\n",
    "A\n",
    "B\n",
    "C\n",
    "D \n",
    "\"\"\")\n",
    "if user==\"A\":\n",
    "    print(\"option A\")\n",
    "elif user==\"B\":\n",
    "    print(\"option B\")\n",
    "elif user==\"C\":\n",
    "    print(\"option C\")\n",
    "elif user==\"D\":\n",
    "    print(\"option D\")\n",
    "else:\n",
    "    print(\"go to hell\")"
   ]
  },
  {
   "cell_type": "code",
   "execution_count": 32,
   "id": "237d0881-f575-45fb-93d0-a6630fa94d96",
   "metadata": {},
   "outputs": [
    {
     "name": "stdin",
     "output_type": "stream",
     "text": [
      "Kindly choose one option:\n",
      "A\n",
      "B\n",
      "C\n",
      "D \n",
      " A\n"
     ]
    },
    {
     "name": "stdout",
     "output_type": "stream",
     "text": [
      "option A\n",
      "right answer\n"
     ]
    }
   ],
   "source": [
    "user=input(\"\"\"Kindly choose one option:\n",
    "A\n",
    "B\n",
    "C\n",
    "D \n",
    "\"\"\")\n",
    "if user==\"A\":\n",
    "    print(\"option A\")\n",
    "    if user==\"A\":\n",
    "        print(\"right answer\")\n",
    "    else:\n",
    "        print(\"Wrong answer\")\n",
    "elif user==\"B\":\n",
    "    print(\"option B\")\n",
    "elif user==\"C\":\n",
    "    print(\"option C\")\n",
    "elif user==\"D\":\n",
    "    print(\"option D\")\n",
    "else:\n",
    "    print(\"go to hell\")"
   ]
  },
  {
   "cell_type": "markdown",
   "id": "6aa8d17d-d773-4c1a-a935-7bdf83e0f850",
   "metadata": {},
   "source": [
    "# ternary operator\n",
    "\n",
    "we can right an if else condition in a single line.\n",
    "\n",
    "condition1: if and else block must have one statement in its block."
   ]
  },
  {
   "cell_type": "code",
   "execution_count": 33,
   "id": "5d922e74-3fb9-4c39-aea0-5dfdd5bd7517",
   "metadata": {},
   "outputs": [
    {
     "name": "stdin",
     "output_type": "stream",
     "text": [
      "Choose a path:  goa\n"
     ]
    },
    {
     "name": "stdout",
     "output_type": "stream",
     "text": [
      "i am going to goa\n"
     ]
    }
   ],
   "source": [
    "user=input(\"Choose a path: \")\n",
    "if user==\"goa\":\n",
    "    print(\"i am going to goa\")\n",
    "else:\n",
    "    print(\"I am going to meet chitragupta\")"
   ]
  },
  {
   "cell_type": "code",
   "execution_count": 35,
   "id": "b82e724d-ced9-47ae-9967-61891989d05b",
   "metadata": {},
   "outputs": [
    {
     "name": "stdin",
     "output_type": "stream",
     "text": [
      "Choose a path:  goa\n"
     ]
    },
    {
     "name": "stdout",
     "output_type": "stream",
     "text": [
      "i am going to goa\n"
     ]
    }
   ],
   "source": [
    "user=input(\"Choose a path: \")\n",
    "print(\"i am going to goa\") if user==\"goa\" else print(\"I am going to meet chitragupta\")"
   ]
  },
  {
   "cell_type": "code",
   "execution_count": 36,
   "id": "06144e40-625e-4616-b782-430a30da37e0",
   "metadata": {},
   "outputs": [
    {
     "name": "stdin",
     "output_type": "stream",
     "text": [
      "Choose a path:  shimla\n"
     ]
    },
    {
     "name": "stdout",
     "output_type": "stream",
     "text": [
      "I am going to meet chitragupta\n"
     ]
    }
   ],
   "source": [
    "user=input(\"Choose a path: \")\n",
    "print(\"i am going to goa\") if user==\"goa\" else print(\"I am going to meet chitragupta\")"
   ]
  },
  {
   "cell_type": "code",
   "execution_count": 38,
   "id": "854ee9d0-bb63-4d02-a34d-ed5f85a8364b",
   "metadata": {},
   "outputs": [
    {
     "name": "stdin",
     "output_type": "stream",
     "text": [
      "Choose a path:  goa\n"
     ]
    }
   ],
   "source": [
    "user=input(\"Choose a path: \")\n",
    "if user==\"goa\":\n",
    "    pass\n",
    "else:\n",
    "    print(\"I am going to meet chitragupta\")"
   ]
  },
  {
   "cell_type": "code",
   "execution_count": null,
   "id": "11c42ed4-a753-41a6-8a7d-ffb735fb6756",
   "metadata": {},
   "outputs": [],
   "source": []
  }
 ],
 "metadata": {
  "kernelspec": {
   "display_name": "Python 3 (ipykernel)",
   "language": "python",
   "name": "python3"
  },
  "language_info": {
   "codemirror_mode": {
    "name": "ipython",
    "version": 3
   },
   "file_extension": ".py",
   "mimetype": "text/x-python",
   "name": "python",
   "nbconvert_exporter": "python",
   "pygments_lexer": "ipython3",
   "version": "3.12.0"
  }
 },
 "nbformat": 4,
 "nbformat_minor": 5
}
