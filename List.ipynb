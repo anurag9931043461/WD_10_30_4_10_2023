{
 "cells": [
  {
   "cell_type": "markdown",
   "id": "fcbf3538-56d1-406a-a0ee-288701f35744",
   "metadata": {},
   "source": [
    "# List\n",
    "\n",
    "> List constructor is list()\n",
    "\n",
    "> List literal is []\n",
    "\n",
    "> list is a set of sequence of element(s).\n",
    "\n",
    "> list support indexing\n",
    "\n",
    "> list support slicing \n",
    "\n",
    "> list is mutable datatype\n",
    "\n",
    "> list support concatination\n",
    "\n",
    "> list support nested list\n",
    "\n",
    "> list methods."
   ]
  },
  {
   "cell_type": "code",
   "execution_count": 1,
   "id": "948aa28a-45e5-42af-921b-fd56c52c2590",
   "metadata": {},
   "outputs": [],
   "source": [
    "a=[10,10.0,'10',[10]]"
   ]
  },
  {
   "cell_type": "code",
   "execution_count": 2,
   "id": "8d289c3d-c0a9-43b3-858f-66595c5a1c74",
   "metadata": {},
   "outputs": [
    {
     "name": "stdout",
     "output_type": "stream",
     "text": [
      "[10, 10.0, '10', [10]]\n"
     ]
    }
   ],
   "source": [
    "print(a)"
   ]
  },
  {
   "cell_type": "code",
   "execution_count": 3,
   "id": "7bb84fb9-e72d-4832-bea8-45e507419d6c",
   "metadata": {},
   "outputs": [
    {
     "name": "stdout",
     "output_type": "stream",
     "text": [
      "10\n"
     ]
    }
   ],
   "source": [
    "print(a[0])"
   ]
  },
  {
   "cell_type": "code",
   "execution_count": 5,
   "id": "2a9a1340-ce9f-4dfe-ae4f-2707c044facd",
   "metadata": {},
   "outputs": [],
   "source": [
    "b=a[0]"
   ]
  },
  {
   "cell_type": "code",
   "execution_count": 6,
   "id": "07e5ef28-a39a-425f-92af-3648ea1e3df9",
   "metadata": {},
   "outputs": [
    {
     "name": "stdout",
     "output_type": "stream",
     "text": [
      "<class 'int'>\n"
     ]
    }
   ],
   "source": [
    "print(type(b))"
   ]
  },
  {
   "cell_type": "code",
   "execution_count": 8,
   "id": "3195ecf5-11f1-4c6d-a140-f5f51830bf79",
   "metadata": {},
   "outputs": [],
   "source": [
    "c=a[1]"
   ]
  },
  {
   "cell_type": "code",
   "execution_count": 9,
   "id": "8415dd54-3f6d-4028-9cc7-b793e1ba59cc",
   "metadata": {},
   "outputs": [
    {
     "name": "stdout",
     "output_type": "stream",
     "text": [
      "<class 'float'>\n"
     ]
    }
   ],
   "source": [
    "print(type(c))"
   ]
  },
  {
   "cell_type": "code",
   "execution_count": 11,
   "id": "46833de0-9101-46a0-9b63-93a7dab85c2d",
   "metadata": {},
   "outputs": [],
   "source": [
    "d=a[2]"
   ]
  },
  {
   "cell_type": "code",
   "execution_count": 12,
   "id": "9261d837-12b0-42df-8cd6-377aed0bf462",
   "metadata": {},
   "outputs": [
    {
     "name": "stdout",
     "output_type": "stream",
     "text": [
      "<class 'str'>\n"
     ]
    }
   ],
   "source": [
    "print(type(d))"
   ]
  },
  {
   "cell_type": "code",
   "execution_count": 14,
   "id": "abfca635-5838-40e3-b3f0-11073346097f",
   "metadata": {},
   "outputs": [],
   "source": [
    "e=a[3]"
   ]
  },
  {
   "cell_type": "code",
   "execution_count": 15,
   "id": "7ce1296d-277f-4dd5-86b1-5202d3a46003",
   "metadata": {},
   "outputs": [
    {
     "name": "stdout",
     "output_type": "stream",
     "text": [
      "<class 'list'>\n"
     ]
    }
   ],
   "source": [
    "print(type(e))"
   ]
  },
  {
   "cell_type": "code",
   "execution_count": 16,
   "id": "277474ac-12b8-4b4a-a997-88fe45dd86fb",
   "metadata": {},
   "outputs": [
    {
     "name": "stdout",
     "output_type": "stream",
     "text": [
      "[10, 10.0, '10', [10]]\n"
     ]
    }
   ],
   "source": [
    "print(a)"
   ]
  },
  {
   "cell_type": "code",
   "execution_count": 17,
   "id": "bcc29ba6-17de-4e5e-8a6b-f897b8d80086",
   "metadata": {},
   "outputs": [
    {
     "name": "stdout",
     "output_type": "stream",
     "text": [
      "[10]\n"
     ]
    }
   ],
   "source": [
    "print(a[-1])"
   ]
  },
  {
   "cell_type": "code",
   "execution_count": 18,
   "id": "6e633b6b-c880-425e-ae8d-d79295790354",
   "metadata": {},
   "outputs": [
    {
     "name": "stdout",
     "output_type": "stream",
     "text": [
      "10\n"
     ]
    }
   ],
   "source": [
    "print(a[-4])"
   ]
  },
  {
   "cell_type": "code",
   "execution_count": 21,
   "id": "cc5e12a2-d948-40d4-9ed1-d8f53e95ce3b",
   "metadata": {},
   "outputs": [],
   "source": [
    "a=['K', 'R', 'I', 'S', 'H', 'N', 'A']"
   ]
  },
  {
   "cell_type": "code",
   "execution_count": 22,
   "id": "3704e663-25ec-4211-b61b-95276a2564a9",
   "metadata": {},
   "outputs": [
    {
     "name": "stdout",
     "output_type": "stream",
     "text": [
      "['I', 'S', 'H', 'N']\n"
     ]
    }
   ],
   "source": [
    "print(a[2:6:1])"
   ]
  },
  {
   "cell_type": "code",
   "execution_count": 24,
   "id": "1e312867-3bdb-4c3c-b863-7fa65fa642f3",
   "metadata": {},
   "outputs": [
    {
     "name": "stdout",
     "output_type": "stream",
     "text": [
      "['I']\n"
     ]
    }
   ],
   "source": [
    "print(a[2:3:1])"
   ]
  },
  {
   "cell_type": "code",
   "execution_count": 25,
   "id": "056750f4-74e7-475d-aec7-c65218433684",
   "metadata": {},
   "outputs": [
    {
     "data": {
      "text/plain": [
       "['A', 'N', 'H', 'S', 'I', 'R', 'K']"
      ]
     },
     "execution_count": 25,
     "metadata": {},
     "output_type": "execute_result"
    }
   ],
   "source": [
    "a[-1:-8:-1]"
   ]
  },
  {
   "cell_type": "code",
   "execution_count": 26,
   "id": "4f3086b4-fd64-4d96-a3c7-81136112196c",
   "metadata": {},
   "outputs": [
    {
     "data": {
      "text/plain": [
       "['A', 'N', 'H', 'S', 'I', 'R', 'K']"
      ]
     },
     "execution_count": 26,
     "metadata": {},
     "output_type": "execute_result"
    }
   ],
   "source": [
    "a[-1::-1]"
   ]
  },
  {
   "cell_type": "code",
   "execution_count": 27,
   "id": "808e3eb2-4cb8-4683-a6ec-abfc6ed4c917",
   "metadata": {},
   "outputs": [
    {
     "data": {
      "text/plain": [
       "['A', 'N', 'H', 'S', 'I', 'R', 'K']"
      ]
     },
     "execution_count": 27,
     "metadata": {},
     "output_type": "execute_result"
    }
   ],
   "source": [
    "a[::-1]"
   ]
  },
  {
   "cell_type": "code",
   "execution_count": 32,
   "id": "e37bbbdf-f15e-4e60-9a86-2a61a97082ce",
   "metadata": {},
   "outputs": [
    {
     "name": "stdout",
     "output_type": "stream",
     "text": [
      "<class 'list'>\n"
     ]
    }
   ],
   "source": [
    "a=list()     #constructor of list \n",
    "print(type(a))"
   ]
  },
  {
   "cell_type": "code",
   "execution_count": 29,
   "id": "63e65d83-8855-4ce8-8165-a940bb0fc1b0",
   "metadata": {},
   "outputs": [
    {
     "name": "stdout",
     "output_type": "stream",
     "text": [
      "[]\n"
     ]
    }
   ],
   "source": [
    "print(a)"
   ]
  },
  {
   "cell_type": "code",
   "execution_count": 33,
   "id": "0354c17f-e0e2-4a3d-a5c6-a4bd9e919f70",
   "metadata": {},
   "outputs": [
    {
     "name": "stdout",
     "output_type": "stream",
     "text": [
      "<class 'list'>\n"
     ]
    }
   ],
   "source": [
    "b=[]      #literal of list\n",
    "print(type(b))"
   ]
  },
  {
   "cell_type": "code",
   "execution_count": 31,
   "id": "c822235b-0467-4ab6-8ae0-34c523589ff8",
   "metadata": {},
   "outputs": [
    {
     "name": "stdout",
     "output_type": "stream",
     "text": [
      "[]\n"
     ]
    }
   ],
   "source": [
    "print(b)"
   ]
  },
  {
   "cell_type": "code",
   "execution_count": 3,
   "id": "508499b0-73bc-4475-b7b0-276953eabd53",
   "metadata": {},
   "outputs": [
    {
     "name": "stdout",
     "output_type": "stream",
     "text": [
      "5\n"
     ]
    }
   ],
   "source": [
    "print(2+3) #this is not concatination"
   ]
  },
  {
   "cell_type": "code",
   "execution_count": 5,
   "id": "a67fba3b-2f85-4640-b87f-2d61a70dbedf",
   "metadata": {},
   "outputs": [
    {
     "name": "stdout",
     "output_type": "stream",
     "text": [
      "234\n"
     ]
    }
   ],
   "source": [
    "print('2'+'3'+'4')    # it is concatination "
   ]
  },
  {
   "cell_type": "code",
   "execution_count": 8,
   "id": "470c136f-8c20-4fb0-9619-30d6d4c3c7c2",
   "metadata": {},
   "outputs": [
    {
     "name": "stdout",
     "output_type": "stream",
     "text": [
      "[1, 2, 3, 4, 4, 5, 6, 7]\n"
     ]
    }
   ],
   "source": [
    "#list support concatination \n",
    "a=[1,2,3,4]\n",
    "b=[4,5,6,7]\n",
    "print(a+b)"
   ]
  },
  {
   "cell_type": "code",
   "execution_count": 12,
   "id": "3b736fe4-476f-4b88-85b3-e5dad1a01872",
   "metadata": {},
   "outputs": [],
   "source": [
    "a=[1,2,3,4,5,6,[7,3,34,23,34],3,32,423,423,4]"
   ]
  },
  {
   "cell_type": "code",
   "execution_count": 13,
   "id": "3128fa0e-14b8-4045-805f-87d2f034e32a",
   "metadata": {},
   "outputs": [
    {
     "name": "stdout",
     "output_type": "stream",
     "text": [
      "12\n"
     ]
    }
   ],
   "source": [
    "print(len(a))"
   ]
  },
  {
   "cell_type": "code",
   "execution_count": 15,
   "id": "73a3b895-90f7-4bde-b42d-93a2fe651c71",
   "metadata": {},
   "outputs": [
    {
     "name": "stdout",
     "output_type": "stream",
     "text": [
      "[7, 3, 34, 23, 34]\n"
     ]
    }
   ],
   "source": [
    "print(a[6])"
   ]
  },
  {
   "cell_type": "code",
   "execution_count": 17,
   "id": "28f912e7-5dea-410f-b316-63e06601c31b",
   "metadata": {},
   "outputs": [
    {
     "name": "stdout",
     "output_type": "stream",
     "text": [
      "[7, 3, 34, 23, 34]\n"
     ]
    }
   ],
   "source": [
    "b=a[6]\n",
    "print(b)"
   ]
  },
  {
   "cell_type": "code",
   "execution_count": 19,
   "id": "98291ac5-e5bd-4473-b613-0d2aa328506a",
   "metadata": {},
   "outputs": [
    {
     "name": "stdout",
     "output_type": "stream",
     "text": [
      "23\n"
     ]
    }
   ],
   "source": [
    "print(b[3])"
   ]
  },
  {
   "cell_type": "code",
   "execution_count": 21,
   "id": "62502518-b2ec-434b-b567-c3f3b25f11fa",
   "metadata": {},
   "outputs": [
    {
     "data": {
      "text/plain": [
       "23"
      ]
     },
     "execution_count": 21,
     "metadata": {},
     "output_type": "execute_result"
    }
   ],
   "source": [
    "a[6][3]"
   ]
  },
  {
   "cell_type": "code",
   "execution_count": 22,
   "id": "db82909c-8dd3-4cf7-9cb5-2aedfcc46874",
   "metadata": {},
   "outputs": [],
   "source": [
    "a=[1,2,3,4,5,6,[7,3,[34,23],34],3,32,423,423,4]"
   ]
  },
  {
   "cell_type": "code",
   "execution_count": 25,
   "id": "a344c846-6b59-4f36-81c1-9d06c2ca1495",
   "metadata": {},
   "outputs": [
    {
     "data": {
      "text/plain": [
       "[7, 3, [34, 23], 34]"
      ]
     },
     "execution_count": 25,
     "metadata": {},
     "output_type": "execute_result"
    }
   ],
   "source": [
    "b=a[6]\n",
    "b"
   ]
  },
  {
   "cell_type": "code",
   "execution_count": 27,
   "id": "1eb065ac-d22a-42e5-bdec-f82269499907",
   "metadata": {},
   "outputs": [
    {
     "data": {
      "text/plain": [
       "[34, 23]"
      ]
     },
     "execution_count": 27,
     "metadata": {},
     "output_type": "execute_result"
    }
   ],
   "source": [
    "c=b[2]\n",
    "c"
   ]
  },
  {
   "cell_type": "code",
   "execution_count": 28,
   "id": "673673c8-fe5d-4a13-a501-661625e8f00b",
   "metadata": {},
   "outputs": [
    {
     "data": {
      "text/plain": [
       "23"
      ]
     },
     "execution_count": 28,
     "metadata": {},
     "output_type": "execute_result"
    }
   ],
   "source": [
    "c[1]"
   ]
  },
  {
   "cell_type": "code",
   "execution_count": 29,
   "id": "aac81937-752e-4b9c-9f4f-f1bac80453fd",
   "metadata": {},
   "outputs": [
    {
     "data": {
      "text/plain": [
       "23"
      ]
     },
     "execution_count": 29,
     "metadata": {},
     "output_type": "execute_result"
    }
   ],
   "source": [
    "[1,2,3,4,5,6,[7,3,[34,23],34],3,32,423,423,4][6][2][1]"
   ]
  },
  {
   "cell_type": "code",
   "execution_count": 30,
   "id": "6bb306e6-d4af-4c18-9efa-2322124b0176",
   "metadata": {},
   "outputs": [],
   "source": [
    "a=[1,2,3,4,5,6,[7,3,[34,23],34],3,32,423,423,4]"
   ]
  },
  {
   "cell_type": "code",
   "execution_count": 31,
   "id": "44de81e3-59df-4322-a46f-ffb94947c74b",
   "metadata": {},
   "outputs": [
    {
     "data": {
      "text/plain": [
       "23"
      ]
     },
     "execution_count": 31,
     "metadata": {},
     "output_type": "execute_result"
    }
   ],
   "source": [
    "a[-6][-2][-1]"
   ]
  },
  {
   "cell_type": "code",
   "execution_count": 32,
   "id": "3f25ecbd-887a-4800-84ac-e798f68a4a4a",
   "metadata": {},
   "outputs": [
    {
     "data": {
      "text/plain": [
       "23"
      ]
     },
     "execution_count": 32,
     "metadata": {},
     "output_type": "execute_result"
    }
   ],
   "source": [
    "a[6][-2][-1]"
   ]
  },
  {
   "cell_type": "code",
   "execution_count": 34,
   "id": "0ce974ae-7688-48a6-a074-1fc79afd1908",
   "metadata": {},
   "outputs": [],
   "source": [
    "a=[]"
   ]
  },
  {
   "cell_type": "code",
   "execution_count": 35,
   "id": "9348ecc0-20f1-426f-a218-4eb048c1ca73",
   "metadata": {},
   "outputs": [
    {
     "name": "stdout",
     "output_type": "stream",
     "text": [
      "<class 'list'>\n"
     ]
    }
   ],
   "source": [
    "print(type(a))"
   ]
  },
  {
   "cell_type": "code",
   "execution_count": 36,
   "id": "b4cca421-5b78-4ab1-987f-d77f72846527",
   "metadata": {},
   "outputs": [
    {
     "name": "stdout",
     "output_type": "stream",
     "text": [
      "2260733403200\n"
     ]
    }
   ],
   "source": [
    "print(id(a))"
   ]
  },
  {
   "cell_type": "code",
   "execution_count": 37,
   "id": "8f0ee1e2-2ebd-4851-bda7-804e6f72e0be",
   "metadata": {},
   "outputs": [],
   "source": [
    "a.append(10)"
   ]
  },
  {
   "cell_type": "code",
   "execution_count": 38,
   "id": "1d5ccf47-d0d2-4b9b-9877-526f06d51a8d",
   "metadata": {},
   "outputs": [
    {
     "name": "stdout",
     "output_type": "stream",
     "text": [
      "[10]\n"
     ]
    }
   ],
   "source": [
    "print(a)"
   ]
  },
  {
   "cell_type": "code",
   "execution_count": 39,
   "id": "4bbfa80e-77a0-4b9b-bc7d-00d418d2ba08",
   "metadata": {},
   "outputs": [
    {
     "name": "stdout",
     "output_type": "stream",
     "text": [
      "2260733403200\n"
     ]
    }
   ],
   "source": [
    "print(id(a))"
   ]
  },
  {
   "cell_type": "code",
   "execution_count": 40,
   "id": "47b7c551-9f16-4819-b4a5-2824ddde6379",
   "metadata": {},
   "outputs": [],
   "source": [
    "a.append(\"krishna\")"
   ]
  },
  {
   "cell_type": "code",
   "execution_count": 41,
   "id": "2ce1ce7d-5b13-4f98-9850-caee61ae1435",
   "metadata": {},
   "outputs": [
    {
     "name": "stdout",
     "output_type": "stream",
     "text": [
      "[10, 'krishna']\n"
     ]
    }
   ],
   "source": [
    "print(a)"
   ]
  },
  {
   "cell_type": "code",
   "execution_count": 42,
   "id": "ebe15506-8483-4fd0-80f7-93ea073ed5fc",
   "metadata": {},
   "outputs": [],
   "source": [
    "a.append(10.0)"
   ]
  },
  {
   "cell_type": "code",
   "execution_count": 43,
   "id": "8d8dd467-119a-41ec-a69f-896e2eb3fda4",
   "metadata": {},
   "outputs": [
    {
     "name": "stdout",
     "output_type": "stream",
     "text": [
      "[10, 'krishna', 10.0]\n"
     ]
    }
   ],
   "source": [
    "print(a)"
   ]
  },
  {
   "cell_type": "code",
   "execution_count": 44,
   "id": "8bbd705d-36ee-42c6-8cc0-3678fdf2cf8b",
   "metadata": {},
   "outputs": [],
   "source": [
    "a.append([10,1,2,3,4,\"krishna\"])"
   ]
  },
  {
   "cell_type": "code",
   "execution_count": 45,
   "id": "14c5d605-98db-4895-abd9-21e6abbae7c0",
   "metadata": {},
   "outputs": [
    {
     "name": "stdout",
     "output_type": "stream",
     "text": [
      "[10, 'krishna', 10.0, [10, 1, 2, 3, 4, 'krishna']]\n"
     ]
    }
   ],
   "source": [
    "print(a)"
   ]
  },
  {
   "cell_type": "code",
   "execution_count": 46,
   "id": "27eaf4ab-b2be-41a4-a7f1-521dc41d061f",
   "metadata": {},
   "outputs": [],
   "source": [
    "a.extend([10,1,2,3,4,\"krishna\"])"
   ]
  },
  {
   "cell_type": "code",
   "execution_count": 47,
   "id": "02e76745-cff4-454d-ba03-1bea389d73bb",
   "metadata": {},
   "outputs": [
    {
     "name": "stdout",
     "output_type": "stream",
     "text": [
      "[10, 'krishna', 10.0, [10, 1, 2, 3, 4, 'krishna'], 10, 1, 2, 3, 4, 'krishna']\n"
     ]
    }
   ],
   "source": [
    "print(a)"
   ]
  },
  {
   "cell_type": "code",
   "execution_count": 48,
   "id": "ee7b899a-fa46-4daa-a8a9-5b820680980f",
   "metadata": {},
   "outputs": [
    {
     "data": {
      "text/plain": [
       "'krishna'"
      ]
     },
     "execution_count": 48,
     "metadata": {},
     "output_type": "execute_result"
    }
   ],
   "source": [
    "a.pop()"
   ]
  },
  {
   "cell_type": "code",
   "execution_count": 49,
   "id": "da4be0c6-1b6b-4614-8865-9cc4e392eab3",
   "metadata": {},
   "outputs": [
    {
     "name": "stdout",
     "output_type": "stream",
     "text": [
      "[10, 'krishna', 10.0, [10, 1, 2, 3, 4, 'krishna'], 10, 1, 2, 3, 4]\n"
     ]
    }
   ],
   "source": [
    "print(a)"
   ]
  },
  {
   "cell_type": "code",
   "execution_count": 50,
   "id": "82bac2aa-5062-479b-92db-ce2c2ac0c182",
   "metadata": {},
   "outputs": [
    {
     "data": {
      "text/plain": [
       "10.0"
      ]
     },
     "execution_count": 50,
     "metadata": {},
     "output_type": "execute_result"
    }
   ],
   "source": [
    "a.pop(2)"
   ]
  },
  {
   "cell_type": "code",
   "execution_count": 60,
   "id": "52cce59c-8de3-4918-b68e-ab54e261a6d9",
   "metadata": {},
   "outputs": [
    {
     "name": "stdout",
     "output_type": "stream",
     "text": [
      "[10, 'krishna', [10, 1, 2, 3, 4, 'krishna'], 10, 1, 2, 3, 4]\n"
     ]
    }
   ],
   "source": [
    "print(a)"
   ]
  },
  {
   "cell_type": "code",
   "execution_count": 63,
   "id": "4eb04921-449e-4534-bdba-1aff8c62b6b1",
   "metadata": {},
   "outputs": [
    {
     "data": {
      "text/plain": [
       "2"
      ]
     },
     "execution_count": 63,
     "metadata": {},
     "output_type": "execute_result"
    }
   ],
   "source": [
    "a.pop(-3)"
   ]
  },
  {
   "cell_type": "code",
   "execution_count": 64,
   "id": "b30c7c52-81f4-43b3-a0f5-94a154602969",
   "metadata": {},
   "outputs": [
    {
     "name": "stdout",
     "output_type": "stream",
     "text": [
      "[10, 'krishna', [10, 1, 2, 3, 4, 'krishna'], 1, 3, 4]\n"
     ]
    }
   ],
   "source": [
    "print(a)"
   ]
  },
  {
   "cell_type": "code",
   "execution_count": 67,
   "id": "15e5868e-309c-4a4d-96b5-493c944b9258",
   "metadata": {},
   "outputs": [],
   "source": [
    "a.append(1)"
   ]
  },
  {
   "cell_type": "code",
   "execution_count": 68,
   "id": "5f421ae7-d26f-4628-836a-dacfdbe1a2c6",
   "metadata": {},
   "outputs": [
    {
     "name": "stdout",
     "output_type": "stream",
     "text": [
      "[10, 'krishna', [10, 1, 2, 3, 4, 'krishna'], 1, 3, 4, 1]\n"
     ]
    }
   ],
   "source": [
    "print(a)"
   ]
  },
  {
   "cell_type": "code",
   "execution_count": 69,
   "id": "f3e1f68d-ed32-47b4-9a0b-061e6d109c73",
   "metadata": {},
   "outputs": [
    {
     "data": {
      "text/plain": [
       "2"
      ]
     },
     "execution_count": 69,
     "metadata": {},
     "output_type": "execute_result"
    }
   ],
   "source": [
    "a.count(1)"
   ]
  },
  {
   "cell_type": "code",
   "execution_count": 70,
   "id": "4cd35f3c-63ad-4c1a-b966-2d300ad638db",
   "metadata": {},
   "outputs": [
    {
     "data": {
      "text/plain": [
       "3"
      ]
     },
     "execution_count": 70,
     "metadata": {},
     "output_type": "execute_result"
    }
   ],
   "source": [
    "a.index(1)"
   ]
  },
  {
   "cell_type": "code",
   "execution_count": 71,
   "id": "992d2509-2ea6-4451-bbee-53a7de0f81d0",
   "metadata": {},
   "outputs": [],
   "source": [
    "a.insert(1,\"Ramu\")"
   ]
  },
  {
   "cell_type": "code",
   "execution_count": 72,
   "id": "fac84feb-f3dc-4ff6-ae9f-fa2653403290",
   "metadata": {},
   "outputs": [
    {
     "name": "stdout",
     "output_type": "stream",
     "text": [
      "[10, 'Ramu', 'krishna', [10, 1, 2, 3, 4, 'krishna'], 1, 3, 4, 1]\n"
     ]
    }
   ],
   "source": [
    "print(a)"
   ]
  },
  {
   "cell_type": "code",
   "execution_count": 73,
   "id": "81d6cca5-3284-40eb-a5b4-28d49e34fc9d",
   "metadata": {},
   "outputs": [],
   "source": [
    "b=a"
   ]
  },
  {
   "cell_type": "code",
   "execution_count": 74,
   "id": "2a807a9a-48ad-4886-83f2-29b776a3a1de",
   "metadata": {},
   "outputs": [
    {
     "name": "stdout",
     "output_type": "stream",
     "text": [
      "2260733403200\n"
     ]
    }
   ],
   "source": [
    "print(id(b))"
   ]
  },
  {
   "cell_type": "code",
   "execution_count": 75,
   "id": "0b6dc3dd-dbe1-4dad-9800-9abd87c715eb",
   "metadata": {},
   "outputs": [
    {
     "name": "stdout",
     "output_type": "stream",
     "text": [
      "2260733403200\n"
     ]
    }
   ],
   "source": [
    "print(id(a))"
   ]
  },
  {
   "cell_type": "code",
   "execution_count": 76,
   "id": "46e32493-9177-4fcd-bd36-9fa43b8f38a2",
   "metadata": {},
   "outputs": [],
   "source": [
    "b.append(9999)"
   ]
  },
  {
   "cell_type": "code",
   "execution_count": 77,
   "id": "3b8c86f0-dd70-4823-ad99-8daaed89674d",
   "metadata": {},
   "outputs": [
    {
     "name": "stdout",
     "output_type": "stream",
     "text": [
      "[10, 'Ramu', 'krishna', [10, 1, 2, 3, 4, 'krishna'], 1, 3, 4, 1, 9999]\n"
     ]
    }
   ],
   "source": [
    "print(b)"
   ]
  },
  {
   "cell_type": "code",
   "execution_count": 78,
   "id": "fbc5f913-35f5-4fa0-b05a-946a0842c300",
   "metadata": {},
   "outputs": [
    {
     "name": "stdout",
     "output_type": "stream",
     "text": [
      "[10, 'Ramu', 'krishna', [10, 1, 2, 3, 4, 'krishna'], 1, 3, 4, 1, 9999]\n"
     ]
    }
   ],
   "source": [
    "print(a)"
   ]
  },
  {
   "cell_type": "code",
   "execution_count": 79,
   "id": "330ae108-c1a9-4896-8855-5a9a5e609a75",
   "metadata": {},
   "outputs": [],
   "source": [
    "c=a.copy()"
   ]
  },
  {
   "cell_type": "code",
   "execution_count": 82,
   "id": "9b8b42f0-3e19-404e-8fc2-8f2e27fe623b",
   "metadata": {},
   "outputs": [
    {
     "name": "stdout",
     "output_type": "stream",
     "text": [
      "[10, 'Ramu', 'krishna', [10, 1, 2, 3, 4, 'krishna'], 1, 3, 4, 1, 9999]\n",
      "2260733403200\n"
     ]
    }
   ],
   "source": [
    "print(a)\n",
    "print(id(a))"
   ]
  },
  {
   "cell_type": "code",
   "execution_count": 83,
   "id": "e1fd7897-0192-4122-ade1-c8fae1cc88c2",
   "metadata": {},
   "outputs": [
    {
     "name": "stdout",
     "output_type": "stream",
     "text": [
      "[10, 'Ramu', 'krishna', [10, 1, 2, 3, 4, 'krishna'], 1, 3, 4, 1, 9999]\n",
      "2260741634432\n"
     ]
    }
   ],
   "source": [
    "print(c)\n",
    "print(id(c))"
   ]
  },
  {
   "cell_type": "code",
   "execution_count": 84,
   "id": "dd29142b-553e-4a77-88e5-c8be0c5c5be2",
   "metadata": {},
   "outputs": [],
   "source": [
    "c.append(413423)"
   ]
  },
  {
   "cell_type": "code",
   "execution_count": 85,
   "id": "3a4f08ab-5be7-42d0-94f5-83ec1650ad1c",
   "metadata": {},
   "outputs": [
    {
     "name": "stdout",
     "output_type": "stream",
     "text": [
      "[10, 'Ramu', 'krishna', [10, 1, 2, 3, 4, 'krishna'], 1, 3, 4, 1, 9999, 413423]\n"
     ]
    }
   ],
   "source": [
    "print(c)"
   ]
  },
  {
   "cell_type": "code",
   "execution_count": 86,
   "id": "cb5451bd-3d57-49e2-9073-76e067c74b33",
   "metadata": {},
   "outputs": [
    {
     "name": "stdout",
     "output_type": "stream",
     "text": [
      "[10, 'Ramu', 'krishna', [10, 1, 2, 3, 4, 'krishna'], 1, 3, 4, 1, 9999]\n"
     ]
    }
   ],
   "source": [
    "print(a)"
   ]
  },
  {
   "cell_type": "code",
   "execution_count": 87,
   "id": "307e95fe-163c-4b0f-9e9e-78e095978991",
   "metadata": {},
   "outputs": [
    {
     "name": "stdout",
     "output_type": "stream",
     "text": [
      "[10, 'Ramu', 'krishna', [10, 1, 2, 3, 4, 'krishna'], 1, 3, 4, 1, 9999]\n"
     ]
    }
   ],
   "source": [
    "print(a)"
   ]
  },
  {
   "cell_type": "code",
   "execution_count": 88,
   "id": "37a2fe7a-b1e7-49a6-b1cc-3670cb109e70",
   "metadata": {},
   "outputs": [],
   "source": [
    "a.clear()"
   ]
  },
  {
   "cell_type": "code",
   "execution_count": 89,
   "id": "f4cbfa61-3551-4452-9e40-bf1706350255",
   "metadata": {},
   "outputs": [
    {
     "name": "stdout",
     "output_type": "stream",
     "text": [
      "[]\n"
     ]
    }
   ],
   "source": [
    "print(a)"
   ]
  },
  {
   "cell_type": "code",
   "execution_count": 90,
   "id": "3cd46e5f-3c0b-41c9-949a-1a0df119bef8",
   "metadata": {},
   "outputs": [
    {
     "name": "stdout",
     "output_type": "stream",
     "text": [
      "2260733403200\n"
     ]
    }
   ],
   "source": [
    "print(id(a))"
   ]
  },
  {
   "cell_type": "code",
   "execution_count": 92,
   "id": "53f1118e-3bd1-4971-8a69-923b2b37d35c",
   "metadata": {},
   "outputs": [
    {
     "name": "stdout",
     "output_type": "stream",
     "text": [
      "[10, 'Ramu', 'krishna', [10, 1, 2, 3, 4, 'krishna'], 1, 3, 4, 1, 9999, 413423]\n"
     ]
    }
   ],
   "source": [
    "print(c)"
   ]
  },
  {
   "cell_type": "code",
   "execution_count": 93,
   "id": "80cdabde-5344-4e28-9717-a894b4fbd12d",
   "metadata": {},
   "outputs": [],
   "source": [
    "c.remove(\"Ramu\")"
   ]
  },
  {
   "cell_type": "code",
   "execution_count": 94,
   "id": "8e1d1a71-87b5-43f9-bfc3-919bc1448547",
   "metadata": {},
   "outputs": [
    {
     "name": "stdout",
     "output_type": "stream",
     "text": [
      "[10, 'krishna', [10, 1, 2, 3, 4, 'krishna'], 1, 3, 4, 1, 9999, 413423]\n"
     ]
    }
   ],
   "source": [
    "print(c)"
   ]
  },
  {
   "cell_type": "code",
   "execution_count": 97,
   "id": "10469e47-16c8-4c46-baa4-f986e70a764f",
   "metadata": {},
   "outputs": [],
   "source": [
    "c.reverse()"
   ]
  },
  {
   "cell_type": "code",
   "execution_count": 98,
   "id": "637fc52a-46ab-4d14-8a27-b2dec5d5bf34",
   "metadata": {},
   "outputs": [
    {
     "name": "stdout",
     "output_type": "stream",
     "text": [
      "[10, 'krishna', [10, 1, 2, 3, 4, 'krishna'], 1, 3, 4, 1, 9999, 413423]\n"
     ]
    }
   ],
   "source": [
    "print(c)"
   ]
  },
  {
   "cell_type": "code",
   "execution_count": 100,
   "id": "6d70a21f-ee1f-4dd9-9d87-ed3322a83b59",
   "metadata": {},
   "outputs": [],
   "source": [
    "a=[3,23,43,54,23,54,6]"
   ]
  },
  {
   "cell_type": "code",
   "execution_count": 101,
   "id": "fe68c6d8-087e-4551-9139-9a595f6e264b",
   "metadata": {},
   "outputs": [],
   "source": [
    "a.sort()"
   ]
  },
  {
   "cell_type": "code",
   "execution_count": 102,
   "id": "1e75b44d-34be-49f1-bc2a-08331e19e4be",
   "metadata": {},
   "outputs": [
    {
     "name": "stdout",
     "output_type": "stream",
     "text": [
      "[3, 6, 23, 23, 43, 54, 54]\n"
     ]
    }
   ],
   "source": [
    "print(a)"
   ]
  },
  {
   "cell_type": "code",
   "execution_count": 103,
   "id": "ae86c66f-d6d8-483b-80f5-56c7ebd0452d",
   "metadata": {},
   "outputs": [],
   "source": [
    "a.sort(reverse=True)"
   ]
  },
  {
   "cell_type": "code",
   "execution_count": 104,
   "id": "3332e3f7-b189-4362-aec6-00dbd1ec0490",
   "metadata": {},
   "outputs": [
    {
     "name": "stdout",
     "output_type": "stream",
     "text": [
      "[54, 54, 43, 23, 23, 6, 3]\n"
     ]
    }
   ],
   "source": [
    "print(a)"
   ]
  },
  {
   "cell_type": "code",
   "execution_count": 115,
   "id": "0180c738-9fb2-4b4d-8d95-f00f7bf378a3",
   "metadata": {},
   "outputs": [],
   "source": [
    "def sortingbubble(num): #0(n**2)\n",
    "    for i in range(len(num)-1,0,-1):\n",
    "        for j in range(i):\n",
    "            if num[j]>num[j+1]:\n",
    "                num[j],num[j+1]=num[j+1],num[j]\n",
    "    return num"
   ]
  },
  {
   "cell_type": "code",
   "execution_count": 116,
   "id": "d6eea5df-9eab-4408-8e0c-20e956bd5c10",
   "metadata": {},
   "outputs": [
    {
     "data": {
      "text/plain": [
       "[2, 2, 4, 14, 54]"
      ]
     },
     "execution_count": 116,
     "metadata": {},
     "output_type": "execute_result"
    }
   ],
   "source": [
    "a=[14,2,4,2,54]\n",
    "sortingbubble(a)"
   ]
  },
  {
   "cell_type": "code",
   "execution_count": 112,
   "id": "dae61ff5-ed0d-4600-a3d1-95f82a3e75d4",
   "metadata": {},
   "outputs": [
    {
     "name": "stdout",
     "output_type": "stream",
     "text": [
      "[2, 2, 4, 14, 54]\n"
     ]
    }
   ],
   "source": [
    "print(a)"
   ]
  },
  {
   "cell_type": "code",
   "execution_count": 113,
   "id": "eb82230b-fc5d-4913-b1f4-e0eb07cf0705",
   "metadata": {},
   "outputs": [],
   "source": [
    "a=[]"
   ]
  },
  {
   "cell_type": "code",
   "execution_count": 114,
   "id": "a01832af-1597-4da3-94e9-03ed8e7321ae",
   "metadata": {},
   "outputs": [],
   "source": [
    "a.append(10)"
   ]
  },
  {
   "cell_type": "code",
   "execution_count": 117,
   "id": "9991be64-849b-4947-b3f6-44217dde909d",
   "metadata": {},
   "outputs": [],
   "source": [
    "a=\"A\""
   ]
  },
  {
   "cell_type": "code",
   "execution_count": 118,
   "id": "008b8a94-4840-4dab-aabf-9c3426bf07fa",
   "metadata": {},
   "outputs": [
    {
     "data": {
      "text/plain": [
       "65"
      ]
     },
     "execution_count": 118,
     "metadata": {},
     "output_type": "execute_result"
    }
   ],
   "source": [
    "ord(a)"
   ]
  },
  {
   "cell_type": "code",
   "execution_count": 119,
   "id": "89e1501b-5678-4a5f-a90a-c5bb80076377",
   "metadata": {},
   "outputs": [],
   "source": [
    "# selection sort"
   ]
  },
  {
   "cell_type": "code",
   "execution_count": 126,
   "id": "c7cd4c25-e314-4fac-9df4-f479aec9b40e",
   "metadata": {},
   "outputs": [],
   "source": [
    "a=[14,2,4,2,54]\n",
    "def selectionsort(a):\n",
    "    for i in range(len(a)):\n",
    "        min_position=i\n",
    "        for j in range(i+1,len(a)):\n",
    "            if a[j]<a[min_position]:\n",
    "                min_position=j\n",
    "        a[i],a[min_position]=a[min_position],a[i]\n",
    "                \n",
    "        "
   ]
  },
  {
   "cell_type": "code",
   "execution_count": 127,
   "id": "0491a296-4eee-4fe2-84e7-ccb9d0852a63",
   "metadata": {},
   "outputs": [],
   "source": [
    "selectionsort(a)"
   ]
  },
  {
   "cell_type": "code",
   "execution_count": 128,
   "id": "c8098225-0c60-4383-bf7a-cd7d5af76302",
   "metadata": {},
   "outputs": [
    {
     "name": "stdout",
     "output_type": "stream",
     "text": [
      "[2, 2, 4, 14, 54]\n"
     ]
    }
   ],
   "source": [
    "print(a)"
   ]
  },
  {
   "cell_type": "markdown",
   "id": "4cf0345a-cdb2-4316-85ae-d1231c5897b2",
   "metadata": {},
   "source": [
    "# list and tuple both support packing and unpacking "
   ]
  },
  {
   "cell_type": "code",
   "execution_count": 2,
   "id": "a921c815-8abd-44e8-b4b7-0eb13f6f5c27",
   "metadata": {},
   "outputs": [],
   "source": [
    "a=[1,2,3,4,5]"
   ]
  },
  {
   "cell_type": "code",
   "execution_count": 3,
   "id": "718c4a63-1208-4b0e-a3ef-d1e85e83633b",
   "metadata": {},
   "outputs": [],
   "source": [
    "k,l,m,n,o=a"
   ]
  },
  {
   "cell_type": "code",
   "execution_count": 4,
   "id": "2af4a5a0-9150-47b9-aee1-6f9b7574b0f3",
   "metadata": {},
   "outputs": [
    {
     "name": "stdout",
     "output_type": "stream",
     "text": [
      "1\n"
     ]
    }
   ],
   "source": [
    "print(k)"
   ]
  },
  {
   "cell_type": "code",
   "execution_count": 5,
   "id": "bef3448c-6c19-48d0-b27c-01a49af6c5b9",
   "metadata": {},
   "outputs": [
    {
     "name": "stdout",
     "output_type": "stream",
     "text": [
      "2\n"
     ]
    }
   ],
   "source": [
    "print(l)"
   ]
  },
  {
   "cell_type": "code",
   "execution_count": 6,
   "id": "a837b4d1-47e7-4f52-943e-b44249c3e63e",
   "metadata": {},
   "outputs": [
    {
     "name": "stdout",
     "output_type": "stream",
     "text": [
      "3\n"
     ]
    }
   ],
   "source": [
    "print(m)"
   ]
  },
  {
   "cell_type": "code",
   "execution_count": 10,
   "id": "8ff7e82e-0ef9-40b5-b55b-d85a832fed4c",
   "metadata": {},
   "outputs": [
    {
     "name": "stdout",
     "output_type": "stream",
     "text": [
      "4\n"
     ]
    }
   ],
   "source": [
    "print(n)"
   ]
  },
  {
   "cell_type": "code",
   "execution_count": 8,
   "id": "53be8930-8410-409f-ba3d-a45c99e99c91",
   "metadata": {},
   "outputs": [
    {
     "name": "stdout",
     "output_type": "stream",
     "text": [
      "5\n"
     ]
    }
   ],
   "source": [
    "print(o)"
   ]
  },
  {
   "cell_type": "code",
   "execution_count": 12,
   "id": "c0b16403-a5fa-423a-b1b4-ee784d896bb4",
   "metadata": {},
   "outputs": [],
   "source": [
    "k,*m,n,o=a"
   ]
  },
  {
   "cell_type": "code",
   "execution_count": 13,
   "id": "86558f65-539c-44ba-a7b8-0d5579334c27",
   "metadata": {},
   "outputs": [
    {
     "name": "stdout",
     "output_type": "stream",
     "text": [
      "1\n"
     ]
    }
   ],
   "source": [
    "print(k)"
   ]
  },
  {
   "cell_type": "code",
   "execution_count": 14,
   "id": "29fa9778-9341-45f6-a0ef-2ac29960ada4",
   "metadata": {},
   "outputs": [
    {
     "name": "stdout",
     "output_type": "stream",
     "text": [
      "5\n"
     ]
    }
   ],
   "source": [
    "print(o)"
   ]
  },
  {
   "cell_type": "code",
   "execution_count": 15,
   "id": "f99b2ec1-b859-4d99-b096-49ad47d0bc10",
   "metadata": {},
   "outputs": [
    {
     "name": "stdout",
     "output_type": "stream",
     "text": [
      "4\n"
     ]
    }
   ],
   "source": [
    "print(n)"
   ]
  },
  {
   "cell_type": "code",
   "execution_count": 16,
   "id": "b73f8fb7-988a-4046-97b2-3cef50849308",
   "metadata": {},
   "outputs": [
    {
     "name": "stdout",
     "output_type": "stream",
     "text": [
      "[2, 3]\n"
     ]
    }
   ],
   "source": [
    "print(m)"
   ]
  },
  {
   "cell_type": "code",
   "execution_count": null,
   "id": "1bc7e3cb-6873-4af4-bc02-486c1ddb429b",
   "metadata": {},
   "outputs": [],
   "source": []
  }
 ],
 "metadata": {
  "kernelspec": {
   "display_name": "Python 3 (ipykernel)",
   "language": "python",
   "name": "python3"
  },
  "language_info": {
   "codemirror_mode": {
    "name": "ipython",
    "version": 3
   },
   "file_extension": ".py",
   "mimetype": "text/x-python",
   "name": "python",
   "nbconvert_exporter": "python",
   "pygments_lexer": "ipython3",
   "version": "3.12.0"
  }
 },
 "nbformat": 4,
 "nbformat_minor": 5
}
