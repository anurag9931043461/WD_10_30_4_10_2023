{
 "cells": [
  {
   "cell_type": "markdown",
   "id": "7e454fde-105b-4a7c-b7dc-53f0b39ca053",
   "metadata": {
    "tags": []
   },
   "source": [
    "# integer\n",
    "\n",
    "> integer constructor is int()\n",
    "\n",
    "> integer literal is 0\n",
    "\n",
    "> integer datatype made up of 0-9\n",
    "\n",
    "> integer base is 10"
   ]
  },
  {
   "cell_type": "code",
   "execution_count": 2,
   "id": "1857cf0d-011d-460d-a2f5-0744aa956e44",
   "metadata": {
    "tags": []
   },
   "outputs": [],
   "source": [
    "a=int()"
   ]
  },
  {
   "cell_type": "code",
   "execution_count": 3,
   "id": "89f34ac4-7681-4b7e-9379-21f3470104c4",
   "metadata": {
    "tags": []
   },
   "outputs": [
    {
     "name": "stdout",
     "output_type": "stream",
     "text": [
      "0\n"
     ]
    }
   ],
   "source": [
    "print(a)"
   ]
  },
  {
   "cell_type": "code",
   "execution_count": 4,
   "id": "653f51dc-594e-40e0-a6b0-e0633267c3fe",
   "metadata": {
    "tags": []
   },
   "outputs": [],
   "source": [
    "b=0"
   ]
  },
  {
   "cell_type": "code",
   "execution_count": 5,
   "id": "71d1696c-590f-4d7b-9c09-14bfd1d4a25b",
   "metadata": {
    "tags": []
   },
   "outputs": [
    {
     "name": "stdout",
     "output_type": "stream",
     "text": [
      "0\n"
     ]
    }
   ],
   "source": [
    "print(b)"
   ]
  },
  {
   "cell_type": "code",
   "execution_count": 6,
   "id": "af535926-8a13-4f59-b42f-a3318e970557",
   "metadata": {
    "tags": []
   },
   "outputs": [],
   "source": [
    "import builtins"
   ]
  },
  {
   "cell_type": "code",
   "execution_count": 7,
   "id": "18048f78-87c8-44e6-a420-7e780456e3cc",
   "metadata": {
    "tags": []
   },
   "outputs": [
    {
     "data": {
      "text/plain": [
       "int"
      ]
     },
     "execution_count": 7,
     "metadata": {},
     "output_type": "execute_result"
    }
   ],
   "source": [
    "builtins.type(a)"
   ]
  },
  {
   "cell_type": "code",
   "execution_count": 9,
   "id": "0a92aeb9-ef76-4c6a-9d35-d6089940b905",
   "metadata": {
    "tags": []
   },
   "outputs": [
    {
     "name": "stdout",
     "output_type": "stream",
     "text": [
      "<class 'int'>\n"
     ]
    }
   ],
   "source": [
    "print(type(a))"
   ]
  },
  {
   "cell_type": "code",
   "execution_count": 14,
   "id": "57c04da3-5b16-4328-a4c9-e370797fc48a",
   "metadata": {
    "tags": []
   },
   "outputs": [
    {
     "ename": "SyntaxError",
     "evalue": "leading zeros in decimal integer literals are not permitted; use an 0o prefix for octal integers (19578638.py, line 1)",
     "output_type": "error",
     "traceback": [
      "\u001b[1;36m  Cell \u001b[1;32mIn[14], line 1\u001b[1;36m\u001b[0m\n\u001b[1;33m    a=00000000000000000000003254354\u001b[0m\n\u001b[1;37m      ^\u001b[0m\n\u001b[1;31mSyntaxError\u001b[0m\u001b[1;31m:\u001b[0m leading zeros in decimal integer literals are not permitted; use an 0o prefix for octal integers\n"
     ]
    }
   ],
   "source": [
    "a=00000000000000000000003254354"
   ]
  },
  {
   "cell_type": "code",
   "execution_count": 15,
   "id": "ed1b4e12-8e14-4330-859b-000bad2d5c11",
   "metadata": {
    "tags": []
   },
   "outputs": [
    {
     "ename": "ValueError",
     "evalue": "invalid literal for int() with base 10: 'krishna'",
     "output_type": "error",
     "traceback": [
      "\u001b[1;31m---------------------------------------------------------------------------\u001b[0m",
      "\u001b[1;31mValueError\u001b[0m                                Traceback (most recent call last)",
      "Cell \u001b[1;32mIn[15], line 1\u001b[0m\n\u001b[1;32m----> 1\u001b[0m \u001b[38;5;28mint\u001b[39m(\u001b[38;5;124m\"\u001b[39m\u001b[38;5;124mkrishna\u001b[39m\u001b[38;5;124m\"\u001b[39m)\n",
      "\u001b[1;31mValueError\u001b[0m: invalid literal for int() with base 10: 'krishna'"
     ]
    }
   ],
   "source": [
    "int(\"krishna\")"
   ]
  },
  {
   "cell_type": "code",
   "execution_count": null,
   "id": "a86afd7e-6ad7-4655-8836-70115f7ddc9f",
   "metadata": {},
   "outputs": [],
   "source": []
  }
 ],
 "metadata": {
  "kernelspec": {
   "display_name": "Python 3 (ipykernel)",
   "language": "python",
   "name": "python3"
  },
  "language_info": {
   "codemirror_mode": {
    "name": "ipython",
    "version": 3
   },
   "file_extension": ".py",
   "mimetype": "text/x-python",
   "name": "python",
   "nbconvert_exporter": "python",
   "pygments_lexer": "ipython3",
   "version": "3.12.0"
  }
 },
 "nbformat": 4,
 "nbformat_minor": 5
}
