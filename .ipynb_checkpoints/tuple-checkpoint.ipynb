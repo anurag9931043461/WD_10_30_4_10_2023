{
 "cells": [
  {
   "cell_type": "markdown",
   "id": "22cb2d93-b872-4a78-aa1a-daf613710574",
   "metadata": {},
   "source": [
    "# tuple datatype:\n",
    "\n",
    "> tuple constructor is tuple()\n",
    "\n",
    "> tuple literal is ()\n",
    "\n",
    "> tuple is a set of sequence of element(s)\n",
    "\n",
    "> tuple support indexing\n",
    "\n",
    "> tupel support slicing \n",
    "\n",
    "> tuple is immutable datatype\n",
    "\n",
    "> tuple support concatination\n",
    "\n",
    "> tuple support nested tuple.\n",
    "\n",
    "> tuple methods index() and count()\n"
   ]
  },
  {
   "cell_type": "raw",
   "id": "4769f286-d598-46ac-8fc2-7142d61af03d",
   "metadata": {},
   "source": [
    "# how to create empty tuple?\n",
    "\n",
    "Ans: two ways are there:  \n",
    "\n",
    "    1> constructor of tuple()\n",
    "    2> literal of tuple which is ()"
   ]
  },
  {
   "cell_type": "code",
   "execution_count": 5,
   "id": "ae8bdea0-04f4-4996-bde4-15d8bca85b73",
   "metadata": {},
   "outputs": [
    {
     "name": "stdout",
     "output_type": "stream",
     "text": [
      "()\n",
      "0\n",
      "140723321890488\n",
      "<class 'tuple'>\n"
     ]
    }
   ],
   "source": [
    "a=tuple()   # creating empty tuple using tuple constructor tuple()\n",
    "print(a)\n",
    "print(len(a))   # tuple is empty\n",
    "print(id(a))\n",
    "print(type(a))"
   ]
  },
  {
   "cell_type": "code",
   "execution_count": 9,
   "id": "3d0732f1-df6d-4762-b41e-d9bfe43d99e3",
   "metadata": {},
   "outputs": [
    {
     "name": "stdout",
     "output_type": "stream",
     "text": [
      "()\n",
      "0\n",
      "140723321890488\n",
      "<class 'tuple'>\n"
     ]
    }
   ],
   "source": [
    "b=()   # creating empty tuple using tuple literal which is ()\n",
    "print(b)\n",
    "print(len(b))\n",
    "print(id(b))\n",
    "print(type(b))"
   ]
  },
  {
   "cell_type": "code",
   "execution_count": 10,
   "id": "113786b6-5b27-4465-ac04-e3cf7c2ead80",
   "metadata": {},
   "outputs": [
    {
     "name": "stdout",
     "output_type": "stream",
     "text": [
      "2599100531472\n"
     ]
    }
   ],
   "source": [
    "c=(1,2,3,4,5)\n",
    "print(id(c))"
   ]
  },
  {
   "cell_type": "code",
   "execution_count": 11,
   "id": "4ae72ad5-f84b-47bb-8d69-8eb2fcd661d8",
   "metadata": {},
   "outputs": [
    {
     "name": "stdout",
     "output_type": "stream",
     "text": [
      "2599100531392\n"
     ]
    }
   ],
   "source": [
    "d=(1,2,3,4,5)\n",
    "print(id(d))"
   ]
  },
  {
   "cell_type": "code",
   "execution_count": 14,
   "id": "7cda0e45-233b-43dc-bf17-01a0c4fc2c0c",
   "metadata": {},
   "outputs": [
    {
     "data": {
      "text/plain": [
       "2599100412384"
      ]
     },
     "execution_count": 14,
     "metadata": {},
     "output_type": "execute_result"
    }
   ],
   "source": [
    "a=\"krishna\"\n",
    "id(a)"
   ]
  },
  {
   "cell_type": "code",
   "execution_count": 15,
   "id": "ebe9a92d-666c-42d7-b463-cfe89cf1503f",
   "metadata": {},
   "outputs": [
    {
     "data": {
      "text/plain": [
       "2599100412384"
      ]
     },
     "execution_count": 15,
     "metadata": {},
     "output_type": "execute_result"
    }
   ],
   "source": [
    "b=\"krishna\"\n",
    "id(b)"
   ]
  },
  {
   "cell_type": "code",
   "execution_count": 16,
   "id": "d97ea821-27c3-4090-90f7-e5662824b3c7",
   "metadata": {},
   "outputs": [],
   "source": [
    "del b"
   ]
  },
  {
   "cell_type": "code",
   "execution_count": 17,
   "id": "c4131d1b-fd40-4621-b952-226102e48a24",
   "metadata": {},
   "outputs": [
    {
     "ename": "NameError",
     "evalue": "name 'b' is not defined",
     "output_type": "error",
     "traceback": [
      "\u001b[1;31m---------------------------------------------------------------------------\u001b[0m",
      "\u001b[1;31mNameError\u001b[0m                                 Traceback (most recent call last)",
      "Cell \u001b[1;32mIn[17], line 1\u001b[0m\n\u001b[1;32m----> 1\u001b[0m \u001b[38;5;28mprint\u001b[39m(\u001b[43mb\u001b[49m)\n",
      "\u001b[1;31mNameError\u001b[0m: name 'b' is not defined"
     ]
    }
   ],
   "source": [
    "print(b)"
   ]
  },
  {
   "cell_type": "code",
   "execution_count": 18,
   "id": "83b7a565-58e4-4fd7-9572-a02a2b8e2d41",
   "metadata": {},
   "outputs": [
    {
     "name": "stdout",
     "output_type": "stream",
     "text": [
      "krishna\n"
     ]
    }
   ],
   "source": [
    "print(a)"
   ]
  },
  {
   "cell_type": "code",
   "execution_count": 19,
   "id": "053404ba-729d-4bfe-9664-ff6f45e3427c",
   "metadata": {},
   "outputs": [],
   "source": [
    "del a"
   ]
  },
  {
   "cell_type": "code",
   "execution_count": 20,
   "id": "3b4fb5e5-2c40-48f6-895a-e88b23d40860",
   "metadata": {},
   "outputs": [
    {
     "ename": "NameError",
     "evalue": "name 'a' is not defined",
     "output_type": "error",
     "traceback": [
      "\u001b[1;31m---------------------------------------------------------------------------\u001b[0m",
      "\u001b[1;31mNameError\u001b[0m                                 Traceback (most recent call last)",
      "Cell \u001b[1;32mIn[20], line 1\u001b[0m\n\u001b[1;32m----> 1\u001b[0m \u001b[38;5;28mprint\u001b[39m(\u001b[43ma\u001b[49m)\n",
      "\u001b[1;31mNameError\u001b[0m: name 'a' is not defined"
     ]
    }
   ],
   "source": [
    "print(a)"
   ]
  },
  {
   "cell_type": "code",
   "execution_count": 1,
   "id": "49a7d928-8362-4744-aa79-79fdc67e1d5c",
   "metadata": {},
   "outputs": [],
   "source": [
    "a=(10,10.0,\"10\",[10],(10,23))"
   ]
  },
  {
   "cell_type": "code",
   "execution_count": 2,
   "id": "a63ac832-101f-4686-8745-5e96739fd263",
   "metadata": {},
   "outputs": [
    {
     "name": "stdout",
     "output_type": "stream",
     "text": [
      "(10, 10.0, '10', [10], (10, 23))\n"
     ]
    }
   ],
   "source": [
    "print(a)"
   ]
  },
  {
   "cell_type": "code",
   "execution_count": 5,
   "id": "96d9cc0f-4761-4a2f-b5f8-3c0019e70ec4",
   "metadata": {},
   "outputs": [
    {
     "name": "stdout",
     "output_type": "stream",
     "text": [
      "10\n",
      "<class 'str'>\n"
     ]
    }
   ],
   "source": [
    "print(a[2])\n",
    "print(type(a[2]))"
   ]
  },
  {
   "cell_type": "code",
   "execution_count": 6,
   "id": "22fd3c25-3eab-4040-a936-024a8c99e5eb",
   "metadata": {},
   "outputs": [
    {
     "name": "stdout",
     "output_type": "stream",
     "text": [
      "5\n"
     ]
    }
   ],
   "source": [
    "print(len(a))"
   ]
  },
  {
   "cell_type": "code",
   "execution_count": 8,
   "id": "7dcd4cad-af03-4bce-946a-b9d1dbcab749",
   "metadata": {},
   "outputs": [
    {
     "name": "stdout",
     "output_type": "stream",
     "text": [
      "23\n"
     ]
    }
   ],
   "source": [
    "print(a[-1][-1])"
   ]
  },
  {
   "cell_type": "code",
   "execution_count": 9,
   "id": "78ee0029-ccb4-499b-9c4b-3555f016bc33",
   "metadata": {},
   "outputs": [
    {
     "name": "stdout",
     "output_type": "stream",
     "text": [
      "23\n"
     ]
    }
   ],
   "source": [
    "print(a[-1][1])"
   ]
  },
  {
   "cell_type": "code",
   "execution_count": 10,
   "id": "245370fa-495b-4693-bfe0-d6b07c8dba2c",
   "metadata": {},
   "outputs": [
    {
     "name": "stdout",
     "output_type": "stream",
     "text": [
      "(10, 10.0, '10', [10], (10, 23))\n"
     ]
    }
   ],
   "source": [
    "print(a)"
   ]
  },
  {
   "cell_type": "code",
   "execution_count": 11,
   "id": "8ab89aaa-964b-4935-9704-06f9f6dfc153",
   "metadata": {},
   "outputs": [
    {
     "name": "stdout",
     "output_type": "stream",
     "text": [
      "(10.0, '10', [10])\n"
     ]
    }
   ],
   "source": [
    "print(a[1:4:1])"
   ]
  },
  {
   "cell_type": "code",
   "execution_count": 12,
   "id": "d0f08fce-af1e-441c-be63-4512b618a35e",
   "metadata": {},
   "outputs": [
    {
     "name": "stdout",
     "output_type": "stream",
     "text": [
      "(10.0, '10', [10])\n"
     ]
    }
   ],
   "source": [
    "print(a[1:4])"
   ]
  },
  {
   "cell_type": "code",
   "execution_count": 13,
   "id": "15b1da1b-463e-4e11-8427-82fd4bf64b75",
   "metadata": {},
   "outputs": [
    {
     "name": "stdout",
     "output_type": "stream",
     "text": [
      "([10], '10', 10.0)\n"
     ]
    }
   ],
   "source": [
    "print(a[-2:-5:-1])"
   ]
  },
  {
   "cell_type": "code",
   "execution_count": 14,
   "id": "b9a36596-724f-4071-842c-865e00f4a6e5",
   "metadata": {},
   "outputs": [
    {
     "name": "stdout",
     "output_type": "stream",
     "text": [
      "([10], '10', 10.0)\n"
     ]
    }
   ],
   "source": [
    "print(a[3:0:-1])"
   ]
  },
  {
   "cell_type": "code",
   "execution_count": 16,
   "id": "01ca55da-1de4-4096-87e9-bd695b500f33",
   "metadata": {},
   "outputs": [
    {
     "name": "stdout",
     "output_type": "stream",
     "text": [
      "(1, 2, 3, 4, 5, 6)\n",
      "(4, 5, 6, 1, 2, 3)\n"
     ]
    }
   ],
   "source": [
    "b=(1,2,3)\n",
    "c=(4,5,6)\n",
    "print(b+c)\n",
    "print(c+b)"
   ]
  },
  {
   "cell_type": "code",
   "execution_count": 18,
   "id": "ff52dcac-a9f5-4cdd-be5b-aae138835cce",
   "metadata": {},
   "outputs": [
    {
     "name": "stdout",
     "output_type": "stream",
     "text": [
      "(10, 10.0, '10', [10], (10, 23))\n"
     ]
    }
   ],
   "source": [
    "print(a)"
   ]
  },
  {
   "cell_type": "code",
   "execution_count": 19,
   "id": "11efbb91-886b-44d3-b6fe-0ece0cd5ae4c",
   "metadata": {},
   "outputs": [
    {
     "data": {
      "text/plain": [
       "2"
      ]
     },
     "execution_count": 19,
     "metadata": {},
     "output_type": "execute_result"
    }
   ],
   "source": [
    "a.count(10)"
   ]
  },
  {
   "cell_type": "code",
   "execution_count": 20,
   "id": "e507f2ed-538c-413c-9c42-e1b63f05729c",
   "metadata": {},
   "outputs": [
    {
     "data": {
      "text/plain": [
       "1"
      ]
     },
     "execution_count": 20,
     "metadata": {},
     "output_type": "execute_result"
    }
   ],
   "source": [
    "a.count(\"10\")"
   ]
  },
  {
   "cell_type": "code",
   "execution_count": 21,
   "id": "9138dc9d-3ef3-4b73-9290-2fe3a0d58c56",
   "metadata": {},
   "outputs": [
    {
     "data": {
      "text/plain": [
       "1"
      ]
     },
     "execution_count": 21,
     "metadata": {},
     "output_type": "execute_result"
    }
   ],
   "source": [
    "a.count([10])"
   ]
  },
  {
   "cell_type": "code",
   "execution_count": 22,
   "id": "499de96f-f353-49dd-b4cc-9ddf7563ec75",
   "metadata": {},
   "outputs": [
    {
     "data": {
      "text/plain": [
       "1"
      ]
     },
     "execution_count": 22,
     "metadata": {},
     "output_type": "execute_result"
    }
   ],
   "source": [
    "a.count((10,23))"
   ]
  },
  {
   "cell_type": "code",
   "execution_count": 23,
   "id": "1f2567a6-adc9-4c3a-aa46-ad803cf02725",
   "metadata": {},
   "outputs": [
    {
     "data": {
      "text/plain": [
       "0"
      ]
     },
     "execution_count": 23,
     "metadata": {},
     "output_type": "execute_result"
    }
   ],
   "source": [
    "a.index(10)"
   ]
  },
  {
   "cell_type": "code",
   "execution_count": 24,
   "id": "b11b701f-cc48-4564-9504-3327fcc76fa6",
   "metadata": {},
   "outputs": [
    {
     "data": {
      "text/plain": [
       "0"
      ]
     },
     "execution_count": 24,
     "metadata": {},
     "output_type": "execute_result"
    }
   ],
   "source": [
    "a.index(10.0)"
   ]
  },
  {
   "cell_type": "code",
   "execution_count": 25,
   "id": "6754459f-3240-4076-a595-3a5957cb5a58",
   "metadata": {},
   "outputs": [],
   "source": [
    "z=(10,11,23,13,32,4,332,23,43,34,3232,32,32,233,32,23,23,54,4,7667,7,76,65,534,34,23,32,232)"
   ]
  },
  {
   "cell_type": "code",
   "execution_count": 26,
   "id": "bd69f170-dd24-446e-b712-3503328db9ac",
   "metadata": {},
   "outputs": [
    {
     "data": {
      "text/plain": [
       "5"
      ]
     },
     "execution_count": 26,
     "metadata": {},
     "output_type": "execute_result"
    }
   ],
   "source": [
    "z.count(32)"
   ]
  },
  {
   "cell_type": "code",
   "execution_count": 27,
   "id": "7c666e2b-69c7-4669-b7a8-242aa35b52f0",
   "metadata": {},
   "outputs": [
    {
     "data": {
      "text/plain": [
       "4"
      ]
     },
     "execution_count": 27,
     "metadata": {},
     "output_type": "execute_result"
    }
   ],
   "source": [
    "z.index(32)"
   ]
  },
  {
   "cell_type": "code",
   "execution_count": 34,
   "id": "e806a5e9-7d35-4e0a-bb15-5d05a74b28b4",
   "metadata": {},
   "outputs": [
    {
     "data": {
      "text/plain": [
       "140723286231800"
      ]
     },
     "execution_count": 34,
     "metadata": {},
     "output_type": "execute_result"
    }
   ],
   "source": [
    "z.index(32,5,54354353)\n",
    "id(z.index(32,5,54354353))"
   ]
  },
  {
   "cell_type": "code",
   "execution_count": 36,
   "id": "94ac3e2e-be18-45e5-b871-a092c2a1e344",
   "metadata": {},
   "outputs": [
    {
     "data": {
      "text/plain": [
       "140723286231832"
      ]
     },
     "execution_count": 36,
     "metadata": {},
     "output_type": "execute_result"
    }
   ],
   "source": [
    "z.index(32,12,54354353)\n",
    "id(z.index(32,12,54354353))"
   ]
  },
  {
   "cell_type": "code",
   "execution_count": 31,
   "id": "991e6802-6827-43ad-a50f-301447a0b26b",
   "metadata": {},
   "outputs": [
    {
     "data": {
      "text/plain": [
       "14"
      ]
     },
     "execution_count": 31,
     "metadata": {},
     "output_type": "execute_result"
    }
   ],
   "source": [
    "z.index(32,13,54354353)"
   ]
  },
  {
   "cell_type": "code",
   "execution_count": 32,
   "id": "9749663a-449d-4a0c-b170-400c4552a564",
   "metadata": {},
   "outputs": [
    {
     "data": {
      "text/plain": [
       "26"
      ]
     },
     "execution_count": 32,
     "metadata": {},
     "output_type": "execute_result"
    }
   ],
   "source": [
    "z.index(32,15,54354353)"
   ]
  },
  {
   "cell_type": "code",
   "execution_count": 33,
   "id": "054f16db-b80b-42f2-9c6e-e85e655d50dd",
   "metadata": {},
   "outputs": [
    {
     "data": {
      "text/plain": [
       "4"
      ]
     },
     "execution_count": 33,
     "metadata": {},
     "output_type": "execute_result"
    }
   ],
   "source": [
    "z.index(32)"
   ]
  },
  {
   "cell_type": "code",
   "execution_count": 40,
   "id": "79dfb4f8-64e8-4507-92e6-01cd1c10d21d",
   "metadata": {},
   "outputs": [
    {
     "name": "stdout",
     "output_type": "stream",
     "text": [
      "<class 'tuple'>\n"
     ]
    }
   ],
   "source": [
    "# use cases\n",
    "a=(1,)\n",
    "print(type(a))\n",
    "#i. tuple\n",
    "#ii. list\n",
    "# iii. int\n",
    "# iv. non of the above"
   ]
  },
  {
   "cell_type": "code",
   "execution_count": 41,
   "id": "6c05fd20-630a-46ea-bc34-5fc759228907",
   "metadata": {},
   "outputs": [],
   "source": [
    "# packing unpacking"
   ]
  },
  {
   "cell_type": "code",
   "execution_count": 47,
   "id": "bf3dbc42-5780-445f-9af5-35f4fa9c198c",
   "metadata": {},
   "outputs": [
    {
     "name": "stdout",
     "output_type": "stream",
     "text": [
      "<class 'tuple'>$(1, 2, 3, 4, 5, 6)hello world\n"
     ]
    }
   ],
   "source": [
    "a=1,2,3,4,5,6    # packing \n",
    "print(type(a),a,sep=\"$\",end=\"\")\n",
    "print(\"hello world\")\n",
    "#error\n",
    "#list\n",
    "#tuple\n",
    "# non of the above"
   ]
  },
  {
   "cell_type": "code",
   "execution_count": 48,
   "id": "92888c36-654e-49f9-9881-d474b3a6dee0",
   "metadata": {},
   "outputs": [],
   "source": [
    "# unpacking"
   ]
  },
  {
   "cell_type": "code",
   "execution_count": 49,
   "id": "c6c10e26-2ce2-48e3-9fa0-6f6ff5704a40",
   "metadata": {},
   "outputs": [
    {
     "data": {
      "text/plain": [
       "(1, 2, 3, 4, 5, 6)"
      ]
     },
     "execution_count": 49,
     "metadata": {},
     "output_type": "execute_result"
    }
   ],
   "source": [
    "a"
   ]
  },
  {
   "cell_type": "code",
   "execution_count": 57,
   "id": "55f93559-1f98-4ead-a573-9e86262db184",
   "metadata": {},
   "outputs": [],
   "source": [
    "k,l,m,n,o,p=a"
   ]
  },
  {
   "cell_type": "code",
   "execution_count": 58,
   "id": "11181941-b10a-4b42-b75b-4e36398e6acf",
   "metadata": {},
   "outputs": [
    {
     "name": "stdout",
     "output_type": "stream",
     "text": [
      "1\n"
     ]
    }
   ],
   "source": [
    "print(k)"
   ]
  },
  {
   "cell_type": "code",
   "execution_count": 59,
   "id": "9f8ad4d2-191e-4e6d-8737-e296c9266a25",
   "metadata": {},
   "outputs": [
    {
     "name": "stdout",
     "output_type": "stream",
     "text": [
      "2\n"
     ]
    }
   ],
   "source": [
    "print(l)"
   ]
  },
  {
   "cell_type": "code",
   "execution_count": 60,
   "id": "da4d8c38-9eba-4466-bc01-2bc43da1fb2a",
   "metadata": {},
   "outputs": [
    {
     "name": "stdout",
     "output_type": "stream",
     "text": [
      "3\n"
     ]
    }
   ],
   "source": [
    "print(m)"
   ]
  },
  {
   "cell_type": "code",
   "execution_count": 61,
   "id": "e6869828-c0df-4c5a-a6f3-45e5d65a683c",
   "metadata": {},
   "outputs": [
    {
     "name": "stdout",
     "output_type": "stream",
     "text": [
      "4\n"
     ]
    }
   ],
   "source": [
    "print(n)"
   ]
  },
  {
   "cell_type": "code",
   "execution_count": 62,
   "id": "634a4689-8d90-405a-ad23-c4173d28a10a",
   "metadata": {},
   "outputs": [
    {
     "name": "stdout",
     "output_type": "stream",
     "text": [
      "5\n"
     ]
    }
   ],
   "source": [
    "print(o)"
   ]
  },
  {
   "cell_type": "code",
   "execution_count": 63,
   "id": "d7958c06-bdaa-4080-857a-169bfc056b0f",
   "metadata": {},
   "outputs": [
    {
     "name": "stdout",
     "output_type": "stream",
     "text": [
      "6\n"
     ]
    }
   ],
   "source": [
    "print(p)"
   ]
  },
  {
   "cell_type": "code",
   "execution_count": null,
   "id": "90f2e5d0-5e7c-41f6-b207-e6e65ef48bfc",
   "metadata": {},
   "outputs": [],
   "source": [
    "k,l,m,n,o,p=(1,2,3,4,5,6)"
   ]
  },
  {
   "cell_type": "code",
   "execution_count": 66,
   "id": "47f284b4-54d7-4da2-9503-4cc213b8cce4",
   "metadata": {},
   "outputs": [],
   "source": [
    "k,l,*m=(1,2,3,4,5,6)"
   ]
  },
  {
   "cell_type": "code",
   "execution_count": 67,
   "id": "154e0b6b-2ca8-41da-bc95-249270916bb9",
   "metadata": {},
   "outputs": [
    {
     "name": "stdout",
     "output_type": "stream",
     "text": [
      "1\n"
     ]
    }
   ],
   "source": [
    "print(k)"
   ]
  },
  {
   "cell_type": "code",
   "execution_count": 68,
   "id": "dd9e3e77-a07d-4616-87de-d24c994b2380",
   "metadata": {},
   "outputs": [
    {
     "name": "stdout",
     "output_type": "stream",
     "text": [
      "2\n"
     ]
    }
   ],
   "source": [
    "print(l)"
   ]
  },
  {
   "cell_type": "code",
   "execution_count": 69,
   "id": "dd723d28-e5db-4244-8041-226e8fc96c6f",
   "metadata": {},
   "outputs": [
    {
     "name": "stdout",
     "output_type": "stream",
     "text": [
      "[3, 4, 5, 6]\n"
     ]
    }
   ],
   "source": [
    "print(m)"
   ]
  },
  {
   "cell_type": "code",
   "execution_count": 70,
   "id": "ef2a6e51-6bce-4739-a188-41e3487c56e0",
   "metadata": {},
   "outputs": [
    {
     "ename": "SyntaxError",
     "evalue": "multiple starred expressions in assignment (2504124851.py, line 1)",
     "output_type": "error",
     "traceback": [
      "\u001b[1;36m  Cell \u001b[1;32mIn[70], line 1\u001b[1;36m\u001b[0m\n\u001b[1;33m    k,*l,*m=(1,2,3,4,5,6)\u001b[0m\n\u001b[1;37m    ^\u001b[0m\n\u001b[1;31mSyntaxError\u001b[0m\u001b[1;31m:\u001b[0m multiple starred expressions in assignment\n"
     ]
    }
   ],
   "source": [
    "k,*l,*m=(1,2,3,4,5,6)"
   ]
  },
  {
   "cell_type": "code",
   "execution_count": 71,
   "id": "9f3cd27f-01c2-4ea7-a5d9-245211f9b5cc",
   "metadata": {},
   "outputs": [],
   "source": [
    "a=1,2,3,3,4,5,6"
   ]
  },
  {
   "cell_type": "code",
   "execution_count": 72,
   "id": "1d53f0e3-9db1-4173-86a3-8cbb55281468",
   "metadata": {},
   "outputs": [
    {
     "name": "stdout",
     "output_type": "stream",
     "text": [
      "(1, 2, 3, 3, 4, 5, 6)\n"
     ]
    }
   ],
   "source": [
    "print(a)"
   ]
  },
  {
   "cell_type": "code",
   "execution_count": 73,
   "id": "f5c5f73c-2a04-4411-aaa1-034bd66f2044",
   "metadata": {},
   "outputs": [],
   "source": [
    "a=[1,2,3,4,5]"
   ]
  },
  {
   "cell_type": "code",
   "execution_count": 74,
   "id": "7c2bb9b5-6225-4030-acd3-6e23f2233542",
   "metadata": {},
   "outputs": [],
   "source": [
    "a.append(10)"
   ]
  },
  {
   "cell_type": "code",
   "execution_count": 75,
   "id": "99399f21-1dce-416b-be63-e2598e6d1ef9",
   "metadata": {},
   "outputs": [
    {
     "name": "stdout",
     "output_type": "stream",
     "text": [
      "[1, 2, 3, 4, 5, 10]\n"
     ]
    }
   ],
   "source": [
    "print(a)"
   ]
  },
  {
   "cell_type": "code",
   "execution_count": 76,
   "id": "ef0aac8d-6f33-4538-a4d9-05711db523a7",
   "metadata": {},
   "outputs": [],
   "source": [
    "a.append(10.0)"
   ]
  },
  {
   "cell_type": "code",
   "execution_count": 77,
   "id": "4f8ed870-6ef4-42cb-b179-c427990b6599",
   "metadata": {},
   "outputs": [
    {
     "name": "stdout",
     "output_type": "stream",
     "text": [
      "[1, 2, 3, 4, 5, 10, 10.0]\n"
     ]
    }
   ],
   "source": [
    "print(a)"
   ]
  },
  {
   "cell_type": "code",
   "execution_count": 78,
   "id": "1efd81cf-83b5-4b56-9677-74b30929e30e",
   "metadata": {},
   "outputs": [],
   "source": [
    "a.append(\"10\")"
   ]
  },
  {
   "cell_type": "code",
   "execution_count": 79,
   "id": "902f1399-8506-4610-9ce7-58322a91ac57",
   "metadata": {},
   "outputs": [
    {
     "name": "stdout",
     "output_type": "stream",
     "text": [
      "[1, 2, 3, 4, 5, 10, 10.0, '10']\n"
     ]
    }
   ],
   "source": [
    "print(a)"
   ]
  },
  {
   "cell_type": "code",
   "execution_count": 80,
   "id": "fbec0710-3215-4105-b6d6-f70b902e3b17",
   "metadata": {},
   "outputs": [
    {
     "ename": "TypeError",
     "evalue": "list.append() takes exactly one argument (2 given)",
     "output_type": "error",
     "traceback": [
      "\u001b[1;31m---------------------------------------------------------------------------\u001b[0m",
      "\u001b[1;31mTypeError\u001b[0m                                 Traceback (most recent call last)",
      "Cell \u001b[1;32mIn[80], line 1\u001b[0m\n\u001b[1;32m----> 1\u001b[0m \u001b[43ma\u001b[49m\u001b[38;5;241;43m.\u001b[39;49m\u001b[43mappend\u001b[49m\u001b[43m(\u001b[49m\u001b[38;5;241;43m10\u001b[39;49m\u001b[43m,\u001b[49m\u001b[38;5;241;43m20\u001b[39;49m\u001b[43m)\u001b[49m\n",
      "\u001b[1;31mTypeError\u001b[0m: list.append() takes exactly one argument (2 given)"
     ]
    }
   ],
   "source": [
    "a.append(10,20)"
   ]
  },
  {
   "cell_type": "code",
   "execution_count": 81,
   "id": "aa23398e-c5ea-416a-a747-5f33c6ea22d4",
   "metadata": {},
   "outputs": [],
   "source": [
    "a.append((10,20))"
   ]
  },
  {
   "cell_type": "code",
   "execution_count": 82,
   "id": "de44144a-29f2-40b8-97d3-db3600d1b2f6",
   "metadata": {},
   "outputs": [
    {
     "name": "stdout",
     "output_type": "stream",
     "text": [
      "[1, 2, 3, 4, 5, 10, 10.0, '10', (10, 20)]\n"
     ]
    }
   ],
   "source": [
    "print(a)"
   ]
  },
  {
   "cell_type": "code",
   "execution_count": 83,
   "id": "2ab76005-484a-4b8c-a79e-023e783156f1",
   "metadata": {},
   "outputs": [],
   "source": [
    "a.remove((10,20))"
   ]
  },
  {
   "cell_type": "code",
   "execution_count": 84,
   "id": "9a312f35-659b-4196-9d10-d5df81ef8299",
   "metadata": {},
   "outputs": [
    {
     "name": "stdout",
     "output_type": "stream",
     "text": [
      "[1, 2, 3, 4, 5, 10, 10.0, '10']\n"
     ]
    }
   ],
   "source": [
    "print(a)"
   ]
  },
  {
   "cell_type": "code",
   "execution_count": 85,
   "id": "c2f6d870-4bd6-4564-a5e8-c9efb8b9d829",
   "metadata": {},
   "outputs": [
    {
     "data": {
      "text/plain": [
       "'10'"
      ]
     },
     "execution_count": 85,
     "metadata": {},
     "output_type": "execute_result"
    }
   ],
   "source": [
    "a.pop()"
   ]
  },
  {
   "cell_type": "code",
   "execution_count": 86,
   "id": "957ba057-5533-4e2d-9d08-6be772a70332",
   "metadata": {},
   "outputs": [
    {
     "name": "stdout",
     "output_type": "stream",
     "text": [
      "[1, 2, 3, 4, 5, 10, 10.0]\n"
     ]
    }
   ],
   "source": [
    "print(a)"
   ]
  },
  {
   "cell_type": "code",
   "execution_count": 87,
   "id": "c2e88cec-f0d3-4495-9009-222d87a4f84c",
   "metadata": {},
   "outputs": [
    {
     "data": {
      "text/plain": [
       "4"
      ]
     },
     "execution_count": 87,
     "metadata": {},
     "output_type": "execute_result"
    }
   ],
   "source": [
    "a.pop(3)"
   ]
  },
  {
   "cell_type": "code",
   "execution_count": 88,
   "id": "1b5c988d-3d29-4a80-91b0-d1778ca8ae38",
   "metadata": {},
   "outputs": [
    {
     "name": "stdout",
     "output_type": "stream",
     "text": [
      "[1, 2, 3, 5, 10, 10.0]\n"
     ]
    }
   ],
   "source": [
    "print(a)"
   ]
  },
  {
   "cell_type": "code",
   "execution_count": null,
   "id": "778a1a12-0874-4906-a36f-8a6b6a335426",
   "metadata": {},
   "outputs": [],
   "source": []
  }
 ],
 "metadata": {
  "kernelspec": {
   "display_name": "Python 3 (ipykernel)",
   "language": "python",
   "name": "python3"
  },
  "language_info": {
   "codemirror_mode": {
    "name": "ipython",
    "version": 3
   },
   "file_extension": ".py",
   "mimetype": "text/x-python",
   "name": "python",
   "nbconvert_exporter": "python",
   "pygments_lexer": "ipython3",
   "version": "3.12.0"
  }
 },
 "nbformat": 4,
 "nbformat_minor": 5
}
