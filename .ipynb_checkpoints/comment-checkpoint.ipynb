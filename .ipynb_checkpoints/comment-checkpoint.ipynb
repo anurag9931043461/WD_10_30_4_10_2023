{
 "cells": [
  {
   "cell_type": "markdown",
   "id": "b552556c-fd07-42c3-bd09-b278ce903475",
   "metadata": {},
   "source": [
    "# comment :\n",
    "    \n",
    "    > comment use to set the marker.\n",
    "    \n",
    "    > comment is use to test our code.\n",
    "    \n",
    "    > comment start with a symbol called #\n",
    "    \n",
    "    > python has single line comment system."
   ]
  },
  {
   "cell_type": "code",
   "execution_count": 11,
   "id": "c71e5796-ae57-4518-a186-383c27450bfa",
   "metadata": {
    "tags": []
   },
   "outputs": [
    {
     "name": "stdout",
     "output_type": "stream",
     "text": [
      "Hello world\n"
     ]
    }
   ],
   "source": [
    "print(\"Hello world\")    # to run a shell use shift+#"
   ]
  },
  {
   "cell_type": "code",
   "execution_count": 13,
   "id": "3b71ef79-fb6c-453f-9446-d8067ec535e0",
   "metadata": {
    "tags": []
   },
   "outputs": [
    {
     "ename": "SyntaxError",
     "evalue": "unterminated string literal (detected at line 3) (1453391342.py, line 3)",
     "output_type": "error",
     "traceback": [
      "\u001b[1;36m  Cell \u001b[1;32mIn[13], line 3\u001b[1;36m\u001b[0m\n\u001b[1;33m    print(\"Hello world)\u001b[0m\n\u001b[1;37m          ^\u001b[0m\n\u001b[1;31mSyntaxError\u001b[0m\u001b[1;31m:\u001b[0m unterminated string literal (detected at line 3)\n"
     ]
    }
   ],
   "source": [
    "print(\"Hello world\")\n",
    "print(\"Hello world\")\n",
    "print(\"Hello world)\n",
    "print(\"Hello world\")\n",
    "print(\"Hello world\")"
   ]
  },
  {
   "cell_type": "code",
   "execution_count": 21,
   "id": "f40e291d-52bc-4125-a6f0-924d17405813",
   "metadata": {
    "tags": []
   },
   "outputs": [
    {
     "name": "stdout",
     "output_type": "stream",
     "text": [
      "Hello world\n",
      "Hello world\n",
      "Hello world\n",
      "Hello world\n",
      "Hello world\n"
     ]
    }
   ],
   "source": [
    "print(\"Hello world\")\n",
    "print(\"Hello world\")\n",
    "print(\"Hello world\")\n",
    "print(\"Hello world\")\n",
    "print(\"Hello world\")"
   ]
  },
  {
   "cell_type": "code",
   "execution_count": 25,
   "id": "69b66c31-9342-4d12-aafb-25bdda4cf54b",
   "metadata": {
    "tags": []
   },
   "outputs": [
    {
     "name": "stdout",
     "output_type": "stream",
     "text": [
      "Hello world\n",
      "Hello world\n"
     ]
    }
   ],
   "source": [
    "print(\"Hello world\")\n",
    "print(\"Hello world\")"
   ]
  },
  {
   "cell_type": "code",
   "execution_count": 29,
   "id": "d8282962-45c7-4083-9697-16586b1ef5c2",
   "metadata": {
    "tags": []
   },
   "outputs": [
    {
     "name": "stdout",
     "output_type": "stream",
     "text": [
      "Hello everyone\n"
     ]
    }
   ],
   "source": [
    "\"\"\"this is krishna kumar \n",
    " and I am in MCA final year \n",
    " \n",
    " working as Python AI trainer\"\"\"\n",
    "print(\"Hello everyone\")"
   ]
  },
  {
   "cell_type": "code",
   "execution_count": 30,
   "id": "d47a25c3-e65e-4464-b62a-f239fa7326e8",
   "metadata": {
    "tags": []
   },
   "outputs": [
    {
     "name": "stdout",
     "output_type": "stream",
     "text": [
      "this is krishna kumar \n",
      " and I am in MCA final year \n",
      " \n",
      " working as Python AI trainer\n",
      "Hello everyone\n"
     ]
    }
   ],
   "source": [
    "print(\"\"\"this is krishna kumar \n",
    " and I am in MCA final year \n",
    " \n",
    " working as Python AI trainer\"\"\")\n",
    "print(\"Hello everyone\")"
   ]
  },
  {
   "cell_type": "code",
   "execution_count": 31,
   "id": "d992df36-4b98-4f41-81ae-3660645be4f6",
   "metadata": {
    "tags": []
   },
   "outputs": [
    {
     "name": "stdout",
     "output_type": "stream",
     "text": [
      "#this is comment\n"
     ]
    }
   ],
   "source": [
    "print(\"#this is comment\")"
   ]
  },
  {
   "cell_type": "code",
   "execution_count": 33,
   "id": "c57653ce-5353-495f-a948-86d4c3a8f463",
   "metadata": {
    "tags": []
   },
   "outputs": [
    {
     "ename": "SyntaxError",
     "evalue": "incomplete input (1925882345.py, line 1)",
     "output_type": "error",
     "traceback": [
      "\u001b[1;36m  Cell \u001b[1;32mIn[33], line 1\u001b[1;36m\u001b[0m\n\u001b[1;33m    print(#\"this is comment\")\u001b[0m\n\u001b[1;37m                             ^\u001b[0m\n\u001b[1;31mSyntaxError\u001b[0m\u001b[1;31m:\u001b[0m incomplete input\n"
     ]
    }
   ],
   "source": [
    "print(#\"this is comment\")"
   ]
  },
  {
   "cell_type": "code",
   "execution_count": 36,
   "id": "106729cf-7db1-4fb6-9044-6381e7e36129",
   "metadata": {
    "tags": []
   },
   "outputs": [
    {
     "ename": "SyntaxError",
     "evalue": "incomplete input (2996680520.py, line 1)",
     "output_type": "error",
     "traceback": [
      "\u001b[1;36m  Cell \u001b[1;32mIn[36], line 1\u001b[1;36m\u001b[0m\n\u001b[1;33m    print(#)\u001b[0m\n\u001b[1;37m            ^\u001b[0m\n\u001b[1;31mSyntaxError\u001b[0m\u001b[1;31m:\u001b[0m incomplete input\n"
     ]
    }
   ],
   "source": [
    "print(#)"
   ]
  },
  {
   "cell_type": "code",
   "execution_count": null,
   "id": "9d950e98-e8d5-4425-8e9c-d1306820916a",
   "metadata": {},
   "outputs": [],
   "source": []
  }
 ],
 "metadata": {
  "kernelspec": {
   "display_name": "Python 3 (ipykernel)",
   "language": "python",
   "name": "python3"
  },
  "language_info": {
   "codemirror_mode": {
    "name": "ipython",
    "version": 3
   },
   "file_extension": ".py",
   "mimetype": "text/x-python",
   "name": "python",
   "nbconvert_exporter": "python",
   "pygments_lexer": "ipython3",
   "version": "3.11.5"
  }
 },
 "nbformat": 4,
 "nbformat_minor": 5
}
