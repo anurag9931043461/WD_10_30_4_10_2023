{
 "cells": [
  {
   "cell_type": "markdown",
   "id": "b3fb4426-77f3-4137-9e88-e7bf733a3571",
   "metadata": {},
   "source": [
    "# string datatype:\n",
    "\n",
    "> string constructor is str()\n",
    "\n",
    "> string literal is '', \"\",\"\"\"\"\"\",''''''\n",
    "\n",
    "> string is a set of sequence of character(s).\n",
    "\n",
    "> string is immutable(unhasable)\n",
    "\n",
    "> string support indexing \n",
    "\n",
    "> string support slicing \n",
    "\n",
    "> string support concatination\n",
    "\n",
    "> string contain approx 1.5 lakh character including unicode character like emojis :)\n",
    "\n",
    "> string in python is case sensitive like variable\n",
    "\n",
    "> string methods.\n"
   ]
  },
  {
   "cell_type": "code",
   "execution_count": 1,
   "id": "178f2108-4824-45b2-8bd2-0f40847dea89",
   "metadata": {},
   "outputs": [
    {
     "name": "stdout",
     "output_type": "stream",
     "text": [
      "\n"
     ]
    }
   ],
   "source": [
    "a=str()\n",
    "print(a)"
   ]
  },
  {
   "cell_type": "code",
   "execution_count": 2,
   "id": "70f91d36-99f3-46f5-a8be-cfd74f41720f",
   "metadata": {},
   "outputs": [
    {
     "data": {
      "text/plain": [
       "''"
      ]
     },
     "execution_count": 2,
     "metadata": {},
     "output_type": "execute_result"
    }
   ],
   "source": [
    "a=str()\n",
    "a"
   ]
  },
  {
   "cell_type": "code",
   "execution_count": 19,
   "id": "846b023d-17c2-4ab7-b5ad-796f248c83b4",
   "metadata": {},
   "outputs": [
    {
     "name": "stdout",
     "output_type": "stream",
     "text": [
      "hello world\n",
      "hello world\n"
     ]
    }
   ],
   "source": [
    "print(\"hello world\")\n",
    "print('hello world')"
   ]
  },
  {
   "cell_type": "code",
   "execution_count": 17,
   "id": "f35dc951-93cf-44a5-828e-9396920256d4",
   "metadata": {},
   "outputs": [
    {
     "name": "stdout",
     "output_type": "stream",
     "text": [
      "Mai praveen hu \n",
      "Mai apne jindagi se dhukhi ho chala hu \n",
      "\n",
      "    Mai marne ja raha hu \n",
      "        Rip Praveen\n",
      "Mai praveen hu \n",
      "Mai apne jindagi se dhukhi ho chala hu \n",
      "\n",
      "    Mai marne ja raha hu \n",
      "        Rip Praveen\n"
     ]
    }
   ],
   "source": [
    "print(\"\"\"Mai praveen hu \n",
    "Mai apne jindagi se dhukhi ho chala hu \n",
    "\n",
    "    Mai marne ja raha hu \n",
    "        Rip Praveen\"\"\")\n",
    "print('''Mai praveen hu \n",
    "Mai apne jindagi se dhukhi ho chala hu \n",
    "\n",
    "    Mai marne ja raha hu \n",
    "        Rip Praveen''')"
   ]
  },
  {
   "cell_type": "code",
   "execution_count": 20,
   "id": "ccdf8fc3-358d-478b-b1ff-b3ce47a84f3b",
   "metadata": {},
   "outputs": [],
   "source": [
    "a=\"KOMAL\""
   ]
  },
  {
   "cell_type": "code",
   "execution_count": 21,
   "id": "90aa2678-cd66-4917-8a74-1cc589f97277",
   "metadata": {},
   "outputs": [
    {
     "name": "stdout",
     "output_type": "stream",
     "text": [
      "KOMAL\n"
     ]
    }
   ],
   "source": [
    "print(a)"
   ]
  },
  {
   "cell_type": "code",
   "execution_count": 22,
   "id": "f26aca78-b666-4b08-8902-ca4b8237e10b",
   "metadata": {},
   "outputs": [
    {
     "data": {
      "text/plain": [
       "'K'"
      ]
     },
     "execution_count": 22,
     "metadata": {},
     "output_type": "execute_result"
    }
   ],
   "source": [
    "a[0]"
   ]
  },
  {
   "cell_type": "code",
   "execution_count": 23,
   "id": "b56573fc-aefe-44a1-9a09-d9c9255d6845",
   "metadata": {},
   "outputs": [
    {
     "data": {
      "text/plain": [
       "'K'"
      ]
     },
     "execution_count": 23,
     "metadata": {},
     "output_type": "execute_result"
    }
   ],
   "source": [
    "a[-5]"
   ]
  },
  {
   "cell_type": "code",
   "execution_count": 24,
   "id": "cf4256d6-57ba-4fac-b88c-dbdd6d89a3b6",
   "metadata": {},
   "outputs": [
    {
     "data": {
      "text/plain": [
       "'O'"
      ]
     },
     "execution_count": 24,
     "metadata": {},
     "output_type": "execute_result"
    }
   ],
   "source": [
    "a[1]"
   ]
  },
  {
   "cell_type": "code",
   "execution_count": 25,
   "id": "6c764d83-e7b1-4f9c-aad4-1e42704945db",
   "metadata": {},
   "outputs": [
    {
     "data": {
      "text/plain": [
       "'O'"
      ]
     },
     "execution_count": 25,
     "metadata": {},
     "output_type": "execute_result"
    }
   ],
   "source": [
    "a[-4]"
   ]
  },
  {
   "cell_type": "code",
   "execution_count": 26,
   "id": "71b071f8-1439-4b9a-a74e-4446e7a0f640",
   "metadata": {},
   "outputs": [
    {
     "name": "stdout",
     "output_type": "stream",
     "text": [
      "KOMAL\n"
     ]
    }
   ],
   "source": [
    "print(a)"
   ]
  },
  {
   "cell_type": "code",
   "execution_count": 27,
   "id": "d0e22ece-78e1-44d6-9891-18286acacca7",
   "metadata": {},
   "outputs": [
    {
     "data": {
      "text/plain": [
       "'O'"
      ]
     },
     "execution_count": 27,
     "metadata": {},
     "output_type": "execute_result"
    }
   ],
   "source": [
    "a[1:2]"
   ]
  },
  {
   "cell_type": "code",
   "execution_count": 28,
   "id": "a2751acc-8847-4528-a9a2-cdc9cb7e5d4d",
   "metadata": {},
   "outputs": [
    {
     "data": {
      "text/plain": [
       "'OM'"
      ]
     },
     "execution_count": 28,
     "metadata": {},
     "output_type": "execute_result"
    }
   ],
   "source": [
    "a[1:3]"
   ]
  },
  {
   "cell_type": "code",
   "execution_count": 29,
   "id": "9c29df83-d789-490e-96d5-7fe810846c1a",
   "metadata": {},
   "outputs": [
    {
     "data": {
      "text/plain": [
       "'OMAL'"
      ]
     },
     "execution_count": 29,
     "metadata": {},
     "output_type": "execute_result"
    }
   ],
   "source": [
    "a[1:453456456456456]"
   ]
  },
  {
   "cell_type": "code",
   "execution_count": 32,
   "id": "a868958b-f12a-468f-bdf6-be92cfbfdaa8",
   "metadata": {},
   "outputs": [
    {
     "data": {
      "text/plain": [
       "'K'"
      ]
     },
     "execution_count": 32,
     "metadata": {},
     "output_type": "execute_result"
    }
   ],
   "source": [
    "a[-324234234:34234234234:12312432543]"
   ]
  },
  {
   "cell_type": "code",
   "execution_count": 35,
   "id": "4a2f6098-fe29-434e-8568-10ae0c111b81",
   "metadata": {},
   "outputs": [
    {
     "data": {
      "text/plain": [
       "'OA'"
      ]
     },
     "execution_count": 35,
     "metadata": {},
     "output_type": "execute_result"
    }
   ],
   "source": [
    "a[1:4:2]"
   ]
  },
  {
   "cell_type": "code",
   "execution_count": null,
   "id": "24c04b87-486d-4187-aaf0-6224a55500f9",
   "metadata": {},
   "outputs": [],
   "source": []
  }
 ],
 "metadata": {
  "kernelspec": {
   "display_name": "Python 3 (ipykernel)",
   "language": "python",
   "name": "python3"
  },
  "language_info": {
   "codemirror_mode": {
    "name": "ipython",
    "version": 3
   },
   "file_extension": ".py",
   "mimetype": "text/x-python",
   "name": "python",
   "nbconvert_exporter": "python",
   "pygments_lexer": "ipython3",
   "version": "3.12.0"
  }
 },
 "nbformat": 4,
 "nbformat_minor": 5
}
