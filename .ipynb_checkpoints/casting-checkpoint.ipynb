{
 "cells": [
  {
   "cell_type": "markdown",
   "id": "fa2d5f7e-8c06-4ca0-9e87-9d8012d42fc1",
   "metadata": {},
   "source": [
    "# casting\n",
    "\n",
    "> casting means conversion of one datatype into another datatype."
   ]
  },
  {
   "cell_type": "code",
   "execution_count": 1,
   "id": "aecc2e8e-ca44-4c81-853a-8a7ec57f08cc",
   "metadata": {},
   "outputs": [
    {
     "name": "stdout",
     "output_type": "stream",
     "text": [
      "30\n"
     ]
    }
   ],
   "source": [
    "a=10\n",
    "b=20\n",
    "print(a+b)"
   ]
  },
  {
   "cell_type": "code",
   "execution_count": 2,
   "id": "e3449430-e8da-4f81-80d7-950273640fa0",
   "metadata": {},
   "outputs": [
    {
     "name": "stdout",
     "output_type": "stream",
     "text": [
      "1020\n"
     ]
    }
   ],
   "source": [
    "a='10'\n",
    "b='20'\n",
    "print(a+b)"
   ]
  },
  {
   "cell_type": "code",
   "execution_count": 3,
   "id": "4bcee979-8964-4057-84b3-e7da844e42a3",
   "metadata": {},
   "outputs": [
    {
     "name": "stdin",
     "output_type": "stream",
     "text": [
      "Enter 1st number: 10\n",
      "Enter 2nd number: 20\n"
     ]
    },
    {
     "name": "stdout",
     "output_type": "stream",
     "text": [
      "1020\n"
     ]
    }
   ],
   "source": [
    "a=input(\"Enter 1st number:\")\n",
    "b=input(\"Enter 2nd number:\")\n",
    "print(a+b)"
   ]
  },
  {
   "cell_type": "markdown",
   "id": "b245ded7-d278-47bf-903b-99a7df2546b0",
   "metadata": {},
   "source": [
    "# After applying casting\n",
    "\n",
    "str can cast into float and int"
   ]
  },
  {
   "cell_type": "code",
   "execution_count": 4,
   "id": "8401cc4f-b83c-4d1e-801e-fdaa94cb5a1a",
   "metadata": {},
   "outputs": [
    {
     "name": "stdin",
     "output_type": "stream",
     "text": [
      "Enter 1st number: 10\n",
      "Enter 2nd number: 20\n"
     ]
    },
    {
     "name": "stdout",
     "output_type": "stream",
     "text": [
      "30\n"
     ]
    }
   ],
   "source": [
    "a=input(\"Enter 1st number:\")  #'10'\n",
    "x=int(a)   #10\n",
    "b=input(\"Enter 2nd number:\")  #'20'\n",
    "y=int(b)  #20\n",
    "# print(a+b)\n",
    "print(x+y)"
   ]
  },
  {
   "cell_type": "raw",
   "id": "4375df11-ccf4-4de3-83e4-e1876844bc31",
   "metadata": {},
   "source": [
    "int()\n",
    "float()\n",
    "str()\n",
    "list()\n",
    "tuple()\n",
    "set()\n",
    "frozenset()\n",
    "dict()\n",
    "complex()\n",
    "bool()"
   ]
  },
  {
   "cell_type": "code",
   "execution_count": 5,
   "id": "4b073227-046e-4fa3-af34-96953f4146a6",
   "metadata": {},
   "outputs": [
    {
     "name": "stdin",
     "output_type": "stream",
     "text": [
      "Enter 1st number: 10\n",
      "Enter 2nd number: 20\n"
     ]
    },
    {
     "name": "stdout",
     "output_type": "stream",
     "text": [
      "30\n"
     ]
    }
   ],
   "source": [
    "x=int(input(\"Enter 1st number:\") )   #10\n",
    "y=int(input(\"Enter 2nd number:\"))  #20\n",
    "# print(a+b)\n",
    "print(x+y)"
   ]
  },
  {
   "cell_type": "code",
   "execution_count": 6,
   "id": "99d74393-9f16-4e21-a580-ff752fa5de9b",
   "metadata": {},
   "outputs": [
    {
     "name": "stdin",
     "output_type": "stream",
     "text": [
      "Enter 1st number: 10\n",
      "Enter 2nd number: 20\n"
     ]
    },
    {
     "name": "stdout",
     "output_type": "stream",
     "text": [
      "30\n"
     ]
    }
   ],
   "source": [
    "print(int(input(\"Enter 1st number:\"))+int(input(\"Enter 2nd number:\")))"
   ]
  },
  {
   "cell_type": "code",
   "execution_count": null,
   "id": "e58d3afe-9e53-4bc9-8fbf-f5da31774705",
   "metadata": {},
   "outputs": [],
   "source": [
    "float()a=input(\"Enter 1st number:\")  #'10.20'\n",
    "x=int(a)   #10\n",
    "b=input(\"Enter 2nd number:\")  #'20.21'\n",
    "y=int(b)  #20\n",
    "# print(a+b)\n",
    "print(x+y)"
   ]
  },
  {
   "cell_type": "code",
   "execution_count": 9,
   "id": "5c783652-3cdd-4526-afb3-6bbf5ab08353",
   "metadata": {},
   "outputs": [
    {
     "ename": "ValueError",
     "evalue": "invalid literal for int() with base 10: '20.21'",
     "output_type": "error",
     "traceback": [
      "\u001b[1;31m---------------------------------------------------------------------------\u001b[0m",
      "\u001b[1;31mValueError\u001b[0m                                Traceback (most recent call last)",
      "Cell \u001b[1;32mIn[9], line 1\u001b[0m\n\u001b[1;32m----> 1\u001b[0m \u001b[38;5;28;43mint\u001b[39;49m\u001b[43m(\u001b[49m\u001b[38;5;124;43m\"\u001b[39;49m\u001b[38;5;124;43m20.21\u001b[39;49m\u001b[38;5;124;43m\"\u001b[39;49m\u001b[43m)\u001b[49m\n",
      "\u001b[1;31mValueError\u001b[0m: invalid literal for int() with base 10: '20.21'"
     ]
    }
   ],
   "source": [
    "int(\"20.21\")"
   ]
  },
  {
   "cell_type": "code",
   "execution_count": 8,
   "id": "f8fc1cae-6fb3-4603-86bb-e37e348c3a63",
   "metadata": {},
   "outputs": [
    {
     "data": {
      "text/plain": [
       "20.21"
      ]
     },
     "execution_count": 8,
     "metadata": {},
     "output_type": "execute_result"
    }
   ],
   "source": [
    "float(\"20.21\")"
   ]
  },
  {
   "cell_type": "code",
   "execution_count": 11,
   "id": "3fe6a916-152f-47a4-9420-12fad6fab8d0",
   "metadata": {},
   "outputs": [
    {
     "name": "stdin",
     "output_type": "stream",
     "text": [
      "Enter 1st number: 10.20\n",
      "Enter 2nd number: 20.21\n"
     ]
    },
    {
     "name": "stdout",
     "output_type": "stream",
     "text": [
      "30.41\n"
     ]
    }
   ],
   "source": [
    "a=input(\"Enter 1st number:\")  #'10.20'\n",
    "x=float(a)   #10\n",
    "b=input(\"Enter 2nd number:\")  #'20.21'\n",
    "y=float(b)  #20\n",
    "# print(a+b)\n",
    "print(x+y)"
   ]
  },
  {
   "cell_type": "markdown",
   "id": "f4f95262-b867-42f7-a891-3dcb240bf197",
   "metadata": {},
   "source": [
    "# int to float and str"
   ]
  },
  {
   "cell_type": "code",
   "execution_count": 15,
   "id": "625fc625-b953-4a59-8af0-fb0cde850472",
   "metadata": {},
   "outputs": [
    {
     "name": "stdout",
     "output_type": "stream",
     "text": [
      "10.0 <class 'float'>\n"
     ]
    }
   ],
   "source": [
    "a=10\n",
    "b=float(a)\n",
    "print(b,type(b))"
   ]
  },
  {
   "cell_type": "code",
   "execution_count": 18,
   "id": "cc3ab49d-26f4-4c5e-8dcd-1648d33411db",
   "metadata": {},
   "outputs": [
    {
     "name": "stdout",
     "output_type": "stream",
     "text": [
      "10 <class 'str'>\n"
     ]
    }
   ],
   "source": [
    "a=10\n",
    "v=str(a)\n",
    "print(v,type(v))"
   ]
  },
  {
   "cell_type": "code",
   "execution_count": 21,
   "id": "0dfdf667-f7ea-4ca4-9621-9b7a535eaac2",
   "metadata": {},
   "outputs": [
    {
     "data": {
      "text/plain": [
       "10"
      ]
     },
     "execution_count": 21,
     "metadata": {},
     "output_type": "execute_result"
    }
   ],
   "source": [
    "a='10.23'\n",
    "c=float(a)\n",
    "int(c)"
   ]
  },
  {
   "cell_type": "code",
   "execution_count": 22,
   "id": "07ce74c6-950f-4bc2-aefa-2c74142bf2b1",
   "metadata": {},
   "outputs": [
    {
     "data": {
      "text/plain": [
       "10"
      ]
     },
     "execution_count": 22,
     "metadata": {},
     "output_type": "execute_result"
    }
   ],
   "source": [
    "a='10.23'\n",
    "int(float(a))"
   ]
  },
  {
   "cell_type": "code",
   "execution_count": 25,
   "id": "22cca947-0a97-45f9-9808-880a7f66b2bb",
   "metadata": {},
   "outputs": [
    {
     "name": "stdin",
     "output_type": "stream",
     "text": [
      "Enter a number: 10\n",
      "Enter 2nd number: 20\n"
     ]
    },
    {
     "name": "stdout",
     "output_type": "stream",
     "text": [
      "1020\n"
     ]
    }
   ],
   "source": [
    "a=input(\"Enter a number:\")\n",
    "b=input(\"Enter 2nd number:\")\n",
    "print(a+b)"
   ]
  },
  {
   "cell_type": "code",
   "execution_count": 26,
   "id": "70ed9c45-2e8d-482e-a16f-b3dc63af7820",
   "metadata": {},
   "outputs": [
    {
     "name": "stdin",
     "output_type": "stream",
     "text": [
      "Enter a number: 10\n",
      "Enter 2nd number: 20\n"
     ]
    },
    {
     "name": "stdout",
     "output_type": "stream",
     "text": [
      "30\n"
     ]
    }
   ],
   "source": [
    "a=int(input(\"Enter a number:\"))\n",
    "b=int(input(\"Enter 2nd number:\"))\n",
    "print(a+b)"
   ]
  },
  {
   "cell_type": "code",
   "execution_count": 27,
   "id": "d4d49310-a4c7-4d19-9cc8-394ed4d5f237",
   "metadata": {},
   "outputs": [
    {
     "name": "stdin",
     "output_type": "stream",
     "text": [
      "Enter a number: 10.24\n"
     ]
    },
    {
     "ename": "ValueError",
     "evalue": "invalid literal for int() with base 10: '10.24'",
     "output_type": "error",
     "traceback": [
      "\u001b[1;31m---------------------------------------------------------------------------\u001b[0m",
      "\u001b[1;31mValueError\u001b[0m                                Traceback (most recent call last)",
      "Cell \u001b[1;32mIn[27], line 1\u001b[0m\n\u001b[1;32m----> 1\u001b[0m a\u001b[38;5;241m=\u001b[39m\u001b[38;5;28;43mint\u001b[39;49m\u001b[43m(\u001b[49m\u001b[38;5;28;43minput\u001b[39;49m\u001b[43m(\u001b[49m\u001b[38;5;124;43m\"\u001b[39;49m\u001b[38;5;124;43mEnter a number:\u001b[39;49m\u001b[38;5;124;43m\"\u001b[39;49m\u001b[43m)\u001b[49m\u001b[43m)\u001b[49m\n\u001b[0;32m      2\u001b[0m b\u001b[38;5;241m=\u001b[39m\u001b[38;5;28mint\u001b[39m(\u001b[38;5;28minput\u001b[39m(\u001b[38;5;124m\"\u001b[39m\u001b[38;5;124mEnter 2nd number:\u001b[39m\u001b[38;5;124m\"\u001b[39m))\n\u001b[0;32m      3\u001b[0m \u001b[38;5;28mprint\u001b[39m(a\u001b[38;5;241m+\u001b[39mb)\n",
      "\u001b[1;31mValueError\u001b[0m: invalid literal for int() with base 10: '10.24'"
     ]
    }
   ],
   "source": [
    "a=int(input(\"Enter a number:\"))\n",
    "b=int(input(\"Enter 2nd number:\"))\n",
    "print(a+b)"
   ]
  },
  {
   "cell_type": "code",
   "execution_count": 28,
   "id": "10783fa4-7b0b-4382-8526-ae829cf13cef",
   "metadata": {},
   "outputs": [
    {
     "name": "stdin",
     "output_type": "stream",
     "text": [
      "Enter a number: 10.12\n",
      "Enter 2nd number: 20.24\n"
     ]
    },
    {
     "name": "stdout",
     "output_type": "stream",
     "text": [
      "30.36\n"
     ]
    }
   ],
   "source": [
    "a=float(input(\"Enter a number:\"))\n",
    "b=float(input(\"Enter 2nd number:\"))\n",
    "print(a+b)"
   ]
  },
  {
   "cell_type": "code",
   "execution_count": 29,
   "id": "0520b8c6-1927-43d3-a7f1-07a13f4d6b2c",
   "metadata": {},
   "outputs": [
    {
     "name": "stdin",
     "output_type": "stream",
     "text": [
      "Enter a number: 10\n",
      "Enter 2nd number: 20\n"
     ]
    },
    {
     "name": "stdout",
     "output_type": "stream",
     "text": [
      "30.0\n"
     ]
    }
   ],
   "source": [
    "a=float(input(\"Enter a number:\"))\n",
    "b=float(input(\"Enter 2nd number:\"))\n",
    "print(a+b)"
   ]
  },
  {
   "cell_type": "markdown",
   "id": "8180131a-adb6-4eea-aded-decf31c415a3",
   "metadata": {},
   "source": [
    "# eval()   \n",
    "\n",
    "> it work with number(int and float)"
   ]
  },
  {
   "cell_type": "code",
   "execution_count": 33,
   "id": "c3471962-2e7e-4fdc-87bf-583c606315a8",
   "metadata": {},
   "outputs": [
    {
     "name": "stdout",
     "output_type": "stream",
     "text": [
      "10 <class 'int'>\n"
     ]
    }
   ],
   "source": [
    "a=eval('10')\n",
    "print(a,type(a))"
   ]
  },
  {
   "cell_type": "code",
   "execution_count": 34,
   "id": "56771d32-84c4-49a6-90b7-d73e0598eb2a",
   "metadata": {},
   "outputs": [
    {
     "name": "stdout",
     "output_type": "stream",
     "text": [
      "10.34 <class 'float'>\n"
     ]
    }
   ],
   "source": [
    "a=eval('10.34')\n",
    "print(a,type(a))"
   ]
  },
  {
   "cell_type": "code",
   "execution_count": 35,
   "id": "cc459219-02c5-4498-92f0-e8fe227ab953",
   "metadata": {},
   "outputs": [
    {
     "name": "stdin",
     "output_type": "stream",
     "text": [
      "Enter a number: 10\n",
      "Enter 2nd number: 20\n"
     ]
    },
    {
     "name": "stdout",
     "output_type": "stream",
     "text": [
      "30\n"
     ]
    }
   ],
   "source": [
    "a=eval(input(\"Enter a number:\"))\n",
    "b=eval(input(\"Enter 2nd number:\"))\n",
    "print(a+b)"
   ]
  },
  {
   "cell_type": "code",
   "execution_count": 36,
   "id": "e40f5acf-c437-4b08-bada-22d92505c8e7",
   "metadata": {},
   "outputs": [
    {
     "name": "stdin",
     "output_type": "stream",
     "text": [
      "Enter a number: 10.24\n",
      "Enter 2nd number: 20.56\n"
     ]
    },
    {
     "name": "stdout",
     "output_type": "stream",
     "text": [
      "30.799999999999997\n"
     ]
    }
   ],
   "source": [
    "a=eval(input(\"Enter a number:\"))\n",
    "b=eval(input(\"Enter 2nd number:\"))\n",
    "print(a+b)"
   ]
  },
  {
   "cell_type": "markdown",
   "id": "c535c666-3f40-457b-864d-f7fcffe91d14",
   "metadata": {},
   "source": [
    "# list, tuple,set, frozenset"
   ]
  },
  {
   "cell_type": "code",
   "execution_count": 37,
   "id": "286c90b9-3038-4796-aa85-0bdf46a26221",
   "metadata": {},
   "outputs": [],
   "source": [
    "a=[1,1,2,3,4,5,6]"
   ]
  },
  {
   "cell_type": "code",
   "execution_count": 41,
   "id": "b549c4c0-f4de-4e2c-9de9-d029146d06ad",
   "metadata": {},
   "outputs": [
    {
     "name": "stdout",
     "output_type": "stream",
     "text": [
      "(1, 1, 2, 3, 4, 5, 6)\n"
     ]
    }
   ],
   "source": [
    "b=tuple(a)\n",
    "print(b)"
   ]
  },
  {
   "cell_type": "code",
   "execution_count": 42,
   "id": "23c43599-8637-4937-a7aa-dfb3f6f0aa7b",
   "metadata": {},
   "outputs": [
    {
     "name": "stdout",
     "output_type": "stream",
     "text": [
      "[1, 1, 2, 3, 4, 5, 6]\n"
     ]
    }
   ],
   "source": [
    "print(a)"
   ]
  },
  {
   "cell_type": "code",
   "execution_count": 43,
   "id": "9a8bd96b-e0f3-4460-945c-7c843b72d6de",
   "metadata": {},
   "outputs": [
    {
     "data": {
      "text/plain": [
       "{1, 2, 3, 4, 5, 6}"
      ]
     },
     "execution_count": 43,
     "metadata": {},
     "output_type": "execute_result"
    }
   ],
   "source": [
    "set(a)"
   ]
  },
  {
   "cell_type": "code",
   "execution_count": 44,
   "id": "6f420a16-fcfd-45b2-b7bb-be944952482b",
   "metadata": {},
   "outputs": [
    {
     "data": {
      "text/plain": [
       "frozenset({1, 2, 3, 4, 5, 6})"
      ]
     },
     "execution_count": 44,
     "metadata": {},
     "output_type": "execute_result"
    }
   ],
   "source": [
    "frozenset(a)"
   ]
  },
  {
   "cell_type": "code",
   "execution_count": null,
   "id": "f8f6812a-5de3-45e4-bef8-7a421272b2bf",
   "metadata": {},
   "outputs": [],
   "source": []
  }
 ],
 "metadata": {
  "kernelspec": {
   "display_name": "Python 3 (ipykernel)",
   "language": "python",
   "name": "python3"
  },
  "language_info": {
   "codemirror_mode": {
    "name": "ipython",
    "version": 3
   },
   "file_extension": ".py",
   "mimetype": "text/x-python",
   "name": "python",
   "nbconvert_exporter": "python",
   "pygments_lexer": "ipython3",
   "version": "3.12.0"
  }
 },
 "nbformat": 4,
 "nbformat_minor": 5
}
