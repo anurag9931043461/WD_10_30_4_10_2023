{
 "cells": [
  {
   "cell_type": "markdown",
   "id": "5083e693-0326-405d-a7bd-ce2420fcccfb",
   "metadata": {},
   "source": [
    "# dictionary datatype\n",
    "\n",
    "> dictionary constructor is dict()\n",
    "\n",
    "> dictionary literal is {}\n",
    "\n",
    "> dictionary is a ordered set of sequence of item(s); items is a combination of key and value pair\n",
    "\n",
    "> dictionary support indexing \n",
    "\n",
    "> dictionary doesnot support slicing \n",
    "\n",
    "> dictionary doesnot support concatination\n",
    "\n",
    "> dictionary is mutable.\n",
    "\n",
    "> dictionary key must be immutable datatype(hashable) and unique.\n",
    "\n",
    "> dictionary value may or may not be immutable\n",
    "\n",
    "> dictionary support nested dictionary\n",
    "\n",
    "> in other language like javascript(dictionary known as object or (JSON datatype), in dart it is called map datatype)\n",
    "\n",
    "> dictionary methods\n",
    "\n"
   ]
  },
  {
   "cell_type": "code",
   "execution_count": 4,
   "id": "8234337a-b749-4d52-a667-e1d218d8541f",
   "metadata": {},
   "outputs": [
    {
     "name": "stdout",
     "output_type": "stream",
     "text": [
      "{}\n",
      "<class 'dict'>\n",
      "1712819554496\n",
      "0\n"
     ]
    }
   ],
   "source": [
    "a=dict()  # using constructor creating empty dictionary\n",
    "print(a)\n",
    "print(type(a))\n",
    "print(id(a))\n",
    "print(len(a))"
   ]
  },
  {
   "cell_type": "code",
   "execution_count": 5,
   "id": "beb700ad-71d0-4d92-b1e4-648639dd5285",
   "metadata": {},
   "outputs": [
    {
     "name": "stdout",
     "output_type": "stream",
     "text": [
      "{}\n",
      "<class 'dict'>\n",
      "1712819490944\n",
      "0\n"
     ]
    }
   ],
   "source": [
    "a={}  # using literal creating empty dictionary\n",
    "print(a)\n",
    "print(type(a))\n",
    "print(id(a))\n",
    "print(len(a))"
   ]
  },
  {
   "cell_type": "code",
   "execution_count": 1,
   "id": "0b41b3f4-5206-48c0-a170-d5fe32683d96",
   "metadata": {},
   "outputs": [
    {
     "name": "stdout",
     "output_type": "stream",
     "text": [
      "4\n",
      "{1: 'krishna', 2: 'Mohan', 3: 'Sohan', 5: 'Monu'}\n"
     ]
    }
   ],
   "source": [
    "b={1:\"krishna\",2:\"Mohan\",3:\"Sohan\",5:\"Monu\"}\n",
    "print(len(b))\n",
    "print(b)"
   ]
  },
  {
   "cell_type": "code",
   "execution_count": 2,
   "id": "4683a592-8aba-477e-8950-9f5e9e76c837",
   "metadata": {},
   "outputs": [
    {
     "name": "stdout",
     "output_type": "stream",
     "text": [
      "{1: 'Moni', 2: 'Mohan', 3: 'Sohan', 5: 'Monu'}\n"
     ]
    }
   ],
   "source": [
    "b={1:\"krishna\",2:\"Mohan\",3:\"Sohan\",5:\"Monu\",1:\"Moni\"}\n",
    "print(b)"
   ]
  },
  {
   "cell_type": "code",
   "execution_count": 3,
   "id": "c8a05c8a-bfd6-4845-af82-86c52dc33d97",
   "metadata": {},
   "outputs": [
    {
     "name": "stdout",
     "output_type": "stream",
     "text": [
      "20\n"
     ]
    }
   ],
   "source": [
    "a=10\n",
    "a=20\n",
    "print(a)"
   ]
  },
  {
   "cell_type": "code",
   "execution_count": 8,
   "id": "ff64fb53-949b-45bd-93d6-afa7ee8df6d3",
   "metadata": {},
   "outputs": [
    {
     "ename": "TypeError",
     "evalue": "unhashable type: 'list'",
     "output_type": "error",
     "traceback": [
      "\u001b[1;31m---------------------------------------------------------------------------\u001b[0m",
      "\u001b[1;31mTypeError\u001b[0m                                 Traceback (most recent call last)",
      "Cell \u001b[1;32mIn[8], line 1\u001b[0m\n\u001b[1;32m----> 1\u001b[0m c\u001b[38;5;241m=\u001b[39m{\u001b[38;5;241m1\u001b[39m:\u001b[38;5;124m\"\u001b[39m\u001b[38;5;124mkrishna\u001b[39m\u001b[38;5;124m\"\u001b[39m,\u001b[38;5;241m10.22\u001b[39m:\u001b[38;5;124m\"\u001b[39m\u001b[38;5;124mMohan\u001b[39m\u001b[38;5;124m\"\u001b[39m,\u001b[38;5;124m\"\u001b[39m\u001b[38;5;124m10.20\u001b[39m\u001b[38;5;124m\"\u001b[39m:\u001b[38;5;124m\"\u001b[39m\u001b[38;5;124mSohan\u001b[39m\u001b[38;5;124m\"\u001b[39m,[\u001b[38;5;241m1\u001b[39m,\u001b[38;5;241m2\u001b[39m,\u001b[38;5;241m3\u001b[39m]:\u001b[38;5;124m\"\u001b[39m\u001b[38;5;124mRohan\u001b[39m\u001b[38;5;124m\"\u001b[39m}\n",
      "\u001b[1;31mTypeError\u001b[0m: unhashable type: 'list'"
     ]
    }
   ],
   "source": [
    "c={1:\"krishna\",10.22:\"Mohan\",\"10.20\":\"Sohan\",[1,2,3]:\"Rohan\"}"
   ]
  },
  {
   "cell_type": "code",
   "execution_count": 10,
   "id": "0b183a63-9e44-46a2-b0d7-54d195dae5ce",
   "metadata": {},
   "outputs": [
    {
     "ename": "TypeError",
     "evalue": "unhashable type: 'set'",
     "output_type": "error",
     "traceback": [
      "\u001b[1;31m---------------------------------------------------------------------------\u001b[0m",
      "\u001b[1;31mTypeError\u001b[0m                                 Traceback (most recent call last)",
      "Cell \u001b[1;32mIn[10], line 1\u001b[0m\n\u001b[1;32m----> 1\u001b[0m c\u001b[38;5;241m=\u001b[39m{\u001b[38;5;241m1\u001b[39m:\u001b[38;5;124m\"\u001b[39m\u001b[38;5;124mkrishna\u001b[39m\u001b[38;5;124m\"\u001b[39m,\u001b[38;5;241m10.22\u001b[39m:\u001b[38;5;124m\"\u001b[39m\u001b[38;5;124mMohan\u001b[39m\u001b[38;5;124m\"\u001b[39m,\u001b[38;5;124m\"\u001b[39m\u001b[38;5;124m10.20\u001b[39m\u001b[38;5;124m\"\u001b[39m:\u001b[38;5;124m\"\u001b[39m\u001b[38;5;124mSohan\u001b[39m\u001b[38;5;124m\"\u001b[39m,(\u001b[38;5;241m1\u001b[39m,\u001b[38;5;241m2\u001b[39m,\u001b[38;5;241m3\u001b[39m):\u001b[38;5;124m\"\u001b[39m\u001b[38;5;124mraju\u001b[39m\u001b[38;5;124m\"\u001b[39m,{\u001b[38;5;241m1\u001b[39m,\u001b[38;5;241m2\u001b[39m,\u001b[38;5;241m3\u001b[39m}:\u001b[38;5;124m\"\u001b[39m\u001b[38;5;124mRonit\u001b[39m\u001b[38;5;124m\"\u001b[39m}\n",
      "\u001b[1;31mTypeError\u001b[0m: unhashable type: 'set'"
     ]
    }
   ],
   "source": [
    "c={1:\"krishna\",10.22:\"Mohan\",\"10.20\":\"Sohan\",(1,2,3):\"raju\",{1,2,3}:\"Ronit\"}"
   ]
  },
  {
   "cell_type": "code",
   "execution_count": 24,
   "id": "2e6aca20-4c4a-4e99-bfc3-462da46aae97",
   "metadata": {},
   "outputs": [
    {
     "data": {
      "text/plain": [
       "{1: 'krishna',\n",
       " 10.22: 'Mohan',\n",
       " '10.20': 'Sohan',\n",
       " (1, 2, 3): 'raju',\n",
       " frozenset({1, 2, 3}): 'Monika'}"
      ]
     },
     "execution_count": 24,
     "metadata": {},
     "output_type": "execute_result"
    }
   ],
   "source": [
    "c={1:\"krishna\",10.22:\"Mohan\",\"10.20\":\"Sohan\",(1,2,3):\"raju\",frozenset({1,2,3}):\"Monika\"}\n",
    "c"
   ]
  },
  {
   "cell_type": "code",
   "execution_count": 12,
   "id": "38fb0e71-8ab9-404b-bcd2-9743fb62ed09",
   "metadata": {},
   "outputs": [
    {
     "ename": "TypeError",
     "evalue": "unhashable type: 'list'",
     "output_type": "error",
     "traceback": [
      "\u001b[1;31m---------------------------------------------------------------------------\u001b[0m",
      "\u001b[1;31mTypeError\u001b[0m                                 Traceback (most recent call last)",
      "Cell \u001b[1;32mIn[12], line 1\u001b[0m\n\u001b[1;32m----> 1\u001b[0m c\u001b[38;5;241m=\u001b[39m{\u001b[38;5;241m1\u001b[39m:\u001b[38;5;124m\"\u001b[39m\u001b[38;5;124mkrishna\u001b[39m\u001b[38;5;124m\"\u001b[39m,\u001b[38;5;241m10.22\u001b[39m:\u001b[38;5;124m\"\u001b[39m\u001b[38;5;124mMohan\u001b[39m\u001b[38;5;124m\"\u001b[39m,\u001b[38;5;124m\"\u001b[39m\u001b[38;5;124m10.20\u001b[39m\u001b[38;5;124m\"\u001b[39m:\u001b[38;5;124m\"\u001b[39m\u001b[38;5;124mSohan\u001b[39m\u001b[38;5;124m\"\u001b[39m,(\u001b[38;5;241m1\u001b[39m,\u001b[38;5;241m2\u001b[39m,\u001b[38;5;241m3\u001b[39m):\u001b[38;5;124m\"\u001b[39m\u001b[38;5;124mraju\u001b[39m\u001b[38;5;124m\"\u001b[39m,\u001b[38;5;28mfrozenset\u001b[39m({\u001b[38;5;241m1\u001b[39m,[\u001b[38;5;241m1\u001b[39m,\u001b[38;5;241m2\u001b[39m,\u001b[38;5;241m3\u001b[39m],\u001b[38;5;241m3\u001b[39m}):\u001b[38;5;124m\"\u001b[39m\u001b[38;5;124mMonika\u001b[39m\u001b[38;5;124m\"\u001b[39m}\n",
      "\u001b[1;31mTypeError\u001b[0m: unhashable type: 'list'"
     ]
    }
   ],
   "source": [
    "c={1:\"krishna\",10.22:\"Mohan\",\"10.20\":\"Sohan\",(1,2,3):\"raju\",frozenset({1,[1,2,3],3}):\"Monika\"}"
   ]
  },
  {
   "cell_type": "code",
   "execution_count": 13,
   "id": "729a36cd-e0eb-4543-91fc-537bc56b2a0b",
   "metadata": {},
   "outputs": [
    {
     "ename": "TypeError",
     "evalue": "unhashable type: 'list'",
     "output_type": "error",
     "traceback": [
      "\u001b[1;31m---------------------------------------------------------------------------\u001b[0m",
      "\u001b[1;31mTypeError\u001b[0m                                 Traceback (most recent call last)",
      "Cell \u001b[1;32mIn[13], line 1\u001b[0m\n\u001b[1;32m----> 1\u001b[0m \u001b[38;5;28mfrozenset\u001b[39m({\u001b[38;5;241m1\u001b[39m,[\u001b[38;5;241m1\u001b[39m,\u001b[38;5;241m2\u001b[39m,\u001b[38;5;241m3\u001b[39m],\u001b[38;5;241m3\u001b[39m})\n",
      "\u001b[1;31mTypeError\u001b[0m: unhashable type: 'list'"
     ]
    }
   ],
   "source": [
    "frozenset({1,[1,2,3],3})"
   ]
  },
  {
   "cell_type": "code",
   "execution_count": 22,
   "id": "83d12031-fd44-47fb-a752-83fdb86c5504",
   "metadata": {},
   "outputs": [],
   "source": [
    "e={1:1000,2:19.323,3:\"krishna\",4:[1,2,3],5:(1,2,3),6:{1,2,3},7:frozenset({1,2,3}),8:{1:\"krishna\"}}"
   ]
  },
  {
   "cell_type": "code",
   "execution_count": 23,
   "id": "e52ad243-b034-4f0e-bf69-2bb5b64b929d",
   "metadata": {},
   "outputs": [
    {
     "data": {
      "text/plain": [
       "{1: 1000,\n",
       " 2: 19.323,\n",
       " 3: 'krishna',\n",
       " 4: [1, 2, 3],\n",
       " 5: (1, 2, 3),\n",
       " 6: {1, 2, 3},\n",
       " 7: frozenset({1, 2, 3}),\n",
       " 8: {1: 'krishna'}}"
      ]
     },
     "execution_count": 23,
     "metadata": {},
     "output_type": "execute_result"
    }
   ],
   "source": [
    "e"
   ]
  },
  {
   "cell_type": "markdown",
   "id": "5328f7aa-0b49-45b6-b648-4fe2f40e02b9",
   "metadata": {},
   "source": [
    "# indexing"
   ]
  },
  {
   "cell_type": "code",
   "execution_count": 26,
   "id": "b7f63166-25f3-4ec3-9b19-9fc7feefcca3",
   "metadata": {},
   "outputs": [
    {
     "data": {
      "text/plain": [
       "{1: 1000,\n",
       " 2: 19.323,\n",
       " 3: 'krishna',\n",
       " 4: [1, 2, 3],\n",
       " 5: (1, 2, 3),\n",
       " 6: {1, 2, 3},\n",
       " 7: frozenset({1, 2, 3}),\n",
       " 8: {1: 'krishna'}}"
      ]
     },
     "execution_count": 26,
     "metadata": {},
     "output_type": "execute_result"
    }
   ],
   "source": [
    "e"
   ]
  },
  {
   "cell_type": "code",
   "execution_count": 27,
   "id": "418df059-4e87-42c3-a5f4-cfdf32bf5e1d",
   "metadata": {},
   "outputs": [
    {
     "name": "stdout",
     "output_type": "stream",
     "text": [
      "frozenset({1, 2, 3})\n"
     ]
    }
   ],
   "source": [
    "print(e[7])"
   ]
  },
  {
   "cell_type": "code",
   "execution_count": 28,
   "id": "497f6918-f847-450e-910d-6ad6e01a1896",
   "metadata": {},
   "outputs": [
    {
     "data": {
      "text/plain": [
       "{1: 'krishna',\n",
       " 10.22: 'Mohan',\n",
       " '10.20': 'Sohan',\n",
       " (1, 2, 3): 'raju',\n",
       " frozenset({1, 2, 3}): 'Monika'}"
      ]
     },
     "execution_count": 28,
     "metadata": {},
     "output_type": "execute_result"
    }
   ],
   "source": [
    "c"
   ]
  },
  {
   "cell_type": "code",
   "execution_count": 29,
   "id": "3fb5052b-8ee3-4f3c-b38a-047c58b01146",
   "metadata": {},
   "outputs": [
    {
     "data": {
      "text/plain": [
       "'Monika'"
      ]
     },
     "execution_count": 29,
     "metadata": {},
     "output_type": "execute_result"
    }
   ],
   "source": [
    "c[frozenset({1, 2, 3})]"
   ]
  },
  {
   "cell_type": "code",
   "execution_count": 30,
   "id": "de7825bb-f018-4086-a860-e74e17202d05",
   "metadata": {},
   "outputs": [
    {
     "ename": "TypeError",
     "evalue": "unsupported operand type(s) for +: 'dict' and 'dict'",
     "output_type": "error",
     "traceback": [
      "\u001b[1;31m---------------------------------------------------------------------------\u001b[0m",
      "\u001b[1;31mTypeError\u001b[0m                                 Traceback (most recent call last)",
      "Cell \u001b[1;32mIn[30], line 3\u001b[0m\n\u001b[0;32m      1\u001b[0m a\u001b[38;5;241m=\u001b[39m{\u001b[38;5;241m1\u001b[39m:\u001b[38;5;124m\"\u001b[39m\u001b[38;5;124mKrishna\u001b[39m\u001b[38;5;124m\"\u001b[39m,\u001b[38;5;241m2\u001b[39m:\u001b[38;5;124m\"\u001b[39m\u001b[38;5;124mMohan\u001b[39m\u001b[38;5;124m\"\u001b[39m}\n\u001b[0;32m      2\u001b[0m b\u001b[38;5;241m=\u001b[39m{\u001b[38;5;241m2\u001b[39m:\u001b[38;5;124m\"\u001b[39m\u001b[38;5;124mRohan\u001b[39m\u001b[38;5;124m\"\u001b[39m}\n\u001b[1;32m----> 3\u001b[0m \u001b[38;5;28mprint\u001b[39m(\u001b[43ma\u001b[49m\u001b[38;5;241;43m+\u001b[39;49m\u001b[43mb\u001b[49m)\n",
      "\u001b[1;31mTypeError\u001b[0m: unsupported operand type(s) for +: 'dict' and 'dict'"
     ]
    }
   ],
   "source": [
    "a={1:\"Krishna\",2:\"Mohan\"}\n",
    "b={2:\"Rohan\"}\n",
    "print(a+b)"
   ]
  },
  {
   "cell_type": "markdown",
   "id": "d8e78415-8102-4c16-a510-81485448d332",
   "metadata": {},
   "source": [
    "# dictionary methods"
   ]
  },
  {
   "cell_type": "code",
   "execution_count": 32,
   "id": "dfec67cc-a7c9-4e9f-8e7b-6c81fe8605df",
   "metadata": {},
   "outputs": [
    {
     "name": "stdout",
     "output_type": "stream",
     "text": [
      "<class 'set'>\n"
     ]
    }
   ],
   "source": [
    "a={1}\n",
    "print(type(a))"
   ]
  },
  {
   "cell_type": "code",
   "execution_count": 33,
   "id": "c002c00c-bdee-49ec-9bb3-0f9bf4635928",
   "metadata": {},
   "outputs": [
    {
     "name": "stdout",
     "output_type": "stream",
     "text": [
      "<class 'dict'>\n"
     ]
    }
   ],
   "source": [
    "a={}\n",
    "print(type(a))"
   ]
  },
  {
   "cell_type": "code",
   "execution_count": 35,
   "id": "3b36167e-1571-46d9-a1f1-1257c78a169f",
   "metadata": {},
   "outputs": [
    {
     "name": "stdout",
     "output_type": "stream",
     "text": [
      "1969126479232\n"
     ]
    }
   ],
   "source": [
    "a={}\n",
    "print(id(a))"
   ]
  },
  {
   "cell_type": "code",
   "execution_count": 36,
   "id": "97cb5f74-9928-4472-a867-b7f5f3a1aa4e",
   "metadata": {},
   "outputs": [],
   "source": [
    "a.update({1:\"krishna\",2:\"Rohan\"})"
   ]
  },
  {
   "cell_type": "code",
   "execution_count": 37,
   "id": "b701daea-6b84-4e0c-aa69-42207e4c49ac",
   "metadata": {},
   "outputs": [
    {
     "name": "stdout",
     "output_type": "stream",
     "text": [
      "{1: 'krishna', 2: 'Rohan'}\n"
     ]
    }
   ],
   "source": [
    "print(a)"
   ]
  },
  {
   "cell_type": "code",
   "execution_count": 38,
   "id": "a481e0aa-cb12-4873-9614-63e4145d1200",
   "metadata": {},
   "outputs": [
    {
     "name": "stdout",
     "output_type": "stream",
     "text": [
      "1969126479232\n"
     ]
    }
   ],
   "source": [
    "print(id(a))"
   ]
  },
  {
   "cell_type": "code",
   "execution_count": 39,
   "id": "85b40c38-3884-49ee-ab1a-6ce12a2dcb04",
   "metadata": {},
   "outputs": [
    {
     "data": {
      "text/plain": [
       "'Rohan'"
      ]
     },
     "execution_count": 39,
     "metadata": {},
     "output_type": "execute_result"
    }
   ],
   "source": [
    "a[2]"
   ]
  },
  {
   "cell_type": "code",
   "execution_count": 40,
   "id": "14cf7c0d-8061-41b4-93b8-9be284060a91",
   "metadata": {},
   "outputs": [],
   "source": [
    "a[2]=\"Sohan\""
   ]
  },
  {
   "cell_type": "code",
   "execution_count": 41,
   "id": "fde87bbd-2a8e-4d1a-a2f5-c2fd8cf46b6c",
   "metadata": {},
   "outputs": [
    {
     "name": "stdout",
     "output_type": "stream",
     "text": [
      "{1: 'krishna', 2: 'Sohan'}\n"
     ]
    }
   ],
   "source": [
    "print(a)"
   ]
  },
  {
   "cell_type": "code",
   "execution_count": 42,
   "id": "f4c7ff2a-4265-477a-87a9-a86b482567ec",
   "metadata": {},
   "outputs": [],
   "source": [
    "a.setdefault(3)"
   ]
  },
  {
   "cell_type": "code",
   "execution_count": 43,
   "id": "10f4701f-ab7b-40d0-a955-f40d4f18df7c",
   "metadata": {},
   "outputs": [
    {
     "name": "stdout",
     "output_type": "stream",
     "text": [
      "{1: 'krishna', 2: 'Sohan', 3: None}\n"
     ]
    }
   ],
   "source": [
    "print(a)"
   ]
  },
  {
   "cell_type": "code",
   "execution_count": 44,
   "id": "ff1d121d-dd6d-4f60-a72f-b5b7048eb813",
   "metadata": {},
   "outputs": [
    {
     "data": {
      "text/plain": [
       "'available'"
      ]
     },
     "execution_count": 44,
     "metadata": {},
     "output_type": "execute_result"
    }
   ],
   "source": [
    "a.setdefault(4,\"available\")"
   ]
  },
  {
   "cell_type": "code",
   "execution_count": 45,
   "id": "f42fed1d-c0c9-4d12-826f-ceb018d44188",
   "metadata": {},
   "outputs": [
    {
     "name": "stdout",
     "output_type": "stream",
     "text": [
      "{1: 'krishna', 2: 'Sohan', 3: None, 4: 'available'}\n"
     ]
    }
   ],
   "source": [
    "print(a)"
   ]
  },
  {
   "cell_type": "code",
   "execution_count": 46,
   "id": "0743a46a-d414-4d34-81e0-83ec82e43012",
   "metadata": {},
   "outputs": [],
   "source": [
    "a[4]=\"krishna\""
   ]
  },
  {
   "cell_type": "code",
   "execution_count": 47,
   "id": "4e7dd1f1-a7ab-4fe7-88aa-a7242c0a220d",
   "metadata": {},
   "outputs": [
    {
     "name": "stdout",
     "output_type": "stream",
     "text": [
      "{1: 'krishna', 2: 'Sohan', 3: None, 4: 'krishna'}\n"
     ]
    }
   ],
   "source": [
    "print(a)"
   ]
  },
  {
   "cell_type": "code",
   "execution_count": 48,
   "id": "20436828-e670-49ea-b994-b238e02d06a3",
   "metadata": {},
   "outputs": [
    {
     "name": "stdout",
     "output_type": "stream",
     "text": [
      "1969130129472\n"
     ]
    }
   ],
   "source": [
    "f={}\n",
    "print(id(f))"
   ]
  },
  {
   "cell_type": "code",
   "execution_count": 51,
   "id": "380f1a99-3560-4646-99df-882bda295d65",
   "metadata": {},
   "outputs": [],
   "source": [
    "g=f.fromkeys([1,2,3,4,5,6,7,8,9,10],\"available\")"
   ]
  },
  {
   "cell_type": "code",
   "execution_count": 54,
   "id": "7c536eaf-ea23-49ab-90c4-4f8d3206f1f4",
   "metadata": {},
   "outputs": [
    {
     "name": "stdout",
     "output_type": "stream",
     "text": [
      "{1: 'available', 2: 'available', 3: 'available', 4: 'available', 5: 'available', 6: 'available', 7: 'available', 8: 'available', 9: 'available', 10: 'available'}\n",
      "1969129361408\n"
     ]
    }
   ],
   "source": [
    "print(g)\n",
    "print(id(g))"
   ]
  },
  {
   "cell_type": "code",
   "execution_count": 55,
   "id": "cdc16011-62b7-4ac8-b58d-5b32a54b2a7b",
   "metadata": {},
   "outputs": [],
   "source": [
    "g.update({1:\"krishna\"})"
   ]
  },
  {
   "cell_type": "code",
   "execution_count": 56,
   "id": "68af590b-167d-4b28-8f05-1fd39c488715",
   "metadata": {},
   "outputs": [
    {
     "name": "stdout",
     "output_type": "stream",
     "text": [
      "{1: 'krishna', 2: 'available', 3: 'available', 4: 'available', 5: 'available', 6: 'available', 7: 'available', 8: 'available', 9: 'available', 10: 'available'}\n"
     ]
    }
   ],
   "source": [
    "print(g)"
   ]
  },
  {
   "cell_type": "code",
   "execution_count": null,
   "id": "255eba2e-b662-45ed-a395-42115398983c",
   "metadata": {},
   "outputs": [],
   "source": []
  }
 ],
 "metadata": {
  "kernelspec": {
   "display_name": "Python 3 (ipykernel)",
   "language": "python",
   "name": "python3"
  },
  "language_info": {
   "codemirror_mode": {
    "name": "ipython",
    "version": 3
   },
   "file_extension": ".py",
   "mimetype": "text/x-python",
   "name": "python",
   "nbconvert_exporter": "python",
   "pygments_lexer": "ipython3",
   "version": "3.12.0"
  }
 },
 "nbformat": 4,
 "nbformat_minor": 5
}
