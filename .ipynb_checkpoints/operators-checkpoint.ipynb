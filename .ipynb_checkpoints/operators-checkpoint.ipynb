{
 "cells": [
  {
   "cell_type": "markdown",
   "id": "a521ab6a-a835-4138-b78a-c8a4dabb910b",
   "metadata": {},
   "source": [
    "# operators\n",
    "Note: operator work on operends\n",
    "\n",
    "> arithmetic operator\n",
    "\n",
    "> comperision operator \n",
    "\n",
    "> Assigment operator \n",
    "\n",
    "> Logical operator \n",
    "\n",
    "> membership operator \n",
    "\n",
    "> Identity operator\n",
    "\n",
    "> Bitwise operator (use in the development of similary language like python)"
   ]
  },
  {
   "cell_type": "markdown",
   "id": "f8599dc6-4973-4b44-b074-0de13aeb7cb9",
   "metadata": {},
   "source": [
    "# Arithmetic operator\n",
    "\n",
    "+,-,/, //,%,*, **"
   ]
  },
  {
   "cell_type": "code",
   "execution_count": 1,
   "id": "697b7f3d-5f0a-4812-b3ac-668eef1ea8be",
   "metadata": {},
   "outputs": [
    {
     "name": "stdout",
     "output_type": "stream",
     "text": [
      "30\n"
     ]
    }
   ],
   "source": [
    "a=10\n",
    "b=20\n",
    "print(a+b)"
   ]
  },
  {
   "cell_type": "code",
   "execution_count": 2,
   "id": "7c1f681c-0456-41e5-bca9-aff4d8673b6b",
   "metadata": {},
   "outputs": [
    {
     "name": "stdout",
     "output_type": "stream",
     "text": [
      "-10\n"
     ]
    }
   ],
   "source": [
    "print(a-b)"
   ]
  },
  {
   "cell_type": "code",
   "execution_count": 4,
   "id": "c35043e6-d7c3-4e56-9677-669388020a46",
   "metadata": {},
   "outputs": [
    {
     "name": "stdout",
     "output_type": "stream",
     "text": [
      "0.5\n",
      "2.0\n"
     ]
    }
   ],
   "source": [
    "print(a/b)\n",
    "print(b/a)"
   ]
  },
  {
   "cell_type": "code",
   "execution_count": 5,
   "id": "f1a726d8-0ea6-44c1-8037-f19332316e0e",
   "metadata": {},
   "outputs": [
    {
     "name": "stdout",
     "output_type": "stream",
     "text": [
      "2\n"
     ]
    }
   ],
   "source": [
    "print(b//a)"
   ]
  },
  {
   "cell_type": "code",
   "execution_count": 6,
   "id": "9ccd2288-8b4b-4689-8414-53904e3f352e",
   "metadata": {},
   "outputs": [
    {
     "name": "stdout",
     "output_type": "stream",
     "text": [
      "0\n"
     ]
    }
   ],
   "source": [
    "print(a//b)"
   ]
  },
  {
   "cell_type": "code",
   "execution_count": 7,
   "id": "78af5b4c-e922-49f5-9e78-67dc1c8a612f",
   "metadata": {},
   "outputs": [],
   "source": [
    "c=10.0\n",
    "d=20"
   ]
  },
  {
   "cell_type": "code",
   "execution_count": 8,
   "id": "de991242-1af3-4958-b364-5bab828d6cbb",
   "metadata": {},
   "outputs": [
    {
     "name": "stdout",
     "output_type": "stream",
     "text": [
      "0.0\n"
     ]
    }
   ],
   "source": [
    "print(c//d)"
   ]
  },
  {
   "cell_type": "code",
   "execution_count": 9,
   "id": "a4cc6e59-ac0b-4796-b010-a3cb6b577d84",
   "metadata": {},
   "outputs": [
    {
     "data": {
      "text/plain": [
       "3.3333333333333335"
      ]
     },
     "execution_count": 9,
     "metadata": {},
     "output_type": "execute_result"
    }
   ],
   "source": [
    "10/3"
   ]
  },
  {
   "cell_type": "code",
   "execution_count": 10,
   "id": "895d05d1-dc5a-4d34-ad81-085d36f3485c",
   "metadata": {},
   "outputs": [
    {
     "data": {
      "text/plain": [
       "1"
      ]
     },
     "execution_count": 10,
     "metadata": {},
     "output_type": "execute_result"
    }
   ],
   "source": [
    "10%3"
   ]
  },
  {
   "cell_type": "code",
   "execution_count": 12,
   "id": "47f4ab6f-47a6-415b-8350-59f01747ab25",
   "metadata": {},
   "outputs": [
    {
     "name": "stdout",
     "output_type": "stream",
     "text": [
      "0.01\n"
     ]
    }
   ],
   "source": [
    "print(10.00*0.001)"
   ]
  },
  {
   "cell_type": "code",
   "execution_count": 13,
   "id": "4b340ba1-5148-4d16-97eb-dcb6b1e79b02",
   "metadata": {},
   "outputs": [
    {
     "name": "stdout",
     "output_type": "stream",
     "text": [
      "10000000000\n"
     ]
    }
   ],
   "source": [
    "print(10**10)"
   ]
  },
  {
   "cell_type": "code",
   "execution_count": 14,
   "id": "6dab35d1-f3ba-48e7-9334-26ba0d69db1d",
   "metadata": {},
   "outputs": [
    {
     "name": "stdout",
     "output_type": "stream",
     "text": [
      "10000000000.0\n"
     ]
    }
   ],
   "source": [
    "print(10**10.0)"
   ]
  },
  {
   "cell_type": "markdown",
   "id": "6e9b3b68-c498-4427-834c-f903739a6748",
   "metadata": {},
   "source": [
    "# comaprision operator\n",
    "\n",
    "<,>,>=,<=,!=,=="
   ]
  },
  {
   "cell_type": "code",
   "execution_count": 15,
   "id": "8d46717c-81d2-424a-bc6f-780022aefba2",
   "metadata": {},
   "outputs": [
    {
     "name": "stdout",
     "output_type": "stream",
     "text": [
      "False\n"
     ]
    }
   ],
   "source": [
    "print(10<10)"
   ]
  },
  {
   "cell_type": "code",
   "execution_count": 16,
   "id": "d210bb8f-66d8-4b15-a0c5-6a50754e6a01",
   "metadata": {},
   "outputs": [
    {
     "name": "stdout",
     "output_type": "stream",
     "text": [
      "False\n"
     ]
    }
   ],
   "source": [
    "print(10>10)"
   ]
  },
  {
   "cell_type": "code",
   "execution_count": 17,
   "id": "f55db30e-0917-466f-9422-d3b3f8fbed88",
   "metadata": {},
   "outputs": [
    {
     "name": "stdout",
     "output_type": "stream",
     "text": [
      "True\n"
     ]
    }
   ],
   "source": [
    "print(10>=10)"
   ]
  },
  {
   "cell_type": "code",
   "execution_count": 18,
   "id": "d85f784a-34ad-49c0-9a2c-f296a576b19f",
   "metadata": {},
   "outputs": [
    {
     "name": "stdout",
     "output_type": "stream",
     "text": [
      "True\n"
     ]
    }
   ],
   "source": [
    "print(10<=10)"
   ]
  },
  {
   "cell_type": "code",
   "execution_count": 19,
   "id": "b50c05a8-04ba-407e-b793-bd17ff33ce9a",
   "metadata": {},
   "outputs": [
    {
     "name": "stdout",
     "output_type": "stream",
     "text": [
      "False\n"
     ]
    }
   ],
   "source": [
    "print(10!=10)"
   ]
  },
  {
   "cell_type": "code",
   "execution_count": 20,
   "id": "cabd10cc-661f-4443-a929-a9e12de08920",
   "metadata": {},
   "outputs": [
    {
     "name": "stdout",
     "output_type": "stream",
     "text": [
      "True\n"
     ]
    }
   ],
   "source": [
    "print(10==10)"
   ]
  },
  {
   "cell_type": "markdown",
   "id": "902953f6-575c-437b-a2cb-f862353f1bc0",
   "metadata": {},
   "source": [
    "# Assigment operator\n",
    "\n",
    "=,+=,-=,*=,**=,/=,//=,%="
   ]
  },
  {
   "cell_type": "code",
   "execution_count": 25,
   "id": "8737de21-6e98-4ec7-a6cf-aa5930616dfb",
   "metadata": {},
   "outputs": [],
   "source": [
    "a=10"
   ]
  },
  {
   "cell_type": "code",
   "execution_count": 26,
   "id": "f6770e72-ee32-4935-99cc-bdf1f7224dea",
   "metadata": {},
   "outputs": [],
   "source": [
    "a+=1        #a=a+1"
   ]
  },
  {
   "cell_type": "code",
   "execution_count": 27,
   "id": "8f962988-4159-4b25-87fb-0871a738056b",
   "metadata": {},
   "outputs": [
    {
     "name": "stdout",
     "output_type": "stream",
     "text": [
      "11\n"
     ]
    }
   ],
   "source": [
    "print(a)"
   ]
  },
  {
   "cell_type": "code",
   "execution_count": 28,
   "id": "41e66b64-24d4-4826-b071-ea2b1e453111",
   "metadata": {},
   "outputs": [],
   "source": [
    "a-=1           #a=a-1"
   ]
  },
  {
   "cell_type": "code",
   "execution_count": 29,
   "id": "f6044f21-e768-453f-82dc-a2775b504b15",
   "metadata": {},
   "outputs": [
    {
     "data": {
      "text/plain": [
       "10"
      ]
     },
     "execution_count": 29,
     "metadata": {},
     "output_type": "execute_result"
    }
   ],
   "source": [
    "a"
   ]
  },
  {
   "cell_type": "code",
   "execution_count": 30,
   "id": "f858f60b-a4c5-4b57-bf7a-37ec8aad9ad6",
   "metadata": {},
   "outputs": [],
   "source": [
    "a*=4          #a=a*4"
   ]
  },
  {
   "cell_type": "code",
   "execution_count": 31,
   "id": "c1660855-9f24-448b-a076-a90ec671d052",
   "metadata": {},
   "outputs": [
    {
     "data": {
      "text/plain": [
       "40"
      ]
     },
     "execution_count": 31,
     "metadata": {},
     "output_type": "execute_result"
    }
   ],
   "source": [
    "a"
   ]
  },
  {
   "cell_type": "code",
   "execution_count": 33,
   "id": "74b01955-04d4-4b5a-bfaf-07294c5ad983",
   "metadata": {},
   "outputs": [],
   "source": [
    "a/=4       #a=a/4"
   ]
  },
  {
   "cell_type": "code",
   "execution_count": 34,
   "id": "de6ce83f-384e-4860-b94e-e1f5a686fd31",
   "metadata": {},
   "outputs": [
    {
     "data": {
      "text/plain": [
       "10.0"
      ]
     },
     "execution_count": 34,
     "metadata": {},
     "output_type": "execute_result"
    }
   ],
   "source": [
    "a"
   ]
  },
  {
   "cell_type": "code",
   "execution_count": 35,
   "id": "c32e8c61-7c6a-41c7-b71a-2185c8611126",
   "metadata": {},
   "outputs": [],
   "source": [
    "a*=4"
   ]
  },
  {
   "cell_type": "code",
   "execution_count": 36,
   "id": "5d78e179-3210-4a1e-b417-a03b3b9537c6",
   "metadata": {},
   "outputs": [
    {
     "data": {
      "text/plain": [
       "40.0"
      ]
     },
     "execution_count": 36,
     "metadata": {},
     "output_type": "execute_result"
    }
   ],
   "source": [
    "a"
   ]
  },
  {
   "cell_type": "code",
   "execution_count": 38,
   "id": "e6367c8c-f579-45b6-a52d-e43c7eda5197",
   "metadata": {},
   "outputs": [],
   "source": [
    "a=40"
   ]
  },
  {
   "cell_type": "code",
   "execution_count": 41,
   "id": "82221cf9-e12e-4d38-920f-28d4346681d5",
   "metadata": {},
   "outputs": [],
   "source": [
    "a//=4       #a=a//4"
   ]
  },
  {
   "cell_type": "code",
   "execution_count": 42,
   "id": "408f15b6-53ad-4445-b90a-388565600565",
   "metadata": {},
   "outputs": [
    {
     "data": {
      "text/plain": [
       "10"
      ]
     },
     "execution_count": 42,
     "metadata": {},
     "output_type": "execute_result"
    }
   ],
   "source": [
    "a"
   ]
  },
  {
   "cell_type": "code",
   "execution_count": 44,
   "id": "c3ca4c5f-6b98-4d0a-942a-1e675d57a765",
   "metadata": {},
   "outputs": [],
   "source": [
    "a%=3           #a=a%3"
   ]
  },
  {
   "cell_type": "code",
   "execution_count": 45,
   "id": "59a204d0-3f09-473e-bd09-8af14091b16c",
   "metadata": {},
   "outputs": [
    {
     "data": {
      "text/plain": [
       "1"
      ]
     },
     "execution_count": 45,
     "metadata": {},
     "output_type": "execute_result"
    }
   ],
   "source": [
    "a"
   ]
  },
  {
   "cell_type": "code",
   "execution_count": 46,
   "id": "f33a4379-42b3-4053-8895-de6ea1be20dd",
   "metadata": {},
   "outputs": [],
   "source": [
    "a=10"
   ]
  },
  {
   "cell_type": "code",
   "execution_count": 49,
   "id": "c5917eba-0043-4b08-8737-e8235ec38444",
   "metadata": {},
   "outputs": [],
   "source": [
    "a**=2      #a=a**2"
   ]
  },
  {
   "cell_type": "code",
   "execution_count": 50,
   "id": "72fca4ff-b44e-4333-817f-940d474ab110",
   "metadata": {},
   "outputs": [
    {
     "data": {
      "text/plain": [
       "100"
      ]
     },
     "execution_count": 50,
     "metadata": {},
     "output_type": "execute_result"
    }
   ],
   "source": [
    "a"
   ]
  },
  {
   "cell_type": "markdown",
   "id": "83afe2d2-b274-4aa0-a32f-77292bfe3707",
   "metadata": {},
   "source": [
    "# Logical operator"
   ]
  },
  {
   "cell_type": "code",
   "execution_count": 52,
   "id": "6cc40d77-61c1-4a0a-8fea-12acc1502869",
   "metadata": {},
   "outputs": [],
   "source": [
    "# and, or, not"
   ]
  },
  {
   "cell_type": "code",
   "execution_count": 53,
   "id": "26900c17-a3cd-4365-91fe-50551a70fff9",
   "metadata": {},
   "outputs": [
    {
     "data": {
      "text/plain": [
       "True"
      ]
     },
     "execution_count": 53,
     "metadata": {},
     "output_type": "execute_result"
    }
   ],
   "source": [
    "2==2"
   ]
  },
  {
   "cell_type": "code",
   "execution_count": 54,
   "id": "f4f8a775-a8bf-400a-bffa-27aac1b97207",
   "metadata": {},
   "outputs": [
    {
     "data": {
      "text/plain": [
       "True"
      ]
     },
     "execution_count": 54,
     "metadata": {},
     "output_type": "execute_result"
    }
   ],
   "source": [
    "3==3"
   ]
  },
  {
   "cell_type": "code",
   "execution_count": 56,
   "id": "373c4b6f-75d0-455a-a435-e9f0e8ec831d",
   "metadata": {},
   "outputs": [
    {
     "data": {
      "text/plain": [
       "True"
      ]
     },
     "execution_count": 56,
     "metadata": {},
     "output_type": "execute_result"
    }
   ],
   "source": [
    "2==2 and 3==3"
   ]
  },
  {
   "cell_type": "code",
   "execution_count": 57,
   "id": "6cce808f-02a7-49a6-b110-12ebad0f4484",
   "metadata": {},
   "outputs": [
    {
     "data": {
      "text/plain": [
       "False"
      ]
     },
     "execution_count": 57,
     "metadata": {},
     "output_type": "execute_result"
    }
   ],
   "source": [
    "2!=2 and 3==3"
   ]
  },
  {
   "cell_type": "code",
   "execution_count": 58,
   "id": "48e44009-5252-48c4-bbc2-e51d55832fe6",
   "metadata": {},
   "outputs": [
    {
     "data": {
      "text/plain": [
       "False"
      ]
     },
     "execution_count": 58,
     "metadata": {},
     "output_type": "execute_result"
    }
   ],
   "source": [
    "2==2 and 3!=3"
   ]
  },
  {
   "cell_type": "code",
   "execution_count": 59,
   "id": "e11ac6e8-2250-487b-bdc1-7a1d65e8973e",
   "metadata": {},
   "outputs": [
    {
     "data": {
      "text/plain": [
       "False"
      ]
     },
     "execution_count": 59,
     "metadata": {},
     "output_type": "execute_result"
    }
   ],
   "source": [
    "2!=2 and 3!=3"
   ]
  },
  {
   "cell_type": "code",
   "execution_count": 60,
   "id": "4a914fe9-0d32-4eff-bf60-4a14b3caa617",
   "metadata": {},
   "outputs": [
    {
     "data": {
      "text/plain": [
       "True"
      ]
     },
     "execution_count": 60,
     "metadata": {},
     "output_type": "execute_result"
    }
   ],
   "source": [
    "2==2 or 3==3   # t or t=t"
   ]
  },
  {
   "cell_type": "code",
   "execution_count": 61,
   "id": "9ef32059-a6df-4593-ae1f-671bcafee4ee",
   "metadata": {},
   "outputs": [
    {
     "data": {
      "text/plain": [
       "True"
      ]
     },
     "execution_count": 61,
     "metadata": {},
     "output_type": "execute_result"
    }
   ],
   "source": [
    "2!=2 or 3==3   # f or t=t"
   ]
  },
  {
   "cell_type": "code",
   "execution_count": 63,
   "id": "775bb4a7-9322-4d92-930c-b6317404f4ff",
   "metadata": {},
   "outputs": [
    {
     "data": {
      "text/plain": [
       "True"
      ]
     },
     "execution_count": 63,
     "metadata": {},
     "output_type": "execute_result"
    }
   ],
   "source": [
    "2==2 or 3!=3   # t or f=t"
   ]
  },
  {
   "cell_type": "code",
   "execution_count": 64,
   "id": "eee7c630-8404-47a3-8b94-c3fa4573c048",
   "metadata": {},
   "outputs": [
    {
     "data": {
      "text/plain": [
       "False"
      ]
     },
     "execution_count": 64,
     "metadata": {},
     "output_type": "execute_result"
    }
   ],
   "source": [
    "2!=2 or 3!=3   # f or f=f"
   ]
  },
  {
   "cell_type": "code",
   "execution_count": 65,
   "id": "554f5656-1ab3-478e-a6b7-dfd937d17b46",
   "metadata": {},
   "outputs": [
    {
     "data": {
      "text/plain": [
       "True"
      ]
     },
     "execution_count": 65,
     "metadata": {},
     "output_type": "execute_result"
    }
   ],
   "source": [
    "not(2!=2 or 3!=3)   # not(f or f)=f"
   ]
  },
  {
   "cell_type": "code",
   "execution_count": 66,
   "id": "ce6cf453-a862-4727-ac5d-7f6f25dc4e2d",
   "metadata": {},
   "outputs": [
    {
     "data": {
      "text/plain": [
       "True"
      ]
     },
     "execution_count": 66,
     "metadata": {},
     "output_type": "execute_result"
    }
   ],
   "source": [
    "2!=2 or not 3!=3   # f or f=f"
   ]
  },
  {
   "cell_type": "code",
   "execution_count": 68,
   "id": "5a2e28d6-1363-4d98-b72b-e9b70302fb49",
   "metadata": {},
   "outputs": [
    {
     "data": {
      "text/plain": [
       "True"
      ]
     },
     "execution_count": 68,
     "metadata": {},
     "output_type": "execute_result"
    }
   ],
   "source": [
    "not 2!=2 and not 3!=3"
   ]
  },
  {
   "cell_type": "code",
   "execution_count": 69,
   "id": "2b1c36d7-9957-46ae-8cc3-c295685bc255",
   "metadata": {},
   "outputs": [
    {
     "data": {
      "text/plain": [
       "True"
      ]
     },
     "execution_count": 69,
     "metadata": {},
     "output_type": "execute_result"
    }
   ],
   "source": [
    "not (2!=2 and 3!=3)"
   ]
  },
  {
   "cell_type": "markdown",
   "id": "152e5987-af75-4e3d-9c51-0308df7b9b5f",
   "metadata": {},
   "source": [
    "# membership operator\n",
    "\n",
    "in, not in"
   ]
  },
  {
   "cell_type": "code",
   "execution_count": 71,
   "id": "e8d55181-2dab-4ef8-bb6c-1233085adc34",
   "metadata": {},
   "outputs": [],
   "source": [
    "a=[1,2,3,4,5,6]"
   ]
  },
  {
   "cell_type": "code",
   "execution_count": 72,
   "id": "1e16c06b-5c5c-4644-ae8d-017daba4f14e",
   "metadata": {},
   "outputs": [
    {
     "data": {
      "text/plain": [
       "True"
      ]
     },
     "execution_count": 72,
     "metadata": {},
     "output_type": "execute_result"
    }
   ],
   "source": [
    "1 in a"
   ]
  },
  {
   "cell_type": "code",
   "execution_count": 75,
   "id": "51fafe2f-7902-4603-b3bd-93652663404f",
   "metadata": {},
   "outputs": [
    {
     "data": {
      "text/plain": [
       "False"
      ]
     },
     "execution_count": 75,
     "metadata": {},
     "output_type": "execute_result"
    }
   ],
   "source": [
    "a=[[1],2,3,4,5,6]\n",
    "\n",
    "1 in a"
   ]
  },
  {
   "cell_type": "code",
   "execution_count": 76,
   "id": "bc98b243-f563-4377-9e67-1864eb75f0c0",
   "metadata": {},
   "outputs": [
    {
     "data": {
      "text/plain": [
       "True"
      ]
     },
     "execution_count": 76,
     "metadata": {},
     "output_type": "execute_result"
    }
   ],
   "source": [
    "a=[[1],2,3,4,5,6]\n",
    "\n",
    "[1] in a"
   ]
  },
  {
   "cell_type": "code",
   "execution_count": 77,
   "id": "a0e0f991-c102-4134-8ed4-f30a51d67437",
   "metadata": {},
   "outputs": [
    {
     "data": {
      "text/plain": [
       "True"
      ]
     },
     "execution_count": 77,
     "metadata": {},
     "output_type": "execute_result"
    }
   ],
   "source": [
    "a=[[1],2,3,4,5,6]\n",
    "\n",
    "1 not in a"
   ]
  },
  {
   "cell_type": "code",
   "execution_count": 78,
   "id": "576bccf8-635e-4d67-81a8-bf47ac6655fd",
   "metadata": {},
   "outputs": [],
   "source": [
    "# Identity operator\n",
    "\n",
    "is, is not"
   ]
  },
  {
   "cell_type": "code",
   "execution_count": null,
   "id": "21cba1dd-ce2c-4c7e-81dc-1c5b31bcae62",
   "metadata": {},
   "outputs": [],
   "source": []
  }
 ],
 "metadata": {
  "kernelspec": {
   "display_name": "Python 3 (ipykernel)",
   "language": "python",
   "name": "python3"
  },
  "language_info": {
   "codemirror_mode": {
    "name": "ipython",
    "version": 3
   },
   "file_extension": ".py",
   "mimetype": "text/x-python",
   "name": "python",
   "nbconvert_exporter": "python",
   "pygments_lexer": "ipython3",
   "version": "3.12.0"
  }
 },
 "nbformat": 4,
 "nbformat_minor": 5
}
