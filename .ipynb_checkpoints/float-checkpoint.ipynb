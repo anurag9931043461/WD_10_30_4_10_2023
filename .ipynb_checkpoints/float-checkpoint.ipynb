{
 "cells": [
  {
   "cell_type": "markdown",
   "id": "0468ffc9-080b-429c-92d2-1d3365d2d4bd",
   "metadata": {},
   "source": [
    "# float datatype\n",
    "\n",
    "> float constructor is float()\n",
    "\n",
    "> float literal is 0.0\n",
    "\n",
    "> to store decimal value or point values, we can go with float datatype."
   ]
  },
  {
   "cell_type": "code",
   "execution_count": 2,
   "id": "094fa574-a021-4d8c-8792-698d0e865ba2",
   "metadata": {
    "tags": []
   },
   "outputs": [
    {
     "name": "stdout",
     "output_type": "stream",
     "text": [
      "0.0\n"
     ]
    }
   ],
   "source": [
    "a=float()         #creating empty float using float constructor\n",
    "\n",
    "print(a)"
   ]
  },
  {
   "cell_type": "code",
   "execution_count": 3,
   "id": "684da62f-9b31-4a9e-b968-45d362e69db6",
   "metadata": {
    "tags": []
   },
   "outputs": [
    {
     "name": "stdout",
     "output_type": "stream",
     "text": [
      "0.0\n"
     ]
    }
   ],
   "source": [
    "b=0.0      # createing empty float using float literal\n",
    "print(b)"
   ]
  },
  {
   "cell_type": "code",
   "execution_count": 4,
   "id": "845a1e09-6210-4b8c-8bc9-f0154a547c56",
   "metadata": {
    "tags": []
   },
   "outputs": [
    {
     "name": "stdout",
     "output_type": "stream",
     "text": [
      "<class 'float'>\n"
     ]
    }
   ],
   "source": [
    "print(type(b))"
   ]
  },
  {
   "cell_type": "code",
   "execution_count": 5,
   "id": "52f24df2-8d11-4c0a-84d9-b9a39d440cf1",
   "metadata": {
    "tags": []
   },
   "outputs": [
    {
     "name": "stdout",
     "output_type": "stream",
     "text": [
      "20000000000.0\n"
     ]
    }
   ],
   "source": [
    "a=2e10\n",
    "print(a)"
   ]
  },
  {
   "cell_type": "code",
   "execution_count": 7,
   "id": "496b0847-32d2-4c57-92b3-6c16e7810c5a",
   "metadata": {
    "tags": []
   },
   "outputs": [
    {
     "data": {
      "text/plain": [
       "20000000000"
      ]
     },
     "execution_count": 7,
     "metadata": {},
     "output_type": "execute_result"
    }
   ],
   "source": [
    "2*10**10"
   ]
  },
  {
   "cell_type": "code",
   "execution_count": 14,
   "id": "ded74d15-993b-4fbe-907a-9a8af495f796",
   "metadata": {
    "tags": []
   },
   "outputs": [
    {
     "data": {
      "text/plain": [
       "1000000000000000.0"
      ]
     },
     "execution_count": 14,
     "metadata": {},
     "output_type": "execute_result"
    }
   ],
   "source": [
    "10e14"
   ]
  },
  {
   "cell_type": "code",
   "execution_count": 21,
   "id": "0b0b3052-f1cd-44ec-8035-11f76a0e746f",
   "metadata": {
    "tags": []
   },
   "outputs": [
    {
     "data": {
      "text/plain": [
       "140.0"
      ]
     },
     "execution_count": 21,
     "metadata": {},
     "output_type": "execute_result"
    }
   ],
   "source": [
    "14e1"
   ]
  },
  {
   "cell_type": "code",
   "execution_count": 19,
   "id": "01447186-aecc-4f05-b2e9-f0d8f4006232",
   "metadata": {
    "tags": []
   },
   "outputs": [
    {
     "data": {
      "text/plain": [
       "10"
      ]
     },
     "execution_count": 19,
     "metadata": {},
     "output_type": "execute_result"
    }
   ],
   "source": [
    "e10"
   ]
  },
  {
   "cell_type": "code",
   "execution_count": null,
   "id": "56699d1d-79cf-4e98-982c-ae1651e3cafb",
   "metadata": {},
   "outputs": [],
   "source": []
  }
 ],
 "metadata": {
  "kernelspec": {
   "display_name": "Python 3 (ipykernel)",
   "language": "python",
   "name": "python3"
  },
  "language_info": {
   "codemirror_mode": {
    "name": "ipython",
    "version": 3
   },
   "file_extension": ".py",
   "mimetype": "text/x-python",
   "name": "python",
   "nbconvert_exporter": "python",
   "pygments_lexer": "ipython3",
   "version": "3.11.5"
  }
 },
 "nbformat": 4,
 "nbformat_minor": 5
}
