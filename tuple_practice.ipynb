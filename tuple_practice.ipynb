{
 "cells": [
  {
   "cell_type": "markdown",
   "id": "89632408-f4a2-4ce4-a298-8ca933d34eb3",
   "metadata": {},
   "source": [
    "# tuple datatype\n",
    "\n",
    "> tuple constructor is tuple()\n",
    "\n",
    "> tuple literal is ()\n",
    "\n",
    "> tuple is a set of sequence of elements\n",
    "\n",
    "> tuple is immutable(hashable)\n",
    "\n",
    "> tuple support indexing\n",
    "\n",
    "> tuple support slicing \n",
    "\n",
    "> tuple support nested tuple\n",
    "\n",
    "> tuple support concatination\n",
    "\n",
    "> Packing and unpacking\n",
    "\n",
    "> tuple methods index(), count()"
   ]
  },
  {
   "cell_type": "code",
   "execution_count": 1,
   "id": "35294c44-6e88-4c12-ad92-228696bc8f03",
   "metadata": {},
   "outputs": [],
   "source": [
    "a=tuple()"
   ]
  },
  {
   "cell_type": "code",
   "execution_count": 2,
   "id": "7eb817bd-b09d-4158-8797-2d8c68e0899a",
   "metadata": {},
   "outputs": [
    {
     "name": "stdout",
     "output_type": "stream",
     "text": [
      "()\n"
     ]
    }
   ],
   "source": [
    "print(a)"
   ]
  },
  {
   "cell_type": "code",
   "execution_count": 8,
   "id": "071beac1-8257-4a33-b519-332f6365fb5b",
   "metadata": {},
   "outputs": [
    {
     "name": "stdout",
     "output_type": "stream",
     "text": [
      "()\n",
      "0\n",
      "<class 'tuple'>\n",
      "140723446212280\n"
     ]
    }
   ],
   "source": [
    "b=()\n",
    "print(b)\n",
    "print(len(b))\n",
    "print(type(b))\n",
    "print(id(b))"
   ]
  },
  {
   "cell_type": "code",
   "execution_count": 9,
   "id": "7ee16e93-54f7-4d36-a59a-cd75288703db",
   "metadata": {},
   "outputs": [],
   "source": [
    "import builtins"
   ]
  },
  {
   "cell_type": "code",
   "execution_count": 10,
   "id": "d52f864e-56c0-41d8-a349-6cbfe7932ef9",
   "metadata": {},
   "outputs": [
    {
     "name": "stdout",
     "output_type": "stream",
     "text": [
      "hello world\n"
     ]
    }
   ],
   "source": [
    "builtins.print(\"hello world\")"
   ]
  },
  {
   "cell_type": "code",
   "execution_count": 13,
   "id": "9d7ff100-ef9e-46a8-a0d7-e1ee26493c2d",
   "metadata": {},
   "outputs": [],
   "source": [
    "a=(1,2,3,4,5,6)"
   ]
  },
  {
   "cell_type": "code",
   "execution_count": 14,
   "id": "59b37dc1-9ac7-411b-a3db-03e0788976c8",
   "metadata": {},
   "outputs": [
    {
     "name": "stdout",
     "output_type": "stream",
     "text": [
      "(1, 2, 3, 4, 5, 6)\n"
     ]
    }
   ],
   "source": [
    "print(a)"
   ]
  },
  {
   "cell_type": "code",
   "execution_count": 15,
   "id": "1b09e3ed-dbf3-433c-af82-9909c59022a6",
   "metadata": {},
   "outputs": [
    {
     "name": "stdout",
     "output_type": "stream",
     "text": [
      "3\n"
     ]
    }
   ],
   "source": [
    "print(a[2])"
   ]
  },
  {
   "cell_type": "code",
   "execution_count": 16,
   "id": "ef5e3e88-3109-4bbc-bf93-d99b1597fec5",
   "metadata": {},
   "outputs": [
    {
     "data": {
      "text/plain": [
       "(2, 3, 4, 5)"
      ]
     },
     "execution_count": 16,
     "metadata": {},
     "output_type": "execute_result"
    }
   ],
   "source": [
    "a[1:5:1]"
   ]
  },
  {
   "cell_type": "code",
   "execution_count": 19,
   "id": "776b4033-1949-4b2b-9205-a96c5c2cb4be",
   "metadata": {},
   "outputs": [
    {
     "name": "stdout",
     "output_type": "stream",
     "text": [
      "(2, 4)\n",
      "Hello world\n"
     ]
    }
   ],
   "source": [
    "print(a[1:5:2])\n",
    "print(\"Hello world\")"
   ]
  },
  {
   "cell_type": "code",
   "execution_count": 22,
   "id": "40b54943-5713-4688-935c-9f5a41a7ceb3",
   "metadata": {},
   "outputs": [
    {
     "data": {
      "text/plain": [
       "()"
      ]
     },
     "execution_count": 22,
     "metadata": {},
     "output_type": "execute_result"
    }
   ],
   "source": [
    "a[1:4353452465243563456345634563456345:-5423523459809347590873248597239084759]"
   ]
  },
  {
   "cell_type": "code",
   "execution_count": 23,
   "id": "7284a654-672d-49e3-a759-16891a5b6547",
   "metadata": {},
   "outputs": [
    {
     "name": "stdout",
     "output_type": "stream",
     "text": [
      "(1, 2, 3, 4, 5, 6)\n"
     ]
    }
   ],
   "source": [
    "print(a)"
   ]
  },
  {
   "cell_type": "code",
   "execution_count": 24,
   "id": "14fddb04-85b1-405c-a6c6-89b1aa5ac773",
   "metadata": {},
   "outputs": [
    {
     "data": {
      "text/plain": [
       "(1, 2, 3, 4, 5, 6)"
      ]
     },
     "execution_count": 24,
     "metadata": {},
     "output_type": "execute_result"
    }
   ],
   "source": [
    "a[0:6]"
   ]
  },
  {
   "cell_type": "code",
   "execution_count": 25,
   "id": "e16732d8-8fac-484b-a6cb-507a0d4f742f",
   "metadata": {},
   "outputs": [
    {
     "data": {
      "text/plain": [
       "(1, 2, 3, 4, 5, 6)"
      ]
     },
     "execution_count": 25,
     "metadata": {},
     "output_type": "execute_result"
    }
   ],
   "source": [
    "a"
   ]
  },
  {
   "cell_type": "code",
   "execution_count": 26,
   "id": "176fdd66-794a-40ef-b39e-def46dd8b5af",
   "metadata": {},
   "outputs": [
    {
     "data": {
      "text/plain": [
       "(1, 2, 3, 4, 5, 6)"
      ]
     },
     "execution_count": 26,
     "metadata": {},
     "output_type": "execute_result"
    }
   ],
   "source": [
    "a[0:6:1]"
   ]
  },
  {
   "cell_type": "code",
   "execution_count": 27,
   "id": "bd3d4a75-56be-4ad3-b600-0584bc17b845",
   "metadata": {},
   "outputs": [
    {
     "data": {
      "text/plain": [
       "(1, 2, 3, 4, 5, 6)"
      ]
     },
     "execution_count": 27,
     "metadata": {},
     "output_type": "execute_result"
    }
   ],
   "source": [
    "a[0::1]"
   ]
  },
  {
   "cell_type": "code",
   "execution_count": 28,
   "id": "53cbcfb6-7e99-4e36-a3ff-480d52affde7",
   "metadata": {},
   "outputs": [
    {
     "data": {
      "text/plain": [
       "(1, 2, 3, 4, 5, 6)"
      ]
     },
     "execution_count": 28,
     "metadata": {},
     "output_type": "execute_result"
    }
   ],
   "source": [
    "a[::1]"
   ]
  },
  {
   "cell_type": "code",
   "execution_count": 29,
   "id": "ffaa879d-8d26-4e2b-8bc7-951ccad97aca",
   "metadata": {},
   "outputs": [
    {
     "data": {
      "text/plain": [
       "(1, 2, 3, 4, 5, 6)"
      ]
     },
     "execution_count": 29,
     "metadata": {},
     "output_type": "execute_result"
    }
   ],
   "source": [
    "a[:]"
   ]
  },
  {
   "cell_type": "code",
   "execution_count": 30,
   "id": "729f731b-e406-4250-b12f-e5fc52494f7f",
   "metadata": {},
   "outputs": [
    {
     "data": {
      "text/plain": [
       "(1, 2, 3, 4, 5, 6)"
      ]
     },
     "execution_count": 30,
     "metadata": {},
     "output_type": "execute_result"
    }
   ],
   "source": [
    "a[::]"
   ]
  },
  {
   "cell_type": "code",
   "execution_count": 32,
   "id": "08231488-9e6d-4310-be02-4fd0d85c6342",
   "metadata": {},
   "outputs": [
    {
     "data": {
      "text/plain": [
       "(6, 5, 4, 3, 2, 1)"
      ]
     },
     "execution_count": 32,
     "metadata": {},
     "output_type": "execute_result"
    }
   ],
   "source": [
    "a[-1:-7:-1]"
   ]
  },
  {
   "cell_type": "code",
   "execution_count": 33,
   "id": "b09bd867-dcef-4d18-adaf-6ad3d0340a0a",
   "metadata": {},
   "outputs": [
    {
     "data": {
      "text/plain": [
       "(6, 5, 4, 3, 2, 1)"
      ]
     },
     "execution_count": 33,
     "metadata": {},
     "output_type": "execute_result"
    }
   ],
   "source": [
    "a[-1::-1]"
   ]
  },
  {
   "cell_type": "code",
   "execution_count": 34,
   "id": "d9bf3092-23a1-4386-85b1-2a6a608d5e96",
   "metadata": {},
   "outputs": [
    {
     "data": {
      "text/plain": [
       "(6, 5, 4, 3, 2, 1)"
      ]
     },
     "execution_count": 34,
     "metadata": {},
     "output_type": "execute_result"
    }
   ],
   "source": [
    "a[::-1]"
   ]
  },
  {
   "cell_type": "code",
   "execution_count": 35,
   "id": "e905c435-005d-46a9-98ef-71b645ae90ac",
   "metadata": {},
   "outputs": [],
   "source": [
    "a=(1,2,3,(2,3,4,5),32)"
   ]
  },
  {
   "cell_type": "code",
   "execution_count": 36,
   "id": "6ca66dbd-f423-4f59-8885-358c966f7950",
   "metadata": {},
   "outputs": [
    {
     "data": {
      "text/plain": [
       "5"
      ]
     },
     "execution_count": 36,
     "metadata": {},
     "output_type": "execute_result"
    }
   ],
   "source": [
    "len(a)"
   ]
  },
  {
   "cell_type": "code",
   "execution_count": 39,
   "id": "7df2a267-6568-4e1f-95a7-4956eaca23aa",
   "metadata": {},
   "outputs": [
    {
     "data": {
      "text/plain": [
       "(2, 3, 4, 5)"
      ]
     },
     "execution_count": 39,
     "metadata": {},
     "output_type": "execute_result"
    }
   ],
   "source": [
    "b=a[3]\n",
    "b"
   ]
  },
  {
   "cell_type": "code",
   "execution_count": 41,
   "id": "db9f7bc6-7d36-4a78-b64a-41bed5b16320",
   "metadata": {},
   "outputs": [
    {
     "data": {
      "text/plain": [
       "4"
      ]
     },
     "execution_count": 41,
     "metadata": {},
     "output_type": "execute_result"
    }
   ],
   "source": [
    "a[3][2]"
   ]
  },
  {
   "cell_type": "code",
   "execution_count": 42,
   "id": "926ae85c-caf4-45d6-b75c-b7ffbdc42580",
   "metadata": {},
   "outputs": [],
   "source": [
    "a=(1,2,3)\n",
    "b=(2,3,4)"
   ]
  },
  {
   "cell_type": "code",
   "execution_count": 43,
   "id": "bb99beb2-cdc5-44e7-ba4e-9b7335ea970b",
   "metadata": {},
   "outputs": [
    {
     "name": "stdout",
     "output_type": "stream",
     "text": [
      "(1, 2, 3, 2, 3, 4)\n"
     ]
    }
   ],
   "source": [
    "print(a+b)"
   ]
  },
  {
   "cell_type": "code",
   "execution_count": 44,
   "id": "4cd1ec83-637a-4a40-bcb9-453f80ce1614",
   "metadata": {},
   "outputs": [
    {
     "name": "stdout",
     "output_type": "stream",
     "text": [
      "(1, 2, 3, 4, 5)\n"
     ]
    }
   ],
   "source": [
    "a=1,2,3,4,5\n",
    "print(a)"
   ]
  },
  {
   "cell_type": "code",
   "execution_count": 45,
   "id": "2257840f-778b-4307-bf0e-017a56b7a149",
   "metadata": {},
   "outputs": [],
   "source": [
    "k,l,m,n,o=a"
   ]
  },
  {
   "cell_type": "code",
   "execution_count": 46,
   "id": "fb2edf99-0676-431d-8e35-0dc76ab9b4a3",
   "metadata": {},
   "outputs": [
    {
     "name": "stdout",
     "output_type": "stream",
     "text": [
      "1\n"
     ]
    }
   ],
   "source": [
    "print(k)"
   ]
  },
  {
   "cell_type": "code",
   "execution_count": 47,
   "id": "2c74af09-6595-474d-b65d-cab400dfff35",
   "metadata": {},
   "outputs": [
    {
     "name": "stdout",
     "output_type": "stream",
     "text": [
      "2\n"
     ]
    }
   ],
   "source": [
    "print(l)"
   ]
  },
  {
   "cell_type": "code",
   "execution_count": 48,
   "id": "676b3c9e-3fb0-40e1-8175-26efc4241b87",
   "metadata": {},
   "outputs": [
    {
     "name": "stdout",
     "output_type": "stream",
     "text": [
      "3\n"
     ]
    }
   ],
   "source": [
    "print(m)"
   ]
  },
  {
   "cell_type": "code",
   "execution_count": 49,
   "id": "0c0d84c3-566e-47a2-a726-dac84e0f7478",
   "metadata": {},
   "outputs": [
    {
     "name": "stdout",
     "output_type": "stream",
     "text": [
      "4\n"
     ]
    }
   ],
   "source": [
    "print(n)"
   ]
  },
  {
   "cell_type": "code",
   "execution_count": 50,
   "id": "2cbf3959-1d62-4bcf-806b-95c9754f5655",
   "metadata": {},
   "outputs": [
    {
     "name": "stdout",
     "output_type": "stream",
     "text": [
      "5\n"
     ]
    }
   ],
   "source": [
    "print(o)"
   ]
  },
  {
   "cell_type": "code",
   "execution_count": 53,
   "id": "a7e6e9d6-16cd-467e-b005-f95fcc55cbe8",
   "metadata": {},
   "outputs": [],
   "source": [
    "m,*n,o=(1,2,3,4,5,6)"
   ]
  },
  {
   "cell_type": "code",
   "execution_count": 54,
   "id": "fc8a9bfa-4491-4850-b9a5-427e341a0700",
   "metadata": {},
   "outputs": [
    {
     "name": "stdout",
     "output_type": "stream",
     "text": [
      "1\n"
     ]
    }
   ],
   "source": [
    "print(m)"
   ]
  },
  {
   "cell_type": "code",
   "execution_count": 55,
   "id": "efae40a8-29b3-4b52-a6ec-35fe07815eb6",
   "metadata": {},
   "outputs": [
    {
     "name": "stdout",
     "output_type": "stream",
     "text": [
      "[2, 3, 4, 5]\n"
     ]
    }
   ],
   "source": [
    "print(n)"
   ]
  },
  {
   "cell_type": "code",
   "execution_count": 56,
   "id": "96e24ab6-e891-410e-8d3a-0af03b71f5c6",
   "metadata": {},
   "outputs": [
    {
     "name": "stdout",
     "output_type": "stream",
     "text": [
      "6\n"
     ]
    }
   ],
   "source": [
    "print(o)"
   ]
  },
  {
   "cell_type": "code",
   "execution_count": 58,
   "id": "28acddde-b978-48e2-a6b7-bbe9f59865b7",
   "metadata": {},
   "outputs": [],
   "source": [
    "m,n,*o=(1,2,3,4,5,6)"
   ]
  },
  {
   "cell_type": "code",
   "execution_count": null,
   "id": "1d50dfb5-0c40-413f-9806-6966ffd50f43",
   "metadata": {},
   "outputs": [],
   "source": []
  }
 ],
 "metadata": {
  "kernelspec": {
   "display_name": "Python 3 (ipykernel)",
   "language": "python",
   "name": "python3"
  },
  "language_info": {
   "codemirror_mode": {
    "name": "ipython",
    "version": 3
   },
   "file_extension": ".py",
   "mimetype": "text/x-python",
   "name": "python",
   "nbconvert_exporter": "python",
   "pygments_lexer": "ipython3",
   "version": "3.12.0"
  }
 },
 "nbformat": 4,
 "nbformat_minor": 5
}
