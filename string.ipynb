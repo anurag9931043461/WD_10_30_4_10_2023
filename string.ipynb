{
 "cells": [
  {
   "cell_type": "markdown",
   "id": "b3fb4426-77f3-4137-9e88-e7bf733a3571",
   "metadata": {},
   "source": [
    "# string datatype:\n",
    "\n",
    "> string constructor is str()\n",
    "\n",
    "> string literal are '', \"\",\"\"\"\"\"\",''''''\n",
    "\n",
    "> string is a set of sequence of character(s).\n",
    "\n",
    "> string is immutable(unhasable)\n",
    "\n",
    "> string support indexing \n",
    "\n",
    "> string support slicing \n",
    "\n",
    "> string support concatination\n",
    "\n",
    "> string contain approx 1.5 lakh character including unicode character like emojis :)\n",
    "\n",
    "> string in python is case sensitive like variable\n",
    "\n",
    "> string methods.\n"
   ]
  },
  {
   "cell_type": "code",
   "execution_count": 1,
   "id": "178f2108-4824-45b2-8bd2-0f40847dea89",
   "metadata": {},
   "outputs": [
    {
     "name": "stdout",
     "output_type": "stream",
     "text": [
      "\n"
     ]
    }
   ],
   "source": [
    "a=str()\n",
    "print(a)"
   ]
  },
  {
   "cell_type": "code",
   "execution_count": 2,
   "id": "70f91d36-99f3-46f5-a8be-cfd74f41720f",
   "metadata": {},
   "outputs": [
    {
     "data": {
      "text/plain": [
       "''"
      ]
     },
     "execution_count": 2,
     "metadata": {},
     "output_type": "execute_result"
    }
   ],
   "source": [
    "a=str()\n",
    "a"
   ]
  },
  {
   "cell_type": "code",
   "execution_count": 19,
   "id": "846b023d-17c2-4ab7-b5ad-796f248c83b4",
   "metadata": {},
   "outputs": [
    {
     "name": "stdout",
     "output_type": "stream",
     "text": [
      "hello world\n",
      "hello world\n"
     ]
    }
   ],
   "source": [
    "print(\"hello world\")\n",
    "print('hello world')"
   ]
  },
  {
   "cell_type": "code",
   "execution_count": 17,
   "id": "f35dc951-93cf-44a5-828e-9396920256d4",
   "metadata": {},
   "outputs": [
    {
     "name": "stdout",
     "output_type": "stream",
     "text": [
      "Mai praveen hu \n",
      "Mai apne jindagi se dhukhi ho chala hu \n",
      "\n",
      "    Mai marne ja raha hu \n",
      "        Rip Praveen\n",
      "Mai praveen hu \n",
      "Mai apne jindagi se dhukhi ho chala hu \n",
      "\n",
      "    Mai marne ja raha hu \n",
      "        Rip Praveen\n"
     ]
    }
   ],
   "source": [
    "print(\"\"\"Mai praveen hu \n",
    "Mai apne jindagi se dhukhi ho chala hu \n",
    "\n",
    "    Mai marne ja raha hu \n",
    "        Rip Praveen\"\"\")\n",
    "print('''Mai praveen hu \n",
    "Mai apne jindagi se dhukhi ho chala hu \n",
    "\n",
    "    Mai marne ja raha hu \n",
    "        Rip Praveen''')"
   ]
  },
  {
   "cell_type": "code",
   "execution_count": 20,
   "id": "ccdf8fc3-358d-478b-b1ff-b3ce47a84f3b",
   "metadata": {},
   "outputs": [],
   "source": [
    "a=\"KOMAL\""
   ]
  },
  {
   "cell_type": "code",
   "execution_count": 21,
   "id": "90aa2678-cd66-4917-8a74-1cc589f97277",
   "metadata": {},
   "outputs": [
    {
     "name": "stdout",
     "output_type": "stream",
     "text": [
      "KOMAL\n"
     ]
    }
   ],
   "source": [
    "print(a)"
   ]
  },
  {
   "cell_type": "code",
   "execution_count": 22,
   "id": "f26aca78-b666-4b08-8902-ca4b8237e10b",
   "metadata": {},
   "outputs": [
    {
     "data": {
      "text/plain": [
       "'K'"
      ]
     },
     "execution_count": 22,
     "metadata": {},
     "output_type": "execute_result"
    }
   ],
   "source": [
    "a[0]"
   ]
  },
  {
   "cell_type": "code",
   "execution_count": 23,
   "id": "b56573fc-aefe-44a1-9a09-d9c9255d6845",
   "metadata": {},
   "outputs": [
    {
     "data": {
      "text/plain": [
       "'K'"
      ]
     },
     "execution_count": 23,
     "metadata": {},
     "output_type": "execute_result"
    }
   ],
   "source": [
    "a[-5]"
   ]
  },
  {
   "cell_type": "code",
   "execution_count": 24,
   "id": "cf4256d6-57ba-4fac-b88c-dbdd6d89a3b6",
   "metadata": {},
   "outputs": [
    {
     "data": {
      "text/plain": [
       "'O'"
      ]
     },
     "execution_count": 24,
     "metadata": {},
     "output_type": "execute_result"
    }
   ],
   "source": [
    "a[1]"
   ]
  },
  {
   "cell_type": "code",
   "execution_count": 25,
   "id": "6c764d83-e7b1-4f9c-aad4-1e42704945db",
   "metadata": {},
   "outputs": [
    {
     "data": {
      "text/plain": [
       "'O'"
      ]
     },
     "execution_count": 25,
     "metadata": {},
     "output_type": "execute_result"
    }
   ],
   "source": [
    "a[-4]"
   ]
  },
  {
   "cell_type": "code",
   "execution_count": 26,
   "id": "71b071f8-1439-4b9a-a74e-4446e7a0f640",
   "metadata": {},
   "outputs": [
    {
     "name": "stdout",
     "output_type": "stream",
     "text": [
      "KOMAL\n"
     ]
    }
   ],
   "source": [
    "print(a)"
   ]
  },
  {
   "cell_type": "code",
   "execution_count": 27,
   "id": "d0e22ece-78e1-44d6-9891-18286acacca7",
   "metadata": {},
   "outputs": [
    {
     "data": {
      "text/plain": [
       "'O'"
      ]
     },
     "execution_count": 27,
     "metadata": {},
     "output_type": "execute_result"
    }
   ],
   "source": [
    "a[1:2]"
   ]
  },
  {
   "cell_type": "code",
   "execution_count": 28,
   "id": "a2751acc-8847-4528-a9a2-cdc9cb7e5d4d",
   "metadata": {},
   "outputs": [
    {
     "data": {
      "text/plain": [
       "'OM'"
      ]
     },
     "execution_count": 28,
     "metadata": {},
     "output_type": "execute_result"
    }
   ],
   "source": [
    "a[1:3]"
   ]
  },
  {
   "cell_type": "code",
   "execution_count": 29,
   "id": "9c29df83-d789-490e-96d5-7fe810846c1a",
   "metadata": {},
   "outputs": [
    {
     "data": {
      "text/plain": [
       "'OMAL'"
      ]
     },
     "execution_count": 29,
     "metadata": {},
     "output_type": "execute_result"
    }
   ],
   "source": [
    "a[1:453456456456456]"
   ]
  },
  {
   "cell_type": "code",
   "execution_count": 32,
   "id": "a868958b-f12a-468f-bdf6-be92cfbfdaa8",
   "metadata": {},
   "outputs": [
    {
     "data": {
      "text/plain": [
       "'K'"
      ]
     },
     "execution_count": 32,
     "metadata": {},
     "output_type": "execute_result"
    }
   ],
   "source": [
    "a[-324234234:34234234234:12312432543]"
   ]
  },
  {
   "cell_type": "code",
   "execution_count": 35,
   "id": "4a2f6098-fe29-434e-8568-10ae0c111b81",
   "metadata": {},
   "outputs": [
    {
     "data": {
      "text/plain": [
       "'OA'"
      ]
     },
     "execution_count": 35,
     "metadata": {},
     "output_type": "execute_result"
    }
   ],
   "source": [
    "a[1:4:2]"
   ]
  },
  {
   "cell_type": "code",
   "execution_count": 1,
   "id": "24c04b87-486d-4187-aaf0-6224a55500f9",
   "metadata": {},
   "outputs": [],
   "source": [
    "a=\"KOMAL\""
   ]
  },
  {
   "cell_type": "code",
   "execution_count": 4,
   "id": "01c31859-4d2a-4a40-8011-254e58b5fe1f",
   "metadata": {},
   "outputs": [
    {
     "data": {
      "text/plain": [
       "'OA'"
      ]
     },
     "execution_count": 4,
     "metadata": {},
     "output_type": "execute_result"
    }
   ],
   "source": [
    "a[-4:4:2]"
   ]
  },
  {
   "cell_type": "code",
   "execution_count": 7,
   "id": "4db7a9a7-eef3-49df-afe6-cb24d3e99b0d",
   "metadata": {},
   "outputs": [
    {
     "data": {
      "text/plain": [
       "'LAMO'"
      ]
     },
     "execution_count": 7,
     "metadata": {},
     "output_type": "execute_result"
    }
   ],
   "source": [
    "a[-1:-5:-1]"
   ]
  },
  {
   "cell_type": "code",
   "execution_count": 8,
   "id": "6f010bec-df48-43b2-8957-15a046e0176c",
   "metadata": {},
   "outputs": [
    {
     "data": {
      "text/plain": [
       "''"
      ]
     },
     "execution_count": 8,
     "metadata": {},
     "output_type": "execute_result"
    }
   ],
   "source": [
    "a[4:0:1]"
   ]
  },
  {
   "cell_type": "code",
   "execution_count": 9,
   "id": "95caddb4-b287-4931-b587-41f22ec4b8fd",
   "metadata": {},
   "outputs": [
    {
     "data": {
      "text/plain": [
       "'LAMO'"
      ]
     },
     "execution_count": 9,
     "metadata": {},
     "output_type": "execute_result"
    }
   ],
   "source": [
    "a[4:0:-1]"
   ]
  },
  {
   "cell_type": "code",
   "execution_count": 10,
   "id": "0eca352f-4c14-45e5-b5e7-ff9db79eecb6",
   "metadata": {},
   "outputs": [
    {
     "data": {
      "text/plain": [
       "'LAMOK'"
      ]
     },
     "execution_count": 10,
     "metadata": {},
     "output_type": "execute_result"
    }
   ],
   "source": [
    "a[4::-1]"
   ]
  },
  {
   "cell_type": "code",
   "execution_count": 11,
   "id": "832c2e98-c456-4c0e-91da-640dfc541b4b",
   "metadata": {},
   "outputs": [
    {
     "data": {
      "text/plain": [
       "'LAMOK'"
      ]
     },
     "execution_count": 11,
     "metadata": {},
     "output_type": "execute_result"
    }
   ],
   "source": [
    "a[4:-6:-1]"
   ]
  },
  {
   "cell_type": "code",
   "execution_count": 12,
   "id": "62c6c042-432f-4e5a-9365-af21145822f4",
   "metadata": {},
   "outputs": [
    {
     "data": {
      "text/plain": [
       "'LAMOK'"
      ]
     },
     "execution_count": 12,
     "metadata": {},
     "output_type": "execute_result"
    }
   ],
   "source": [
    "a[::-1]"
   ]
  },
  {
   "cell_type": "code",
   "execution_count": 13,
   "id": "8c80a519-a7a9-49b2-882f-18e226e63b25",
   "metadata": {},
   "outputs": [
    {
     "data": {
      "text/plain": [
       "'KOMAL'"
      ]
     },
     "execution_count": 13,
     "metadata": {},
     "output_type": "execute_result"
    }
   ],
   "source": [
    "a[0:7:1]"
   ]
  },
  {
   "cell_type": "code",
   "execution_count": 14,
   "id": "b4c55759-3c46-484f-bb02-08c8bc766946",
   "metadata": {},
   "outputs": [
    {
     "data": {
      "text/plain": [
       "'KOMAL'"
      ]
     },
     "execution_count": 14,
     "metadata": {},
     "output_type": "execute_result"
    }
   ],
   "source": [
    "a[:7:1]"
   ]
  },
  {
   "cell_type": "code",
   "execution_count": 15,
   "id": "d6405f65-ec35-4814-9653-1a412762bb1d",
   "metadata": {},
   "outputs": [
    {
     "data": {
      "text/plain": [
       "'KOMAL'"
      ]
     },
     "execution_count": 15,
     "metadata": {},
     "output_type": "execute_result"
    }
   ],
   "source": [
    "a[::1]"
   ]
  },
  {
   "cell_type": "code",
   "execution_count": 16,
   "id": "e130979b-20c5-4dc3-a8d6-2305545cc126",
   "metadata": {},
   "outputs": [
    {
     "data": {
      "text/plain": [
       "'KOMAL'"
      ]
     },
     "execution_count": 16,
     "metadata": {},
     "output_type": "execute_result"
    }
   ],
   "source": [
    "a[:]"
   ]
  },
  {
   "cell_type": "code",
   "execution_count": 17,
   "id": "470f47d9-ada5-45d8-98e1-3ec32008403c",
   "metadata": {},
   "outputs": [
    {
     "data": {
      "text/plain": [
       "'LAMOK'"
      ]
     },
     "execution_count": 17,
     "metadata": {},
     "output_type": "execute_result"
    }
   ],
   "source": [
    "a[-1:-343:-1]"
   ]
  },
  {
   "cell_type": "code",
   "execution_count": 18,
   "id": "cf77b95e-dfbe-4ce2-8c9c-61ba3d38b1dc",
   "metadata": {},
   "outputs": [
    {
     "data": {
      "text/plain": [
       "'LAMOK'"
      ]
     },
     "execution_count": 18,
     "metadata": {},
     "output_type": "execute_result"
    }
   ],
   "source": [
    "a[-1::-1]"
   ]
  },
  {
   "cell_type": "code",
   "execution_count": 19,
   "id": "5261ab50-ab8d-41ff-8919-1d8479d05552",
   "metadata": {},
   "outputs": [
    {
     "data": {
      "text/plain": [
       "'LAMOK'"
      ]
     },
     "execution_count": 19,
     "metadata": {},
     "output_type": "execute_result"
    }
   ],
   "source": [
    "a[::-1]"
   ]
  },
  {
   "cell_type": "code",
   "execution_count": 21,
   "id": "55002cd2-577b-4fa1-8367-0a250d04792b",
   "metadata": {},
   "outputs": [
    {
     "data": {
      "text/plain": [
       "'LAMOK'"
      ]
     },
     "execution_count": 21,
     "metadata": {},
     "output_type": "execute_result"
    }
   ],
   "source": [
    "a[::-1]"
   ]
  },
  {
   "cell_type": "code",
   "execution_count": 22,
   "id": "cc886fb4-db86-4fda-b7f5-ea079493f94b",
   "metadata": {},
   "outputs": [],
   "source": [
    "a=\"krishna\"\n",
    "b=\"Kumar\""
   ]
  },
  {
   "cell_type": "code",
   "execution_count": 23,
   "id": "10e2d73e-b727-40de-889a-bab635071931",
   "metadata": {},
   "outputs": [
    {
     "name": "stdout",
     "output_type": "stream",
     "text": [
      "krishnaKumar\n"
     ]
    }
   ],
   "source": [
    "print(a+b)"
   ]
  },
  {
   "cell_type": "code",
   "execution_count": 24,
   "id": "f5234d38-cdc5-4b8a-a487-a1e889a26eb1",
   "metadata": {},
   "outputs": [
    {
     "name": "stdout",
     "output_type": "stream",
     "text": [
      "krishna\n"
     ]
    }
   ],
   "source": [
    "print(a)"
   ]
  },
  {
   "cell_type": "code",
   "execution_count": 25,
   "id": "e7ee969c-fa55-41aa-b6fd-f371eb7c8f6c",
   "metadata": {},
   "outputs": [
    {
     "name": "stdout",
     "output_type": "stream",
     "text": [
      "Kumar\n"
     ]
    }
   ],
   "source": [
    "print(b)"
   ]
  },
  {
   "cell_type": "code",
   "execution_count": 27,
   "id": "c27be250-2c59-47a5-b6d5-d12ac4ca6c21",
   "metadata": {},
   "outputs": [],
   "source": [
    "c=a+b"
   ]
  },
  {
   "cell_type": "code",
   "execution_count": 28,
   "id": "93556013-ba7d-42c9-9c18-75e57da7c0d7",
   "metadata": {},
   "outputs": [
    {
     "name": "stdout",
     "output_type": "stream",
     "text": [
      "krishnaKumar\n"
     ]
    }
   ],
   "source": [
    "print(c)"
   ]
  },
  {
   "cell_type": "code",
   "execution_count": 29,
   "id": "77c812d0-2dfd-4e58-8162-68e6a5001d61",
   "metadata": {},
   "outputs": [
    {
     "name": "stdout",
     "output_type": "stream",
     "text": [
      "krishna\n"
     ]
    }
   ],
   "source": [
    "print(a)"
   ]
  },
  {
   "cell_type": "code",
   "execution_count": 31,
   "id": "b118eb29-9189-4aa6-a8c5-524ea30b664b",
   "metadata": {},
   "outputs": [
    {
     "name": "stdout",
     "output_type": "stream",
     "text": [
      "Kumar\n"
     ]
    }
   ],
   "source": [
    "print(b)"
   ]
  },
  {
   "cell_type": "code",
   "execution_count": 33,
   "id": "03f8c9db-1213-4de3-8ed6-cefcfca5ad7d",
   "metadata": {},
   "outputs": [
    {
     "data": {
      "text/plain": [
       "'krishna10'"
      ]
     },
     "execution_count": 33,
     "metadata": {},
     "output_type": "execute_result"
    }
   ],
   "source": [
    "\"krishna\"+\"10\""
   ]
  },
  {
   "cell_type": "code",
   "execution_count": 40,
   "id": "f879af73-108e-4008-81f7-488bf7d79808",
   "metadata": {},
   "outputs": [],
   "source": [
    "a=\"krishna \""
   ]
  },
  {
   "cell_type": "code",
   "execution_count": 41,
   "id": "73f803d3-318c-4ca7-902a-39cefa840017",
   "metadata": {},
   "outputs": [],
   "source": [
    "b=\"Krishna\""
   ]
  },
  {
   "cell_type": "code",
   "execution_count": 42,
   "id": "44f30ac5-2f00-4571-8213-2f6c83e96400",
   "metadata": {},
   "outputs": [],
   "source": [
    "c=\"krishna\""
   ]
  },
  {
   "cell_type": "code",
   "execution_count": 43,
   "id": "0b5fcdbb-9719-4a5b-b42b-508bd4acfbc0",
   "metadata": {},
   "outputs": [
    {
     "data": {
      "text/plain": [
       "False"
      ]
     },
     "execution_count": 43,
     "metadata": {},
     "output_type": "execute_result"
    }
   ],
   "source": [
    "a==c"
   ]
  },
  {
   "cell_type": "code",
   "execution_count": 39,
   "id": "c48fffbe-5e41-4501-a6bd-a6cec90196aa",
   "metadata": {},
   "outputs": [
    {
     "data": {
      "text/plain": [
       "False"
      ]
     },
     "execution_count": 39,
     "metadata": {},
     "output_type": "execute_result"
    }
   ],
   "source": [
    "a==b"
   ]
  },
  {
   "cell_type": "code",
   "execution_count": 44,
   "id": "6252199d-6f73-4544-a311-328a32f2b652",
   "metadata": {},
   "outputs": [],
   "source": [
    "a=\"krishna\""
   ]
  },
  {
   "cell_type": "code",
   "execution_count": 45,
   "id": "86536672-63e3-4a70-99ae-217c07670ae4",
   "metadata": {},
   "outputs": [],
   "source": [
    "A=\"Kumar\""
   ]
  },
  {
   "cell_type": "code",
   "execution_count": 46,
   "id": "812e1475-b57d-40ff-8f43-75dadfcf08c4",
   "metadata": {},
   "outputs": [
    {
     "name": "stdout",
     "output_type": "stream",
     "text": [
      "krishna\n"
     ]
    }
   ],
   "source": [
    "print(a)"
   ]
  },
  {
   "cell_type": "code",
   "execution_count": 47,
   "id": "fd834005-5712-48f9-9743-369258bff9bf",
   "metadata": {},
   "outputs": [
    {
     "name": "stdout",
     "output_type": "stream",
     "text": [
      "Kumar\n"
     ]
    }
   ],
   "source": [
    "print(A)"
   ]
  },
  {
   "cell_type": "code",
   "execution_count": 49,
   "id": "01cfab07-31a3-4bbc-8203-bd8105621382",
   "metadata": {},
   "outputs": [],
   "source": [
    "# string methods"
   ]
  },
  {
   "cell_type": "code",
   "execution_count": 50,
   "id": "cc7474a5-44c9-4f0d-9112-e997e9f8949b",
   "metadata": {},
   "outputs": [],
   "source": [
    "a=\"Krishna\""
   ]
  },
  {
   "cell_type": "code",
   "execution_count": 51,
   "id": "0f1cfcb4-c452-406c-9c3f-d286e73d1c36",
   "metadata": {},
   "outputs": [
    {
     "name": "stdout",
     "output_type": "stream",
     "text": [
      "Krishna\n"
     ]
    }
   ],
   "source": [
    "print(a)"
   ]
  },
  {
   "cell_type": "code",
   "execution_count": 52,
   "id": "a5da60d1-0234-4b7a-a000-eeb52d5b9afe",
   "metadata": {},
   "outputs": [
    {
     "data": {
      "text/plain": [
       "'krishna'"
      ]
     },
     "execution_count": 52,
     "metadata": {},
     "output_type": "execute_result"
    }
   ],
   "source": [
    "a.casefold()"
   ]
  },
  {
   "cell_type": "code",
   "execution_count": 53,
   "id": "7b1e34ff-8510-4802-8ee1-40991c0944aa",
   "metadata": {},
   "outputs": [
    {
     "name": "stdout",
     "output_type": "stream",
     "text": [
      "Krishna\n"
     ]
    }
   ],
   "source": [
    "print(a)"
   ]
  },
  {
   "cell_type": "code",
   "execution_count": 60,
   "id": "5c05a80b-fdc0-4251-bd47-5e9262c4b1d8",
   "metadata": {},
   "outputs": [],
   "source": [
    "username=\" tuSharchabra121@gmail.com  \""
   ]
  },
  {
   "cell_type": "code",
   "execution_count": 61,
   "id": "e84ca599-b64a-4d32-8583-11ed44a66284",
   "metadata": {},
   "outputs": [],
   "source": [
    "password=\" tushar123@ \""
   ]
  },
  {
   "cell_type": "code",
   "execution_count": 74,
   "id": "9f7d4183-f87b-4eba-af21-7b1af1defab8",
   "metadata": {},
   "outputs": [
    {
     "data": {
      "text/plain": [
       "'tusharchabra121@gmail.com'"
      ]
     },
     "execution_count": 74,
     "metadata": {},
     "output_type": "execute_result"
    }
   ],
   "source": [
    "username.casefold().strip()"
   ]
  },
  {
   "cell_type": "code",
   "execution_count": null,
   "id": "8659241d-5ec1-48a9-9cb0-1a87d567531d",
   "metadata": {},
   "outputs": [],
   "source": []
  }
 ],
 "metadata": {
  "kernelspec": {
   "display_name": "Python 3 (ipykernel)",
   "language": "python",
   "name": "python3"
  },
  "language_info": {
   "codemirror_mode": {
    "name": "ipython",
    "version": 3
   },
   "file_extension": ".py",
   "mimetype": "text/x-python",
   "name": "python",
   "nbconvert_exporter": "python",
   "pygments_lexer": "ipython3",
   "version": "3.12.0"
  }
 },
 "nbformat": 4,
 "nbformat_minor": 5
}
