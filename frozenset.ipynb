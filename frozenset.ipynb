{
 "cells": [
  {
   "cell_type": "markdown",
   "id": "49785bff-a11a-4207-a9c8-604ffe620a01",
   "metadata": {},
   "source": [
    "# frozenset datatype\n",
    "\n",
    "> frozenset constructor is frozenset()\n",
    "\n",
    "> frozenset literal not available\n",
    "\n",
    "> frozenset is unordered set of sequence of elements.\n",
    "\n",
    "> frozenset never contain mutable datatype(unhashable)\n",
    "\n",
    "> frozenset does not support indexing slicing\n",
    "\n",
    "> frozenset does not support concatination\n",
    "\n",
    "> frozenset does support nested frozenset\n",
    "\n",
    "> frozenset is immutable(hashable)\n",
    "\n",
    "> frozenset does not support duplicat values\n",
    "\n",
    "> frozenset remove duplicate values using hashing table(beacuse it work on id of elements)\n",
    "\n",
    "> frozenset also use to check whether a datatype is mutable or immutable\n",
    "\n",
    "> frozenset methods.\n"
   ]
  },
  {
   "cell_type": "code",
   "execution_count": 5,
   "id": "1e3d8cba-af74-4bfc-99c0-99c91a5f9bbd",
   "metadata": {},
   "outputs": [
    {
     "name": "stdout",
     "output_type": "stream",
     "text": [
      "frozenset()\n",
      "0\n",
      "1770797893440\n",
      "<class 'frozenset'>\n"
     ]
    }
   ],
   "source": [
    "a=frozenset()     # frozenset constructor help to create empty frozenset\n",
    "print(a)\n",
    "print(len(a))\n",
    "print(id(a))\n",
    "print(type(a))"
   ]
  },
  {
   "cell_type": "code",
   "execution_count": 6,
   "id": "0bd7f4ca-b4c6-4965-aa97-4ee7ddf11086",
   "metadata": {},
   "outputs": [
    {
     "name": "stdout",
     "output_type": "stream",
     "text": [
      "frozenset({1, 2, 3, 4, 5, 6, 23})\n"
     ]
    }
   ],
   "source": [
    "b=frozenset([1,1,1,1,1,1,2,2,2,2,23,3,3,3,3,4,4,4,5,5,5,6,6,6])\n",
    "print(b)"
   ]
  },
  {
   "cell_type": "code",
   "execution_count": 7,
   "id": "472ccb1e-9311-4174-8da9-5e507606654e",
   "metadata": {},
   "outputs": [
    {
     "name": "stdout",
     "output_type": "stream",
     "text": [
      "frozenset({1, 2, 3, 4, 5, 6})\n"
     ]
    }
   ],
   "source": [
    "c=frozenset({1,2,1,1,1,2,2,2,2,3,3,3,4,4,4,5,5,5,6})\n",
    "print(c)"
   ]
  },
  {
   "cell_type": "code",
   "execution_count": 9,
   "id": "f19d9705-6f7f-4d50-a4b9-ce16df8acc13",
   "metadata": {},
   "outputs": [
    {
     "name": "stdout",
     "output_type": "stream",
     "text": [
      "frozenset({1, 2, 3, 4, 5})\n"
     ]
    }
   ],
   "source": [
    "d=frozenset((1,1,1,1,2,2,2,3,3,3,4,4,4,4,5,5))\n",
    "print(d)"
   ]
  },
  {
   "cell_type": "code",
   "execution_count": 10,
   "id": "f0b52e02-dd60-4783-80a9-69e19c136a21",
   "metadata": {},
   "outputs": [
    {
     "ename": "TypeError",
     "evalue": "unsupported operand type(s) for +: 'frozenset' and 'frozenset'",
     "output_type": "error",
     "traceback": [
      "\u001b[1;31m---------------------------------------------------------------------------\u001b[0m",
      "\u001b[1;31mTypeError\u001b[0m                                 Traceback (most recent call last)",
      "Cell \u001b[1;32mIn[10], line 3\u001b[0m\n\u001b[0;32m      1\u001b[0m d\u001b[38;5;241m=\u001b[39m\u001b[38;5;28mfrozenset\u001b[39m({\u001b[38;5;241m1\u001b[39m,\u001b[38;5;241m2\u001b[39m,\u001b[38;5;241m3\u001b[39m,\u001b[38;5;241m4\u001b[39m})\n\u001b[0;32m      2\u001b[0m e\u001b[38;5;241m=\u001b[39m\u001b[38;5;28mfrozenset\u001b[39m({\u001b[38;5;241m3\u001b[39m,\u001b[38;5;241m4\u001b[39m,\u001b[38;5;241m5\u001b[39m,\u001b[38;5;241m6\u001b[39m})\n\u001b[1;32m----> 3\u001b[0m \u001b[38;5;28mprint\u001b[39m(\u001b[43md\u001b[49m\u001b[38;5;241;43m+\u001b[39;49m\u001b[43me\u001b[49m)\n",
      "\u001b[1;31mTypeError\u001b[0m: unsupported operand type(s) for +: 'frozenset' and 'frozenset'"
     ]
    }
   ],
   "source": [
    "d=frozenset({1,2,3,4})\n",
    "e=frozenset({3,4,5,6})\n",
    "print(d+e)"
   ]
  },
  {
   "cell_type": "code",
   "execution_count": 11,
   "id": "a5f45931-228b-4416-9e89-e861b2669908",
   "metadata": {},
   "outputs": [
    {
     "ename": "TypeError",
     "evalue": "unhashable type: 'list'",
     "output_type": "error",
     "traceback": [
      "\u001b[1;31m---------------------------------------------------------------------------\u001b[0m",
      "\u001b[1;31mTypeError\u001b[0m                                 Traceback (most recent call last)",
      "Cell \u001b[1;32mIn[11], line 1\u001b[0m\n\u001b[1;32m----> 1\u001b[0m a\u001b[38;5;241m=\u001b[39m\u001b[38;5;28mfrozenset\u001b[39m({[\u001b[38;5;241m1\u001b[39m,\u001b[38;5;241m2\u001b[39m,\u001b[38;5;241m3\u001b[39m,\u001b[38;5;241m4\u001b[39m]})\n\u001b[0;32m      2\u001b[0m \u001b[38;5;28mprint\u001b[39m(a)\n",
      "\u001b[1;31mTypeError\u001b[0m: unhashable type: 'list'"
     ]
    }
   ],
   "source": [
    "a=frozenset({[1,2,3,4]})\n",
    "print(a)"
   ]
  },
  {
   "cell_type": "code",
   "execution_count": 12,
   "id": "32ce494b-d77e-44ae-b867-5fc27136668d",
   "metadata": {},
   "outputs": [
    {
     "name": "stdout",
     "output_type": "stream",
     "text": [
      "frozenset({1})\n"
     ]
    }
   ],
   "source": [
    "a=frozenset({1})\n",
    "print(a)"
   ]
  },
  {
   "cell_type": "code",
   "execution_count": 13,
   "id": "4a411ac7-e213-44ea-a046-4c5b4441c893",
   "metadata": {},
   "outputs": [
    {
     "name": "stdout",
     "output_type": "stream",
     "text": [
      "frozenset({10.22})\n"
     ]
    }
   ],
   "source": [
    "b=frozenset({10.22})\n",
    "print(b)"
   ]
  },
  {
   "cell_type": "code",
   "execution_count": 14,
   "id": "9b7e19c1-a781-4925-96fc-7165338bc2b4",
   "metadata": {},
   "outputs": [
    {
     "name": "stdout",
     "output_type": "stream",
     "text": [
      "frozenset({'krishna'})\n"
     ]
    }
   ],
   "source": [
    "c=frozenset({\"krishna\"})\n",
    "print(c)"
   ]
  },
  {
   "cell_type": "code",
   "execution_count": 15,
   "id": "4980d85c-c421-4d1d-97f8-7bddbe6b2456",
   "metadata": {},
   "outputs": [
    {
     "name": "stdout",
     "output_type": "stream",
     "text": [
      "frozenset({(1, 2, 3, 4)})\n"
     ]
    }
   ],
   "source": [
    "d=frozenset({(1,2,3,4)})\n",
    "print(d)"
   ]
  },
  {
   "cell_type": "code",
   "execution_count": 19,
   "id": "9fc8780f-2fd1-45d1-8c1d-69086b8c267a",
   "metadata": {},
   "outputs": [
    {
     "name": "stdout",
     "output_type": "stream",
     "text": [
      "frozenset({1, 2, 3, frozenset({1, 2, 3, 4})})\n"
     ]
    }
   ],
   "source": [
    "e=frozenset({1,2,3,frozenset({1,2,3,4})})      # nested frozenset \n",
    "print(e)"
   ]
  },
  {
   "cell_type": "code",
   "execution_count": 20,
   "id": "b11ac7ed-3eee-4776-ab1e-b53675f07611",
   "metadata": {},
   "outputs": [
    {
     "ename": "TypeError",
     "evalue": "'frozenset' object is not subscriptable",
     "output_type": "error",
     "traceback": [
      "\u001b[1;31m---------------------------------------------------------------------------\u001b[0m",
      "\u001b[1;31mTypeError\u001b[0m                                 Traceback (most recent call last)",
      "Cell \u001b[1;32mIn[20], line 1\u001b[0m\n\u001b[1;32m----> 1\u001b[0m \u001b[43me\u001b[49m\u001b[43m[\u001b[49m\u001b[38;5;241;43m0\u001b[39;49m\u001b[43m]\u001b[49m\n",
      "\u001b[1;31mTypeError\u001b[0m: 'frozenset' object is not subscriptable"
     ]
    }
   ],
   "source": [
    "e[0]"
   ]
  },
  {
   "cell_type": "code",
   "execution_count": 21,
   "id": "be48ba89-0996-4d6f-8c59-57a4e72c3ad5",
   "metadata": {},
   "outputs": [
    {
     "name": "stdout",
     "output_type": "stream",
     "text": [
      "frozenset({1, 2, 3})\n"
     ]
    }
   ],
   "source": [
    "a=frozenset({1,2,3,4,5})\n",
    "b=frozenset({4,5,6,7,8})\n",
    "print(a-b)"
   ]
  },
  {
   "cell_type": "code",
   "execution_count": 22,
   "id": "c470348f-0b73-4ad1-9cb6-195b8ccc5113",
   "metadata": {},
   "outputs": [
    {
     "data": {
      "text/plain": [
       "frozenset({1, 2, 3})"
      ]
     },
     "execution_count": 22,
     "metadata": {},
     "output_type": "execute_result"
    }
   ],
   "source": [
    "a.difference(b)"
   ]
  },
  {
   "cell_type": "code",
   "execution_count": 23,
   "id": "16c10530-685e-4e48-bbf4-6c4be92552b0",
   "metadata": {},
   "outputs": [
    {
     "name": "stdout",
     "output_type": "stream",
     "text": [
      "frozenset({1, 2, 3, 4, 5})\n"
     ]
    }
   ],
   "source": [
    "print(a)"
   ]
  },
  {
   "cell_type": "code",
   "execution_count": 24,
   "id": "5ee5f2f2-c0a9-42e3-827a-70a4d55d38fd",
   "metadata": {},
   "outputs": [
    {
     "name": "stdout",
     "output_type": "stream",
     "text": [
      "frozenset({4, 5, 6, 7, 8})\n"
     ]
    }
   ],
   "source": [
    "print(b)"
   ]
  },
  {
   "cell_type": "code",
   "execution_count": 25,
   "id": "e09b094b-4fe1-4c38-831c-1fd6a1675476",
   "metadata": {},
   "outputs": [
    {
     "data": {
      "text/plain": [
       "frozenset({4, 5})"
      ]
     },
     "execution_count": 25,
     "metadata": {},
     "output_type": "execute_result"
    }
   ],
   "source": [
    "a.intersection(b)"
   ]
  },
  {
   "cell_type": "code",
   "execution_count": 26,
   "id": "ecd92df4-45d2-49a8-8c4d-db32f1fa2110",
   "metadata": {},
   "outputs": [
    {
     "name": "stdout",
     "output_type": "stream",
     "text": [
      "frozenset({1, 2, 3, 4, 5})\n"
     ]
    }
   ],
   "source": [
    "print(a)"
   ]
  },
  {
   "cell_type": "code",
   "execution_count": 27,
   "id": "02d45945-b7cb-4bb5-8583-c49989c30f4e",
   "metadata": {},
   "outputs": [
    {
     "name": "stdout",
     "output_type": "stream",
     "text": [
      "frozenset({4, 5, 6, 7, 8})\n"
     ]
    }
   ],
   "source": [
    "print(b)"
   ]
  },
  {
   "cell_type": "code",
   "execution_count": 28,
   "id": "1811ed5b-e021-4ed3-9837-e92614d0faee",
   "metadata": {},
   "outputs": [
    {
     "data": {
      "text/plain": [
       "False"
      ]
     },
     "execution_count": 28,
     "metadata": {},
     "output_type": "execute_result"
    }
   ],
   "source": [
    "a.isdisjoint(b)"
   ]
  },
  {
   "cell_type": "code",
   "execution_count": 29,
   "id": "44879c94-b09e-4cfa-9f32-464a5b1a84d7",
   "metadata": {},
   "outputs": [
    {
     "data": {
      "text/plain": [
       "True"
      ]
     },
     "execution_count": 29,
     "metadata": {},
     "output_type": "execute_result"
    }
   ],
   "source": [
    "a=frozenset({1,2,3})\n",
    "b=frozenset({4,5,6,7,8})\n",
    "a.isdisjoint(b)"
   ]
  },
  {
   "cell_type": "code",
   "execution_count": 30,
   "id": "5af03a12-576f-4970-99f9-ed57e93d7258",
   "metadata": {},
   "outputs": [
    {
     "data": {
      "text/plain": [
       "False"
      ]
     },
     "execution_count": 30,
     "metadata": {},
     "output_type": "execute_result"
    }
   ],
   "source": [
    "a=frozenset({1,2,3,4,5,6})\n",
    "b=frozenset({4,5,6,7,8})\n",
    "a.issuperset(b)"
   ]
  },
  {
   "cell_type": "code",
   "execution_count": 31,
   "id": "54e21311-2872-49c0-bd57-6f61c88facb5",
   "metadata": {},
   "outputs": [
    {
     "data": {
      "text/plain": [
       "True"
      ]
     },
     "execution_count": 31,
     "metadata": {},
     "output_type": "execute_result"
    }
   ],
   "source": [
    "a=frozenset({1,2,3,4,5,6,7,8,9})\n",
    "b=frozenset({4,5,6,7,8})\n",
    "a.issuperset(b)"
   ]
  },
  {
   "cell_type": "code",
   "execution_count": 32,
   "id": "2001b9c2-1695-4c6a-9ec7-bce326c1a5ef",
   "metadata": {},
   "outputs": [
    {
     "data": {
      "text/plain": [
       "False"
      ]
     },
     "execution_count": 32,
     "metadata": {},
     "output_type": "execute_result"
    }
   ],
   "source": [
    "a=frozenset({1,2,3,4,5,6,7,8,9})\n",
    "b=frozenset({4,5,6,7,8})\n",
    "a.issubset(b)"
   ]
  },
  {
   "cell_type": "code",
   "execution_count": 35,
   "id": "5d26f3ac-95a5-4cf9-898f-d125258ff964",
   "metadata": {},
   "outputs": [
    {
     "data": {
      "text/plain": [
       "False"
      ]
     },
     "execution_count": 35,
     "metadata": {},
     "output_type": "execute_result"
    }
   ],
   "source": [
    "a=frozenset({1,2,3,4,5})\n",
    "b=frozenset({4,5,6,7,8})\n",
    "b.issubset(a)"
   ]
  },
  {
   "cell_type": "code",
   "execution_count": 36,
   "id": "a280fc37-2028-4abe-ae43-241dcc88e23b",
   "metadata": {},
   "outputs": [
    {
     "data": {
      "text/plain": [
       "frozenset({1, 2, 3, 6, 7, 8})"
      ]
     },
     "execution_count": 36,
     "metadata": {},
     "output_type": "execute_result"
    }
   ],
   "source": [
    "a.symmetric_difference(b)"
   ]
  },
  {
   "cell_type": "code",
   "execution_count": 37,
   "id": "06e8739a-6a31-48bc-b572-cc5cef045d62",
   "metadata": {},
   "outputs": [
    {
     "data": {
      "text/plain": [
       "frozenset({1, 2, 3, 4, 5, 6, 7, 8})"
      ]
     },
     "execution_count": 37,
     "metadata": {},
     "output_type": "execute_result"
    }
   ],
   "source": [
    "a.union(b)"
   ]
  },
  {
   "cell_type": "raw",
   "id": "1a62d798-4876-4428-a449-f0af9429af5e",
   "metadata": {},
   "source": [
    "# python is static typed language of dynamic typed language\n",
    "Answer: Python is dynamic typed language beacuse no need to define datatype before assigning. "
   ]
  },
  {
   "cell_type": "code",
   "execution_count": null,
   "id": "cedfa95d-657b-4d53-b5c1-f5645646e68d",
   "metadata": {},
   "outputs": [],
   "source": []
  }
 ],
 "metadata": {
  "kernelspec": {
   "display_name": "Python 3 (ipykernel)",
   "language": "python",
   "name": "python3"
  },
  "language_info": {
   "codemirror_mode": {
    "name": "ipython",
    "version": 3
   },
   "file_extension": ".py",
   "mimetype": "text/x-python",
   "name": "python",
   "nbconvert_exporter": "python",
   "pygments_lexer": "ipython3",
   "version": "3.12.0"
  }
 },
 "nbformat": 4,
 "nbformat_minor": 5
}
