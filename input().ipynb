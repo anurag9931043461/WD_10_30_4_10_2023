{
 "cells": [
  {
   "cell_type": "markdown",
   "id": "7082794b-2870-40d4-9f88-c61b4e17c54f",
   "metadata": {},
   "source": [
    "# input() \n",
    "\n",
    "> it is used to intract with a machine using python.\n",
    "\n",
    "> bydefault datatype is string \n",
    "\n",
    "> it help us to accept input from the user and stored it in a variable."
   ]
  },
  {
   "cell_type": "code",
   "execution_count": 2,
   "id": "ba68cdee-d558-4d41-ab3d-fc004ebfb9ec",
   "metadata": {},
   "outputs": [
    {
     "name": "stdin",
     "output_type": "stream",
     "text": [
      " krishna\n"
     ]
    },
    {
     "data": {
      "text/plain": [
       "'krishna'"
      ]
     },
     "execution_count": 2,
     "metadata": {},
     "output_type": "execute_result"
    }
   ],
   "source": [
    "input()"
   ]
  },
  {
   "cell_type": "code",
   "execution_count": 4,
   "id": "8f53b8c0-dc4a-46d5-9571-d418bc233304",
   "metadata": {},
   "outputs": [
    {
     "name": "stdin",
     "output_type": "stream",
     "text": [
      "kindly enter you 4 digit atm pin:  9807\n"
     ]
    },
    {
     "data": {
      "text/plain": [
       "'hello world'"
      ]
     },
     "execution_count": 4,
     "metadata": {},
     "output_type": "execute_result"
    }
   ],
   "source": [
    "input(\"kindly enter you 4 digit atm pin: \")\n",
    "\"hello world\""
   ]
  },
  {
   "cell_type": "code",
   "execution_count": 5,
   "id": "3e8043f7-2524-4430-b5a3-662956b377ee",
   "metadata": {},
   "outputs": [
    {
     "name": "stdin",
     "output_type": "stream",
     "text": [
      "kindly enter you 4 digit atm pin:  9807\n"
     ]
    },
    {
     "data": {
      "text/plain": [
       "'9807'"
      ]
     },
     "execution_count": 5,
     "metadata": {},
     "output_type": "execute_result"
    }
   ],
   "source": [
    "input(\"kindly enter you 4 digit atm pin: \")\n"
   ]
  },
  {
   "cell_type": "code",
   "execution_count": 10,
   "id": "5f4f6d9d-8f1d-4ce4-8e0c-beea9c8004e7",
   "metadata": {},
   "outputs": [
    {
     "name": "stdin",
     "output_type": "stream",
     "text": [
      "kindly enter you 4 digit atm pin  9807\n"
     ]
    }
   ],
   "source": [
    "pin=input(\"kindly enter you 4 digit atm pin \")\n"
   ]
  },
  {
   "cell_type": "code",
   "execution_count": 11,
   "id": "7e0092ad-0981-4276-a0f5-361623aad7b4",
   "metadata": {},
   "outputs": [
    {
     "name": "stdout",
     "output_type": "stream",
     "text": [
      "9807\n"
     ]
    }
   ],
   "source": [
    "print(pin)"
   ]
  },
  {
   "cell_type": "code",
   "execution_count": 12,
   "id": "c2c9dfaf-4ddf-4279-be0d-45264ce05832",
   "metadata": {},
   "outputs": [
    {
     "name": "stdout",
     "output_type": "stream",
     "text": [
      "<class 'str'>\n"
     ]
    }
   ],
   "source": [
    "print(type(pin))"
   ]
  },
  {
   "cell_type": "code",
   "execution_count": null,
   "id": "f6042872-9ed7-4948-b823-d619ddb3951a",
   "metadata": {},
   "outputs": [],
   "source": []
  }
 ],
 "metadata": {
  "kernelspec": {
   "display_name": "Python 3 (ipykernel)",
   "language": "python",
   "name": "python3"
  },
  "language_info": {
   "codemirror_mode": {
    "name": "ipython",
    "version": 3
   },
   "file_extension": ".py",
   "mimetype": "text/x-python",
   "name": "python",
   "nbconvert_exporter": "python",
   "pygments_lexer": "ipython3",
   "version": "3.12.0"
  }
 },
 "nbformat": 4,
 "nbformat_minor": 5
}
